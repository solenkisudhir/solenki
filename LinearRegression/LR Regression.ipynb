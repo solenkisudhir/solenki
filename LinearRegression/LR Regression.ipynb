{
 "cells": [
  {
   "cell_type": "code",
   "execution_count": 3,
   "metadata": {},
   "outputs": [],
   "source": [
    "import pandas as pd\n",
    "import numpy as np\n",
    "import matplotlib.pyplot as plt\n",
    "import seaborn as sns\n",
    "%matplotlib inline"
   ]
  },
  {
   "cell_type": "code",
   "execution_count": 4,
   "metadata": {},
   "outputs": [],
   "source": [
    "SalaryData = pd.read_csv('SalaryData.csv')"
   ]
  },
  {
   "cell_type": "code",
   "execution_count": 3,
   "metadata": {},
   "outputs": [
    {
     "data": {
      "text/html": [
       "<div>\n",
       "<style scoped>\n",
       "    .dataframe tbody tr th:only-of-type {\n",
       "        vertical-align: middle;\n",
       "    }\n",
       "\n",
       "    .dataframe tbody tr th {\n",
       "        vertical-align: top;\n",
       "    }\n",
       "\n",
       "    .dataframe thead th {\n",
       "        text-align: right;\n",
       "    }\n",
       "</style>\n",
       "<table border=\"1\" class=\"dataframe\">\n",
       "  <thead>\n",
       "    <tr style=\"text-align: right;\">\n",
       "      <th></th>\n",
       "      <th>Temperature</th>\n",
       "      <th>Revenue</th>\n",
       "    </tr>\n",
       "  </thead>\n",
       "  <tbody>\n",
       "    <tr>\n",
       "      <th>0</th>\n",
       "      <td>24.566884</td>\n",
       "      <td>534.799028</td>\n",
       "    </tr>\n",
       "    <tr>\n",
       "      <th>1</th>\n",
       "      <td>26.005191</td>\n",
       "      <td>625.190122</td>\n",
       "    </tr>\n",
       "    <tr>\n",
       "      <th>2</th>\n",
       "      <td>27.790554</td>\n",
       "      <td>660.632289</td>\n",
       "    </tr>\n",
       "    <tr>\n",
       "      <th>3</th>\n",
       "      <td>20.595335</td>\n",
       "      <td>487.706960</td>\n",
       "    </tr>\n",
       "    <tr>\n",
       "      <th>4</th>\n",
       "      <td>11.503498</td>\n",
       "      <td>316.240194</td>\n",
       "    </tr>\n",
       "    <tr>\n",
       "      <th>...</th>\n",
       "      <td>...</td>\n",
       "      <td>...</td>\n",
       "    </tr>\n",
       "    <tr>\n",
       "      <th>95</th>\n",
       "      <td>9.018860</td>\n",
       "      <td>212.591740</td>\n",
       "    </tr>\n",
       "    <tr>\n",
       "      <th>96</th>\n",
       "      <td>20.265012</td>\n",
       "      <td>474.749392</td>\n",
       "    </tr>\n",
       "    <tr>\n",
       "      <th>97</th>\n",
       "      <td>19.363153</td>\n",
       "      <td>460.402500</td>\n",
       "    </tr>\n",
       "    <tr>\n",
       "      <th>98</th>\n",
       "      <td>14.685945</td>\n",
       "      <td>343.362905</td>\n",
       "    </tr>\n",
       "    <tr>\n",
       "      <th>99</th>\n",
       "      <td>9.954357</td>\n",
       "      <td>283.834327</td>\n",
       "    </tr>\n",
       "  </tbody>\n",
       "</table>\n",
       "<p>100 rows × 2 columns</p>\n",
       "</div>"
      ],
      "text/plain": [
       "    Temperature     Revenue\n",
       "0     24.566884  534.799028\n",
       "1     26.005191  625.190122\n",
       "2     27.790554  660.632289\n",
       "3     20.595335  487.706960\n",
       "4     11.503498  316.240194\n",
       "..          ...         ...\n",
       "95     9.018860  212.591740\n",
       "96    20.265012  474.749392\n",
       "97    19.363153  460.402500\n",
       "98    14.685945  343.362905\n",
       "99     9.954357  283.834327\n",
       "\n",
       "[100 rows x 2 columns]"
      ]
     },
     "execution_count": 3,
     "metadata": {},
     "output_type": "execute_result"
    }
   ],
   "source": [
    "SalaryData.head(100)"
   ]
  },
  {
   "cell_type": "code",
   "execution_count": 44,
   "metadata": {},
   "outputs": [
    {
     "data": {
      "text/html": [
       "<div>\n",
       "<style scoped>\n",
       "    .dataframe tbody tr th:only-of-type {\n",
       "        vertical-align: middle;\n",
       "    }\n",
       "\n",
       "    .dataframe tbody tr th {\n",
       "        vertical-align: top;\n",
       "    }\n",
       "\n",
       "    .dataframe thead th {\n",
       "        text-align: right;\n",
       "    }\n",
       "</style>\n",
       "<table border=\"1\" class=\"dataframe\">\n",
       "  <thead>\n",
       "    <tr style=\"text-align: right;\">\n",
       "      <th></th>\n",
       "      <th>Temperature</th>\n",
       "      <th>Revenue</th>\n",
       "    </tr>\n",
       "  </thead>\n",
       "  <tbody>\n",
       "    <tr>\n",
       "      <th>495</th>\n",
       "      <td>22.274899</td>\n",
       "      <td>524.746364</td>\n",
       "    </tr>\n",
       "    <tr>\n",
       "      <th>496</th>\n",
       "      <td>32.893092</td>\n",
       "      <td>755.818399</td>\n",
       "    </tr>\n",
       "    <tr>\n",
       "      <th>497</th>\n",
       "      <td>12.588157</td>\n",
       "      <td>306.090719</td>\n",
       "    </tr>\n",
       "    <tr>\n",
       "      <th>498</th>\n",
       "      <td>22.362402</td>\n",
       "      <td>566.217304</td>\n",
       "    </tr>\n",
       "    <tr>\n",
       "      <th>499</th>\n",
       "      <td>28.957736</td>\n",
       "      <td>655.660388</td>\n",
       "    </tr>\n",
       "  </tbody>\n",
       "</table>\n",
       "</div>"
      ],
      "text/plain": [
       "     Temperature     Revenue\n",
       "495    22.274899  524.746364\n",
       "496    32.893092  755.818399\n",
       "497    12.588157  306.090719\n",
       "498    22.362402  566.217304\n",
       "499    28.957736  655.660388"
      ]
     },
     "execution_count": 44,
     "metadata": {},
     "output_type": "execute_result"
    }
   ],
   "source": [
    "SalaryData.tail()"
   ]
  },
  {
   "cell_type": "code",
   "execution_count": 45,
   "metadata": {},
   "outputs": [
    {
     "data": {
      "text/html": [
       "<div>\n",
       "<style scoped>\n",
       "    .dataframe tbody tr th:only-of-type {\n",
       "        vertical-align: middle;\n",
       "    }\n",
       "\n",
       "    .dataframe tbody tr th {\n",
       "        vertical-align: top;\n",
       "    }\n",
       "\n",
       "    .dataframe thead th {\n",
       "        text-align: right;\n",
       "    }\n",
       "</style>\n",
       "<table border=\"1\" class=\"dataframe\">\n",
       "  <thead>\n",
       "    <tr style=\"text-align: right;\">\n",
       "      <th></th>\n",
       "      <th>Temperature</th>\n",
       "      <th>Revenue</th>\n",
       "    </tr>\n",
       "  </thead>\n",
       "  <tbody>\n",
       "    <tr>\n",
       "      <th>count</th>\n",
       "      <td>500.000000</td>\n",
       "      <td>500.000000</td>\n",
       "    </tr>\n",
       "    <tr>\n",
       "      <th>mean</th>\n",
       "      <td>22.232225</td>\n",
       "      <td>521.570777</td>\n",
       "    </tr>\n",
       "    <tr>\n",
       "      <th>std</th>\n",
       "      <td>8.096388</td>\n",
       "      <td>175.404751</td>\n",
       "    </tr>\n",
       "    <tr>\n",
       "      <th>min</th>\n",
       "      <td>0.000000</td>\n",
       "      <td>10.000000</td>\n",
       "    </tr>\n",
       "    <tr>\n",
       "      <th>25%</th>\n",
       "      <td>17.122258</td>\n",
       "      <td>405.558681</td>\n",
       "    </tr>\n",
       "    <tr>\n",
       "      <th>50%</th>\n",
       "      <td>22.392791</td>\n",
       "      <td>529.368565</td>\n",
       "    </tr>\n",
       "    <tr>\n",
       "      <th>75%</th>\n",
       "      <td>27.740674</td>\n",
       "      <td>642.257922</td>\n",
       "    </tr>\n",
       "    <tr>\n",
       "      <th>max</th>\n",
       "      <td>45.000000</td>\n",
       "      <td>1000.000000</td>\n",
       "    </tr>\n",
       "  </tbody>\n",
       "</table>\n",
       "</div>"
      ],
      "text/plain": [
       "       Temperature      Revenue\n",
       "count   500.000000   500.000000\n",
       "mean     22.232225   521.570777\n",
       "std       8.096388   175.404751\n",
       "min       0.000000    10.000000\n",
       "25%      17.122258   405.558681\n",
       "50%      22.392791   529.368565\n",
       "75%      27.740674   642.257922\n",
       "max      45.000000  1000.000000"
      ]
     },
     "execution_count": 45,
     "metadata": {},
     "output_type": "execute_result"
    }
   ],
   "source": [
    "SalaryData.describe()"
   ]
  },
  {
   "cell_type": "code",
   "execution_count": 46,
   "metadata": {},
   "outputs": [
    {
     "name": "stdout",
     "output_type": "stream",
     "text": [
      "<class 'pandas.core.frame.DataFrame'>\n",
      "RangeIndex: 500 entries, 0 to 499\n",
      "Data columns (total 2 columns):\n",
      " #   Column       Non-Null Count  Dtype  \n",
      "---  ------       --------------  -----  \n",
      " 0   Temperature  500 non-null    float64\n",
      " 1   Revenue      500 non-null    float64\n",
      "dtypes: float64(2)\n",
      "memory usage: 7.9 KB\n"
     ]
    }
   ],
   "source": [
    "SalaryData.info()"
   ]
  },
  {
   "cell_type": "code",
   "execution_count": 47,
   "metadata": {},
   "outputs": [
    {
     "data": {
      "text/plain": [
       "<seaborn.axisgrid.JointGrid at 0x2761a5c1d48>"
      ]
     },
     "execution_count": 47,
     "metadata": {},
     "output_type": "execute_result"
    },
    {
     "data": {
      "image/png": "[encoded data removed]",
      "text/plain": [
       "<Figure size 432x432 with 3 Axes>"
      ]
     },
     "metadata": {
      "needs_background": "light"
     },
     "output_type": "display_data"
    }
   ],
   "source": [
    "sns.jointplot(x='Temperature', y='Revenue',data=SalaryData)"
   ]
  },
  {
   "cell_type": "code",
   "execution_count": 49,
   "metadata": {},
   "outputs": [
    {
     "data": {
      "text/plain": [
       "<seaborn.axisgrid.PairGrid at 0x2761aa70988>"
      ]
     },
     "execution_count": 49,
     "metadata": {},
     "output_type": "execute_result"
    },
    {
     "data": {
      "image/png": "[encoded data removed]",
      "text/plain": [
       "<Figure size 360x360 with 6 Axes>"
      ]
     },
     "metadata": {
      "needs_background": "light"
     },
     "output_type": "display_data"
    }
   ],
   "source": [
    "sns.pairplot(SalaryData)"
   ]
  },
  {
   "cell_type": "code",
   "execution_count": 50,
   "metadata": {},
   "outputs": [
    {
     "data": {
      "text/plain": [
       "<seaborn.axisgrid.FacetGrid at 0x2761bc55248>"
      ]
     },
     "execution_count": 50,
     "metadata": {},
     "output_type": "execute_result"
    },
    {
     "data": {
      "image/png": "[encoded data removed]",
      "text/plain": [
       "<Figure size 360x360 with 1 Axes>"
      ]
     },
     "metadata": {
      "needs_background": "light"
     },
     "output_type": "display_data"
    }
   ],
   "source": [
    "sns.lmplot(x='Temperature', y='Revenue', data=SalaryData)"
   ]
  },
  {
   "cell_type": "code",
   "execution_count": 51,
   "metadata": {},
   "outputs": [],
   "source": [
    "y = SalaryData['Revenue']"
   ]
  },
  {
   "cell_type": "code",
   "execution_count": 52,
   "metadata": {},
   "outputs": [],
   "source": [
    "X = SalaryData[['Temperature']]"
   ]
  },
  {
   "cell_type": "code",
   "execution_count": 53,
   "metadata": {},
   "outputs": [
    {
     "data": {
      "text/html": [
       "<div>\n",
       "<style scoped>\n",
       "    .dataframe tbody tr th:only-of-type {\n",
       "        vertical-align: middle;\n",
       "    }\n",
       "\n",
       "    .dataframe tbody tr th {\n",
       "        vertical-align: top;\n",
       "    }\n",
       "\n",
       "    .dataframe thead th {\n",
       "        text-align: right;\n",
       "    }\n",
       "</style>\n",
       "<table border=\"1\" class=\"dataframe\">\n",
       "  <thead>\n",
       "    <tr style=\"text-align: right;\">\n",
       "      <th></th>\n",
       "      <th>Temperature</th>\n",
       "    </tr>\n",
       "  </thead>\n",
       "  <tbody>\n",
       "    <tr>\n",
       "      <th>0</th>\n",
       "      <td>24.566884</td>\n",
       "    </tr>\n",
       "    <tr>\n",
       "      <th>1</th>\n",
       "      <td>26.005191</td>\n",
       "    </tr>\n",
       "    <tr>\n",
       "      <th>2</th>\n",
       "      <td>27.790554</td>\n",
       "    </tr>\n",
       "    <tr>\n",
       "      <th>3</th>\n",
       "      <td>20.595335</td>\n",
       "    </tr>\n",
       "    <tr>\n",
       "      <th>4</th>\n",
       "      <td>11.503498</td>\n",
       "    </tr>\n",
       "    <tr>\n",
       "      <th>...</th>\n",
       "      <td>...</td>\n",
       "    </tr>\n",
       "    <tr>\n",
       "      <th>495</th>\n",
       "      <td>22.274899</td>\n",
       "    </tr>\n",
       "    <tr>\n",
       "      <th>496</th>\n",
       "      <td>32.893092</td>\n",
       "    </tr>\n",
       "    <tr>\n",
       "      <th>497</th>\n",
       "      <td>12.588157</td>\n",
       "    </tr>\n",
       "    <tr>\n",
       "      <th>498</th>\n",
       "      <td>22.362402</td>\n",
       "    </tr>\n",
       "    <tr>\n",
       "      <th>499</th>\n",
       "      <td>28.957736</td>\n",
       "    </tr>\n",
       "  </tbody>\n",
       "</table>\n",
       "<p>500 rows × 1 columns</p>\n",
       "</div>"
      ],
      "text/plain": [
       "     Temperature\n",
       "0      24.566884\n",
       "1      26.005191\n",
       "2      27.790554\n",
       "3      20.595335\n",
       "4      11.503498\n",
       "..           ...\n",
       "495    22.274899\n",
       "496    32.893092\n",
       "497    12.588157\n",
       "498    22.362402\n",
       "499    28.957736\n",
       "\n",
       "[500 rows x 1 columns]"
      ]
     },
     "execution_count": 53,
     "metadata": {},
     "output_type": "execute_result"
    }
   ],
   "source": [
    "X"
   ]
  },
  {
   "cell_type": "code",
   "execution_count": 28,
   "metadata": {},
   "outputs": [],
   "source": [
    "from sklearn.model_selection import train_test_split"
   ]
  },
  {
   "cell_type": "code",
   "execution_count": 29,
   "metadata": {},
   "outputs": [],
   "source": [
    "X_train, X_test, y_train, y_test = train_test_split(X, y, test_size=0.25)"
   ]
  },
  {
   "cell_type": "code",
   "execution_count": 54,
   "metadata": {},
   "outputs": [
    {
     "data": {
      "text/plain": [
       "(375, 1)"
      ]
     },
     "execution_count": 54,
     "metadata": {},
     "output_type": "execute_result"
    }
   ],
   "source": [
    "X_train.shape"
   ]
  },
  {
   "cell_type": "code",
   "execution_count": 31,
   "metadata": {},
   "outputs": [],
   "source": [
    "from sklearn.linear_model import LinearRegression"
   ]
  },
  {
   "cell_type": "code",
   "execution_count": 32,
   "metadata": {},
   "outputs": [],
   "source": [
    "regressor = LinearRegression(fit_intercept =True)"
   ]
  },
  {
   "cell_type": "code",
   "execution_count": 55,
   "metadata": {},
   "outputs": [
    {
     "data": {
      "text/plain": [
       "LinearRegression(copy_X=True, fit_intercept=True, n_jobs=None, normalize=False)"
      ]
     },
     "execution_count": 55,
     "metadata": {},
     "output_type": "execute_result"
    }
   ],
   "source": [
    "regressor.fit(X_train,y_train)"
   ]
  },
  {
   "cell_type": "code",
   "execution_count": 56,
   "metadata": {},
   "outputs": [
    {
     "name": "stdout",
     "output_type": "stream",
     "text": [
      "Linear Model Coefficient (m):  [21.38441682]\n",
      "Linear Model Coefficient (b):  46.375950417760464\n"
     ]
    }
   ],
   "source": [
    "print('Linear Model Coefficient (m): ', regressor.coef_)\n",
    "print('Linear Model Coefficient (b): ', regressor.intercept_)"
   ]
  },
  {
   "cell_type": "code",
   "execution_count": 35,
   "metadata": {},
   "outputs": [
    {
     "data": {
      "text/plain": [
       "array([494.33486359, 838.82988475, 774.76497203, 473.69792452,\n",
       "       651.52692795, 423.95716389, 265.46053356, 453.20616019,\n",
       "       559.27350766, 124.74277216, 602.48179748, 446.44580057,\n",
       "       468.81886667, 655.65569707, 394.94461701, 524.58288382,\n",
       "       589.12180074, 634.80337094, 507.00610526, 296.45681848,\n",
       "       208.06619779, 646.13195351, 545.68142991, 896.70864964,\n",
       "       531.3437325 , 570.9111607 , 757.4270326 , 596.3395818 ,\n",
       "       448.65583664, 635.07252612, 170.88313215, 582.18990346,\n",
       "       400.4129956 , 679.12973623, 440.70420377, 673.04712363,\n",
       "       353.48663059, 612.12316816, 501.47731313, 808.27973286,\n",
       "       554.5004004 , 636.00763053, 283.26916517, 550.55876759,\n",
       "       233.6179903 , 558.8295383 , 510.0847479 , 530.07682641,\n",
       "       891.34172258, 576.25346382, 478.90615633, 673.19624465,\n",
       "       526.41406436, 353.97118757, 730.77063295, 256.21076437,\n",
       "       436.28289454, 203.24016402, 567.0673385 , 353.8773844 ,\n",
       "       650.95115103, 465.8927764 , 585.85717976, 171.65557858,\n",
       "       528.09735028, 458.06133785, 583.46845828, 631.78293626,\n",
       "       572.75847407, 317.71061886, 386.74482333, 176.69038831,\n",
       "       660.13600953, 477.34348601, 626.49516147, 493.23796576,\n",
       "       704.21920385, 607.73284218, 267.19976496, 252.76754777,\n",
       "       282.86827985, 600.98882282, 201.65565122, 588.11636641,\n",
       "       438.71198295, 381.28723104, 534.83816818, 557.07270752,\n",
       "       605.07038563, 512.04189891, 452.21583352, 479.285289  ,\n",
       "       525.34363252, 541.48939264, 417.6250794 , 455.11026908,\n",
       "       520.49410848, 522.91806313, 613.70920695, 737.83696423,\n",
       "       671.00866778, 250.75272162, 536.94125308, 198.36550068,\n",
       "       911.88860545, 332.16399377, 654.47534462, 749.77554263,\n",
       "       457.02026574, 697.05653407, 396.33075534, 670.48111015,\n",
       "       351.39344795, 872.43164594, 546.9264901 , 740.93741085,\n",
       "       240.41468968, 451.66455223, 898.74589727, 600.77061324,\n",
       "       428.54112042, 725.07285218, 801.91323293, 571.72444685,\n",
       "       546.45362804])"
      ]
     },
     "execution_count": 35,
     "metadata": {},
     "output_type": "execute_result"
    }
   ],
   "source": [
    "y_predict = regressor.predict( X_test)\n",
    "y_predict"
   ]
  },
  {
   "cell_type": "code",
   "execution_count": 57,
   "metadata": {},
   "outputs": [
    {
     "data": {
      "text/plain": [
       "46     500.925064\n",
       "35     870.765916\n",
       "338    771.789537\n",
       "427    541.293663\n",
       "318    639.538012\n",
       "          ...    \n",
       "381    440.677829\n",
       "38     740.935685\n",
       "458    804.260025\n",
       "0      534.799028\n",
       "241    506.432135\n",
       "Name: Revenue, Length: 125, dtype: float64"
      ]
     },
     "execution_count": 57,
     "metadata": {},
     "output_type": "execute_result"
    }
   ],
   "source": [
    "y_test"
   ]
  },
  {
   "cell_type": "code",
   "execution_count": null,
   "metadata": {},
   "outputs": [],
   "source": []
  },
  {
   "cell_type": "code",
   "execution_count": 58,
   "metadata": {},
   "outputs": [
    {
     "data": {
      "text/plain": [
       "Text(0.5, 1.0, 'Revenue Generated vs. Temperature @Ice Cream Stand(Training dataset)')"
      ]
     },
     "execution_count": 58,
     "metadata": {},
     "output_type": "execute_result"
    },
    {
     "data": {
      "image/png": "[encoded data removed]",
      "text/plain": [
       "<Figure size 432x288 with 1 Axes>"
      ]
     },
     "metadata": {
      "needs_background": "light"
     },
     "output_type": "display_data"
    }
   ],
   "source": [
    "plt.scatter(X_train, y_train, color = 'red')\n",
    "plt.plot(X_train, regressor.predict(X_train), color = 'blue')\n",
    "plt.ylabel('Revenue [dollars]')\n",
    "plt.xlabel('Temperature [degC]')\n",
    "plt.title('Revenue Generated vs. Temperature @Ice Cream Stand(Training dataset)')"
   ]
  },
  {
   "cell_type": "code",
   "execution_count": 61,
   "metadata": {},
   "outputs": [
    {
     "data": {
      "text/plain": [
       "LinearRegression(copy_X=True, fit_intercept=True, n_jobs=None, normalize=False)"
      ]
     },
     "execution_count": 61,
     "metadata": {},
     "output_type": "execute_result"
    }
   ],
   "source": [
    "regressor.fit(X_train, y_train)"
   ]
  },
  {
   "cell_type": "code",
   "execution_count": 63,
   "metadata": {},
   "outputs": [],
   "source": [
    "y_pred = regressor.predict(X_test)"
   ]
  },
  {
   "cell_type": "code",
   "execution_count": 64,
   "metadata": {},
   "outputs": [
    {
     "data": {
      "text/plain": [
       "[<matplotlib.lines.Line2D at 0x2761bd460c8>]"
      ]
     },
     "execution_count": 64,
     "metadata": {},
     "output_type": "execute_result"
    },
    {
     "data": {
      "image/png": "[encoded data removed]",
      "text/plain": [
       "<Figure size 432x288 with 1 Axes>"
      ]
     },
     "metadata": {
      "needs_background": "light"
     },
     "output_type": "display_data"
    }
   ],
   "source": [
    "plt.scatter(X_train, y_train, color = 'red')\n",
    "plt.plot(X_train, regressor.predict(X_train), color = 'blue')"
   ]
  },
  {
   "cell_type": "code",
   "execution_count": null,
   "metadata": {},
   "outputs": [],
   "source": []
  },
  {
   "cell_type": "code",
   "execution_count": null,
   "metadata": {},
   "outputs": [],
   "source": []
  },
  {
   "cell_type": "code",
   "execution_count": 38,
   "metadata": {},
   "outputs": [
    {
     "data": {
      "text/plain": [
       "Text(0.5, 1.0, 'Revenue Generated vs. Hours @Ice Cream Stand(Test dataset)')"
      ]
     },
     "execution_count": 38,
     "metadata": {},
     "output_type": "execute_result"
    },
    {
     "data": {
      "image/png": "[encoded data removed]",
      "text/plain": [
       "<Figure size 432x288 with 1 Axes>"
      ]
     },
     "metadata": {
      "needs_background": "light"
     },
     "output_type": "display_data"
    }
   ],
   "source": [
    "# VISUALIZE TEST SET RESULTS\n",
    "plt.scatter(X_test, y_test, color = 'red')\n",
    "plt.plot(X_test, regressor.predict(X_test), color = 'blue')\n",
    "plt.ylabel('Revenue [dollars]')\n",
    "plt.xlabel('Hours')\n",
    "plt.title('Revenue Generated vs. Hours @Ice Cream Stand(Test dataset)')"
   ]
  },
  {
   "cell_type": "code",
   "execution_count": 65,
   "metadata": {},
   "outputs": [
    {
     "data": {
      "text/plain": [
       "array([494.33486359, 838.82988475, 774.76497203, 473.69792452,\n",
       "       651.52692795, 423.95716389, 265.46053356, 453.20616019,\n",
       "       559.27350766, 124.74277216, 602.48179748, 446.44580057,\n",
       "       468.81886667, 655.65569707, 394.94461701, 524.58288382,\n",
       "       589.12180074, 634.80337094, 507.00610526, 296.45681848,\n",
       "       208.06619779, 646.13195351, 545.68142991, 896.70864964,\n",
       "       531.3437325 , 570.9111607 , 757.4270326 , 596.3395818 ,\n",
       "       448.65583664, 635.07252612, 170.88313215, 582.18990346,\n",
       "       400.4129956 , 679.12973623, 440.70420377, 673.04712363,\n",
       "       353.48663059, 612.12316816, 501.47731313, 808.27973286,\n",
       "       554.5004004 , 636.00763053, 283.26916517, 550.55876759,\n",
       "       233.6179903 , 558.8295383 , 510.0847479 , 530.07682641,\n",
       "       891.34172258, 576.25346382, 478.90615633, 673.19624465,\n",
       "       526.41406436, 353.97118757, 730.77063295, 256.21076437,\n",
       "       436.28289454, 203.24016402, 567.0673385 , 353.8773844 ,\n",
       "       650.95115103, 465.8927764 , 585.85717976, 171.65557858,\n",
       "       528.09735028, 458.06133785, 583.46845828, 631.78293626,\n",
       "       572.75847407, 317.71061886, 386.74482333, 176.69038831,\n",
       "       660.13600953, 477.34348601, 626.49516147, 493.23796576,\n",
       "       704.21920385, 607.73284218, 267.19976496, 252.76754777,\n",
       "       282.86827985, 600.98882282, 201.65565122, 588.11636641,\n",
       "       438.71198295, 381.28723104, 534.83816818, 557.07270752,\n",
       "       605.07038563, 512.04189891, 452.21583352, 479.285289  ,\n",
       "       525.34363252, 541.48939264, 417.6250794 , 455.11026908,\n",
       "       520.49410848, 522.91806313, 613.70920695, 737.83696423,\n",
       "       671.00866778, 250.75272162, 536.94125308, 198.36550068,\n",
       "       911.88860545, 332.16399377, 654.47534462, 749.77554263,\n",
       "       457.02026574, 697.05653407, 396.33075534, 670.48111015,\n",
       "       351.39344795, 872.43164594, 546.9264901 , 740.93741085,\n",
       "       240.41468968, 451.66455223, 898.74589727, 600.77061324,\n",
       "       428.54112042, 725.07285218, 801.91323293, 571.72444685,\n",
       "       546.45362804])"
      ]
     },
     "execution_count": 65,
     "metadata": {},
     "output_type": "execute_result"
    }
   ],
   "source": [
    "y_predict = regressor.predict(X_test)\n",
    "y_predict"
   ]
  },
  {
   "cell_type": "code",
   "execution_count": 42,
   "metadata": {},
   "outputs": [],
   "source": [
    "Sample_T = 35"
   ]
  },
  {
   "cell_type": "code",
   "execution_count": 66,
   "metadata": {},
   "outputs": [
    {
     "data": {
      "text/plain": [
       "array([494.33486359, 838.82988475, 774.76497203, 473.69792452,\n",
       "       651.52692795, 423.95716389, 265.46053356, 453.20616019,\n",
       "       559.27350766, 124.74277216, 602.48179748, 446.44580057,\n",
       "       468.81886667, 655.65569707, 394.94461701, 524.58288382,\n",
       "       589.12180074, 634.80337094, 507.00610526, 296.45681848,\n",
       "       208.06619779, 646.13195351, 545.68142991, 896.70864964,\n",
       "       531.3437325 , 570.9111607 , 757.4270326 , 596.3395818 ,\n",
       "       448.65583664, 635.07252612, 170.88313215, 582.18990346,\n",
       "       400.4129956 , 679.12973623, 440.70420377, 673.04712363,\n",
       "       353.48663059, 612.12316816, 501.47731313, 808.27973286,\n",
       "       554.5004004 , 636.00763053, 283.26916517, 550.55876759,\n",
       "       233.6179903 , 558.8295383 , 510.0847479 , 530.07682641,\n",
       "       891.34172258, 576.25346382, 478.90615633, 673.19624465,\n",
       "       526.41406436, 353.97118757, 730.77063295, 256.21076437,\n",
       "       436.28289454, 203.24016402, 567.0673385 , 353.8773844 ,\n",
       "       650.95115103, 465.8927764 , 585.85717976, 171.65557858,\n",
       "       528.09735028, 458.06133785, 583.46845828, 631.78293626,\n",
       "       572.75847407, 317.71061886, 386.74482333, 176.69038831,\n",
       "       660.13600953, 477.34348601, 626.49516147, 493.23796576,\n",
       "       704.21920385, 607.73284218, 267.19976496, 252.76754777,\n",
       "       282.86827985, 600.98882282, 201.65565122, 588.11636641,\n",
       "       438.71198295, 381.28723104, 534.83816818, 557.07270752,\n",
       "       605.07038563, 512.04189891, 452.21583352, 479.285289  ,\n",
       "       525.34363252, 541.48939264, 417.6250794 , 455.11026908,\n",
       "       520.49410848, 522.91806313, 613.70920695, 737.83696423,\n",
       "       671.00866778, 250.75272162, 536.94125308, 198.36550068,\n",
       "       911.88860545, 332.16399377, 654.47534462, 749.77554263,\n",
       "       457.02026574, 697.05653407, 396.33075534, 670.48111015,\n",
       "       351.39344795, 872.43164594, 546.9264901 , 740.93741085,\n",
       "       240.41468968, 451.66455223, 898.74589727, 600.77061324,\n",
       "       428.54112042, 725.07285218, 801.91323293, 571.72444685,\n",
       "       546.45362804])"
      ]
     },
     "execution_count": 66,
     "metadata": {},
     "output_type": "execute_result"
    }
   ],
   "source": [
    "y_predict = regressor.predict(X_test)\n",
    "y_predict"
   ]
  },
  {
   "cell_type": "code",
   "execution_count": null,
   "metadata": {},
   "outputs": [],
   "source": []
  }
 ],
 "metadata": {
  "kernelspec": {
   "display_name": "Python 3",
   "language": "python",
   "name": "python3"
  },
  "language_info": {
   "codemirror_mode": {
    "name": "ipython",
    "version": 3
   },
   "file_extension": ".py",
   "mimetype": "text/x-python",
   "name": "python",
   "nbconvert_exporter": "python",
   "pygments_lexer": "ipython3",
   "version": "3.7.3"
  }
 },
 "nbformat": 4,
 "nbformat_minor": 4
}
