{
 "cells": [
  {
   "cell_type": "markdown",
   "metadata": {},
   "source": [
    "<h1 align =\"center\">Logistic Regression</h1>\n",
    "\n",
    "Logistic Regression was used in the biological sciences in early twentieth century. It was then used in many social science applications. Logistic Regression is used when the dependent variable(target) is categorical.\n",
    "\n",
    "***For example,***\n",
    "\n",
    "To predict whether an email is spam (1) or (0)\n",
    "Whether the tumor is malignant (1) or not (0)\n",
    "Consider a scenario where we need to classify whether an email is spam or not. If we use linear regression for this problem, there is a need for setting up a threshold based on which classification can be done. Say if the actual class is malignant, predicted continuous value 0.4 and the threshold value is 0.5, the data point will be classified as not malignant which can lead to serious consequence in real time.\n",
    "\n",
    "From this example, it can be inferred that linear regression is not suitable for classification problem. Linear regression is unbounded, and this brings logistic regression into picture. Their value strictly ranges from 0 to 1.\n",
    "\n",
    "**Simple Logistic Regression**\n",
    "\n",
    "\n",
    "***Model***\n",
    "\n",
    "Output = 0 or 1\n",
    "\n",
    "Hypothesis => Z = WX + B\n",
    "\n",
    "hΘ(x) = sigmoid (Z)\n",
    "\n",
    "Sigmoid Function\n",
    "\n",
    "\n"
   ]
  },
  {
   "cell_type": "code",
   "execution_count": null,
   "metadata": {},
   "outputs": [],
   "source": []
  }
 ],
 "metadata": {
  "kernelspec": {
   "display_name": "Python 3",
   "language": "python",
   "name": "python3"
  },
  "language_info": {
   "codemirror_mode": {
    "name": "ipython",
    "version": 3
   },
   "file_extension": ".py",
   "mimetype": "text/x-python",
   "name": "python",
   "nbconvert_exporter": "python",
   "pygments_lexer": "ipython3",
   "version": "3.6.3"
  }
 },
 "nbformat": 4,
 "nbformat_minor": 2
}
