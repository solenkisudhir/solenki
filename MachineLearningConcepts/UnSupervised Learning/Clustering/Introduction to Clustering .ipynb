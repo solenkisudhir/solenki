{
 "cells": [
  {
   "cell_type": "markdown",
   "metadata": {},
   "source": [
    "<h1 align='center'>Clustering Algorthim</h1>\n",
    "Cluster analysis or clustering is the task of grouping a set of objects in such a way that objects in the same group are more similar to each other than to those in other groups\n",
    "\n",
    "\n",
    "**Typical cluster models include:**\n",
    "\n",
    "`Connectivity models:` for example, **hierarchical clustering** builds models based on distance connectivity.\n",
    "\n",
    "`Centroid models:` for example, the **k-means algorithm** represents each cluster by a single mean vector.\n",
    "\n",
    "`Distribution models:` clusters are modeled using **statistical distributions**, such as multivariate normal distributions used by the expectation-maximization algorithm.\n",
    "\n",
    "`Density models:` for example, **DBSCAN** and **OPTICS** defines clusters as connected dense regions in the data space.\n",
    "\n",
    "`Subspace models:` in **biclustering** (also known as co-clustering or two-mode-clustering), clusters are modeled with both cluster members and relevant attributes.\n",
    "\n",
    "`Group models:` some algorithms do not provide a refined model for their results and just provide the grouping information.\n",
    "\n",
    "`Graph-based models:` a clique, that is, a subset of nodes in a graph such that every two nodes in the subset are connected by an edge can be considered as a prototypical form of cluster. Relaxations of the complete connectivity requirement (a fraction of the edges can be missing) are known as quasi-cliques, as in the HCS clustering algorithm.\n",
    "\n",
    "`Signed graph models:` Every path in a signed graph has a sign from the product of the signs on the edges. Under the assumptions of balance theory, edges may change sign and result in a bifurcated graph. The weaker \"clusterability axiom\" (no cycle has exactly one negative edge) yields results with more than two clusters, or subgraphs with only positive edges.\n",
    "\n",
    "`Neural models:` the most well known unsupervised neural network is the self-organizing map and these models can usually be characterized as similar to one or more of the above models, and including subspace models when neural networks implement a form of Principal Component Analysis or Independent Component Analysis."
   ]
  }
 ],
 "metadata": {
  "kernelspec": {
   "display_name": "Python 3",
   "language": "python",
   "name": "python3"
  },
  "language_info": {
   "codemirror_mode": {
    "name": "ipython",
    "version": 3
   },
   "file_extension": ".py",
   "mimetype": "text/x-python",
   "name": "python",
   "nbconvert_exporter": "python",
   "pygments_lexer": "ipython3",
   "version": "3.6.8"
  }
 },
 "nbformat": 4,
 "nbformat_minor": 4
}
