{
 "cells": [
  {
   "cell_type": "markdown",
   "metadata": {},
   "source": [
    "<h1 align=center >Feature Extraction</h1>\n",
    "\n",
    "The `sklearn.feature_extraction` module can be used to extract features in a format supported by machine learning algorithms from datasets consisting of formats such as text and image.\n",
    "\n",
    "**Note:**\n",
    "\n",
    "Feature extraction is very different from `Feature selection`: the former consists in transforming arbitrary data, such as `text` or `images`, into numerical features usable for machine learning. The latter is a machine learning technique applied on these features.\n",
    "\n",
    "### Different TechTechniques for Feature Extraction\n",
    "1. **Text:** The text submodule gathers utilities to build feature vectors from text documents.\n",
    "    * CountVectorizer\n",
    "    * TfidfVectorizer\n",
    "    * TfidfTransformer \n",
    "    * HashingVectorizer \n",
    "    * DictVectorizer\n",
    "2. **Image**\n",
    "    * extract_patches_2d \n",
    "    * grid_to_graph \n",
    "    * PatchExtractor \n",
    "    * img_to_graph \n",
    "    * extract_patches \n",
    "    * reconstruct_from"
   ]
  },
  {
   "cell_type": "markdown",
   "metadata": {},
   "source": [
    "### Text Extraction\n",
    "\n",
    "1. **DictVectorizer**\n",
    "The class `DictVectorizer` can be used to convert feature arrays represented as lists of standard Python dict objects to the NumPy/SciPy representation used by scikit-learn estimators.\n",
    "\n",
    "While not particularly fast to process, Python’s dict has the advantages of being convenient to use, being sparse (absent features need not be stored) and storing feature names in addition to values.\n",
    "\n",
    "DictVectorizer implements what is called `one-of-K or “one-hot”` coding for categorical (aka nominal, discrete) features. Categorical features are `“attribute-value”` pairs where the value is restricted to a list of discrete of possibilities without ordering (e.g. topic identifiers, types of objects, tags, names…).\n",
    "\n",
    "In the following, “city” is a categorical attribute while “temperature” is a traditional numerical feature:"
   ]
  },
  {
   "cell_type": "code",
   "execution_count": 1,
   "metadata": {},
   "outputs": [],
   "source": [
    "import numpy as np\n",
    "import pandas as pd\n",
    "import matplotlib.pyplot as plt"
   ]
  },
  {
   "cell_type": "code",
   "execution_count": null,
   "metadata": {
    "execution": {
     "iopub.execute_input": "2020-07-29T10:38:05.856Z",
     "iopub.status.busy": "2020-07-29T10:38:05.805Z",
     "iopub.status.idle": "2020-07-29T10:38:05.918Z",
     "shell.execute_reply": "2020-07-29T10:38:05.360Z"
    }
   },
   "outputs": [],
   "source": [
    "measurements = [\n",
    "    {'city': 'Dubai', 'temperature': 33.},\n",
    "    {'city': 'London', 'temperature': 12.},\n",
    "    {'city': 'San Francisco', 'temperature': 18.},\n",
    "    {'city': 'India', 'temperature': 28.},\n",
    "  {'city': 'dubai', 'temperature': 85.0}\n",
    "]\n",
    "measurements"
   ]
  },
  {
   "cell_type": "code",
   "execution_count": 3,
   "metadata": {
    "execution": {
     "iopub.execute_input": "2020-07-29T10:38:07.940Z",
     "iopub.status.busy": "2020-07-29T10:38:07.883Z",
     "iopub.status.idle": "2020-07-29T10:38:15.101Z",
     "shell.execute_reply": "2020-07-29T10:38:15.677Z"
    }
   },
   "outputs": [
    {
     "data": {
      "text/plain": [
       "DictVectorizer()"
      ]
     },
     "execution_count": 3,
     "metadata": {},
     "output_type": "execute_result"
    }
   ],
   "source": [
    "from sklearn.feature_extraction import DictVectorizer\n",
    "vec = DictVectorizer()\n",
    "vec"
   ]
  },
  {
   "cell_type": "code",
   "execution_count": 4,
   "metadata": {
    "execution": {
     "iopub.execute_input": "2020-07-29T10:38:15.338Z",
     "iopub.status.busy": "2020-07-29T10:38:15.254Z",
     "iopub.status.idle": "2020-07-29T10:38:15.521Z",
     "shell.execute_reply": "2020-07-29T10:38:15.727Z"
    }
   },
   "outputs": [
    {
     "data": {
      "text/plain": [
       "array([[ 1.,  0.,  0.,  0.,  0., 33.],\n",
       "       [ 0.,  0.,  1.,  0.,  0., 12.],\n",
       "       [ 0.,  0.,  0.,  1.,  0., 18.],\n",
       "       [ 0.,  1.,  0.,  0.,  0., 28.],\n",
       "       [ 0.,  0.,  0.,  0.,  1., 85.]])"
      ]
     },
     "execution_count": 4,
     "metadata": {},
     "output_type": "execute_result"
    }
   ],
   "source": [
    "vec.fit_transform(measurements).toarray()"
   ]
  },
  {
   "cell_type": "code",
   "execution_count": 5,
   "metadata": {
    "collapsed": true,
    "execution": {
     "iopub.execute_input": "2020-07-29T10:38:17.579Z",
     "iopub.status.busy": "2020-07-29T10:38:17.530Z",
     "iopub.status.idle": "2020-07-29T10:38:17.756Z",
     "shell.execute_reply": "2020-07-29T10:38:17.849Z"
    },
    "jupyter": {
     "outputs_hidden": true
    }
   },
   "outputs": [
    {
     "data": {
      "text/plain": [
       "['city=Dubai',\n",
       " 'city=India',\n",
       " 'city=London',\n",
       " 'city=San Francisco',\n",
       " 'city=dubai',\n",
       " 'temperature']"
      ]
     },
     "execution_count": 5,
     "metadata": {},
     "output_type": "execute_result"
    }
   ],
   "source": [
    "vec.get_feature_names()"
   ]
  },
  {
   "cell_type": "code",
   "execution_count": 6,
   "metadata": {
    "collapsed": true,
    "execution": {
     "iopub.execute_input": "2020-07-29T10:38:19.062Z",
     "iopub.status.busy": "2020-07-29T10:38:19.023Z",
     "iopub.status.idle": "2020-07-29T10:38:19.155Z",
     "shell.execute_reply": "2020-07-29T10:38:19.201Z"
    },
    "jupyter": {
     "outputs_hidden": true
    }
   },
   "outputs": [
    {
     "data": {
      "text/plain": [
       "['city=Dubai',\n",
       " 'city=India',\n",
       " 'city=London',\n",
       " 'city=San Francisco',\n",
       " 'city=dubai',\n",
       " 'temperature']"
      ]
     },
     "execution_count": 6,
     "metadata": {},
     "output_type": "execute_result"
    }
   ],
   "source": [
    "vec.feature_names_"
   ]
  },
  {
   "cell_type": "code",
   "execution_count": 7,
   "metadata": {
    "collapsed": true,
    "execution": {
     "iopub.execute_input": "2020-07-29T10:38:20.427Z",
     "iopub.status.busy": "2020-07-29T10:38:20.366Z",
     "iopub.status.idle": "2020-07-29T10:38:20.543Z",
     "shell.execute_reply": "2020-07-29T10:38:20.592Z"
    },
    "jupyter": {
     "outputs_hidden": true
    }
   },
   "outputs": [
    {
     "data": {
      "text/plain": [
       "{'city=Dubai': 0,\n",
       " 'temperature': 5,\n",
       " 'city=London': 2,\n",
       " 'city=San Francisco': 3,\n",
       " 'city=India': 1,\n",
       " 'city=dubai': 4}"
      ]
     },
     "execution_count": 7,
     "metadata": {},
     "output_type": "execute_result"
    }
   ],
   "source": [
    "vec.vocabulary_"
   ]
  },
  {
   "cell_type": "code",
   "execution_count": 8,
   "metadata": {
    "execution": {
     "iopub.execute_input": "2020-07-29T10:38:21.852Z",
     "iopub.status.busy": "2020-07-29T10:38:21.822Z",
     "iopub.status.idle": "2020-07-29T10:38:21.899Z",
     "shell.execute_reply": "2020-07-29T10:38:21.937Z"
    }
   },
   "outputs": [],
   "source": [
    "#part of of Speach\n",
    "pos_windows = [\n",
    "    {\n",
    "        'word-2':'the',\n",
    "        'pos-2':'DT',\n",
    "        'world -1':'Cat',\n",
    "        'pos-1':'NN',\n",
    "        'word+1':'on',\n",
    "        'pos+1':'pp',\n",
    "        'ÿ':'pp',\n",
    "        \"Pop\":\"Reddy\"\n",
    "        \n",
    "    }\n",
    "              ]"
   ]
  },
  {
   "cell_type": "code",
   "execution_count": 9,
   "metadata": {
    "execution": {
     "iopub.execute_input": "2020-07-29T10:38:23.425Z",
     "iopub.status.busy": "2020-07-29T10:38:23.373Z",
     "iopub.status.idle": "2020-07-29T10:38:23.507Z",
     "shell.execute_reply": "2020-07-29T10:38:23.546Z"
    }
   },
   "outputs": [
    {
     "data": {
      "text/plain": [
       "(80, 112)"
      ]
     },
     "execution_count": 9,
     "metadata": {},
     "output_type": "execute_result"
    }
   ],
   "source": [
    "ord('P'),ord('p')"
   ]
  },
  {
   "cell_type": "code",
   "execution_count": 10,
   "metadata": {
    "execution": {
     "iopub.execute_input": "2020-07-29T10:38:24.847Z",
     "iopub.status.busy": "2020-07-29T10:38:24.804Z",
     "iopub.status.idle": "2020-07-29T10:38:24.939Z",
     "shell.execute_reply": "2020-07-29T10:38:24.981Z"
    }
   },
   "outputs": [
    {
     "data": {
      "text/plain": [
       "DictVectorizer()"
      ]
     },
     "execution_count": 10,
     "metadata": {},
     "output_type": "execute_result"
    }
   ],
   "source": [
    "vec = DictVectorizer()\n",
    "vec"
   ]
  },
  {
   "cell_type": "code",
   "execution_count": 11,
   "metadata": {
    "execution": {
     "iopub.execute_input": "2020-07-29T10:38:26.202Z",
     "iopub.status.busy": "2020-07-29T10:38:26.169Z",
     "iopub.status.idle": "2020-07-29T10:38:26.274Z",
     "shell.execute_reply": "2020-07-29T10:38:26.317Z"
    }
   },
   "outputs": [
    {
     "data": {
      "text/plain": [
       "array([[1., 1., 1., 1., 1., 1., 1., 1.]])"
      ]
     },
     "execution_count": 11,
     "metadata": {},
     "output_type": "execute_result"
    }
   ],
   "source": [
    "pos_vectorization  = vec.fit_transform(pos_windows)\n",
    "pos_vectorization.toarray()"
   ]
  },
  {
   "cell_type": "code",
   "execution_count": 12,
   "metadata": {
    "collapsed": true,
    "execution": {
     "iopub.execute_input": "2020-07-29T10:38:27.604Z",
     "iopub.status.busy": "2020-07-29T10:38:27.570Z",
     "iopub.status.idle": "2020-07-29T10:38:27.668Z",
     "shell.execute_reply": "2020-07-29T10:38:27.717Z"
    },
    "jupyter": {
     "outputs_hidden": true
    }
   },
   "outputs": [
    {
     "data": {
      "text/plain": [
       "['Pop=Reddy',\n",
       " 'pos+1=pp',\n",
       " 'pos-1=NN',\n",
       " 'pos-2=DT',\n",
       " 'word+1=on',\n",
       " 'word-2=the',\n",
       " 'world -1=Cat',\n",
       " 'ÿ=pp']"
      ]
     },
     "execution_count": 12,
     "metadata": {},
     "output_type": "execute_result"
    }
   ],
   "source": [
    "vec.get_feature_names()"
   ]
  },
  {
   "cell_type": "code",
   "execution_count": 13,
   "metadata": {
    "collapsed": true,
    "execution": {
     "iopub.execute_input": "2020-07-29T10:38:29.131Z",
     "iopub.status.busy": "2020-07-29T10:38:29.070Z",
     "iopub.status.idle": "2020-07-29T10:38:29.281Z",
     "shell.execute_reply": "2020-07-29T10:38:29.340Z"
    },
    "jupyter": {
     "outputs_hidden": true
    }
   },
   "outputs": [
    {
     "data": {
      "text/plain": [
       "{'word-2=the': 5,\n",
       " 'pos-2=DT': 3,\n",
       " 'world -1=Cat': 6,\n",
       " 'pos-1=NN': 2,\n",
       " 'word+1=on': 4,\n",
       " 'pos+1=pp': 1,\n",
       " 'ÿ=pp': 7,\n",
       " 'Pop=Reddy': 0}"
      ]
     },
     "execution_count": 13,
     "metadata": {},
     "output_type": "execute_result"
    }
   ],
   "source": [
    "vec.vocabulary_"
   ]
  },
  {
   "cell_type": "code",
   "execution_count": 14,
   "metadata": {
    "execution": {
     "iopub.execute_input": "2020-07-29T10:38:30.720Z",
     "iopub.status.busy": "2020-07-29T10:38:30.687Z",
     "iopub.status.idle": "2020-07-29T10:38:30.789Z",
     "shell.execute_reply": "2020-07-29T10:38:30.832Z"
    }
   },
   "outputs": [
    {
     "data": {
      "text/plain": [
       "45"
      ]
     },
     "execution_count": 14,
     "metadata": {},
     "output_type": "execute_result"
    }
   ],
   "source": [
    "ord('-')"
   ]
  },
  {
   "cell_type": "code",
   "execution_count": 15,
   "metadata": {
    "execution": {
     "iopub.execute_input": "2020-07-29T10:38:32.553Z",
     "iopub.status.busy": "2020-07-29T10:38:32.486Z",
     "iopub.status.idle": "2020-07-29T10:38:32.697Z",
     "shell.execute_reply": "2020-07-29T10:38:32.740Z"
    }
   },
   "outputs": [
    {
     "data": {
      "text/plain": [
       "43"
      ]
     },
     "execution_count": 15,
     "metadata": {},
     "output_type": "execute_result"
    }
   ],
   "source": [
    "ord('+')"
   ]
  },
  {
   "cell_type": "code",
   "execution_count": 16,
   "metadata": {
    "execution": {
     "iopub.execute_input": "2020-07-29T10:38:33.997Z",
     "iopub.status.busy": "2020-07-29T10:38:33.914Z",
     "iopub.status.idle": "2020-07-29T10:38:34.170Z",
     "shell.execute_reply": "2020-07-29T10:38:34.239Z"
    }
   },
   "outputs": [
    {
     "data": {
      "text/plain": [
       "'+'"
      ]
     },
     "execution_count": 16,
     "metadata": {},
     "output_type": "execute_result"
    }
   ],
   "source": [
    "chr(43)"
   ]
  },
  {
   "cell_type": "markdown",
   "metadata": {},
   "source": [
    "### CountVectorizer\n",
    "\n",
    "Convert a collection of text documents to a matrix of token counts\n",
    "\n",
    "This implementation produces a sparse representation of the counts using scipy.sparse.coo_matrix.\n",
    "\n",
    "If you do not provide an a-priori dictionary and you do not use an analyzer that does some kind of feature selection then the number of features will be equal to the vocabulary size found by analyzing the data.\n",
    "\n",
    "![](https://lh3.googleusercontent.com/-v7Z2-GpVjz8/XuGU9z2iiiI/AAAAAAAAomE/oZnEq3Qicdk_vLM1aXiL5oyRnzhLmSB5wCK8BGAsYHg/s0/2020-06-10.png)"
   ]
  },
  {
   "cell_type": "code",
   "execution_count": 17,
   "metadata": {
    "execution": {
     "iopub.execute_input": "2020-07-29T10:38:36.870Z",
     "iopub.status.busy": "2020-07-29T10:38:36.841Z",
     "iopub.status.idle": "2020-07-29T10:38:36.916Z",
     "shell.execute_reply": "2020-07-29T10:38:36.948Z"
    }
   },
   "outputs": [],
   "source": [
    "from sklearn.feature_extraction.text import CountVectorizer\n",
    "# list of text documents\n",
    "text = [\"The quick brown fox jumped over the lazy dog,the\"]"
   ]
  },
  {
   "cell_type": "code",
   "execution_count": 18,
   "metadata": {
    "execution": {
     "iopub.execute_input": "2020-07-29T10:38:38.660Z",
     "iopub.status.busy": "2020-07-29T10:38:38.559Z",
     "iopub.status.idle": "2020-07-29T10:38:38.868Z",
     "shell.execute_reply": "2020-07-29T10:38:38.950Z"
    }
   },
   "outputs": [
    {
     "data": {
      "text/plain": [
       "CountVectorizer()"
      ]
     },
     "execution_count": 18,
     "metadata": {},
     "output_type": "execute_result"
    }
   ],
   "source": [
    "# create the transform\n",
    "vectorizer = CountVectorizer()\n",
    "# tokenize and build vocab\n",
    "vectorizer.fit(text)"
   ]
  },
  {
   "cell_type": "code",
   "execution_count": 19,
   "metadata": {
    "execution": {
     "iopub.execute_input": "2020-07-29T10:38:40.206Z",
     "iopub.status.busy": "2020-07-29T10:38:40.155Z",
     "iopub.status.idle": "2020-07-29T10:38:40.297Z",
     "shell.execute_reply": "2020-07-29T10:38:40.329Z"
    }
   },
   "outputs": [
    {
     "name": "stdout",
     "output_type": "stream",
     "text": [
      "{'the': 7, 'quick': 6, 'brown': 0, 'fox': 2, 'jumped': 3, 'over': 5, 'lazy': 4, 'dog': 1}\n"
     ]
    }
   ],
   "source": [
    "# summarize\n",
    "print(vectorizer.vocabulary_)"
   ]
  },
  {
   "cell_type": "code",
   "execution_count": 20,
   "metadata": {
    "execution": {
     "iopub.execute_input": "2020-07-29T10:38:41.975Z",
     "iopub.status.busy": "2020-07-29T10:38:41.938Z",
     "iopub.status.idle": "2020-07-29T10:38:42.023Z",
     "shell.execute_reply": "2020-07-29T10:38:42.048Z"
    }
   },
   "outputs": [],
   "source": [
    "# encode document\n",
    "vector = vectorizer.transform(text)"
   ]
  },
  {
   "cell_type": "code",
   "execution_count": 21,
   "metadata": {
    "execution": {
     "iopub.execute_input": "2020-07-29T10:38:43.051Z",
     "iopub.status.busy": "2020-07-29T10:38:43.020Z",
     "iopub.status.idle": "2020-07-29T10:38:43.112Z",
     "shell.execute_reply": "2020-07-29T10:38:43.153Z"
    }
   },
   "outputs": [
    {
     "name": "stdout",
     "output_type": "stream",
     "text": [
      "(1, 8)\n",
      "<class 'scipy.sparse.csr.csr_matrix'>\n",
      "[[1 1 1 1 1 1 1 3]]\n"
     ]
    }
   ],
   "source": [
    "# summarize encoded vector\n",
    "print(vector.shape)\n",
    "print(type(vector))\n",
    "print(vector.toarray())"
   ]
  },
  {
   "cell_type": "code",
   "execution_count": 22,
   "metadata": {
    "execution": {
     "iopub.execute_input": "2020-07-29T10:38:44.639Z",
     "iopub.status.busy": "2020-07-29T10:38:44.605Z",
     "iopub.status.idle": "2020-07-29T10:38:44.733Z",
     "shell.execute_reply": "2020-07-29T10:38:44.777Z"
    }
   },
   "outputs": [
    {
     "name": "stdout",
     "output_type": "stream",
     "text": [
      "[[0 0 0 0 0 0 0 1]]\n"
     ]
    }
   ],
   "source": [
    "# encode another document\n",
    "text2 = [\"the puppy\"]\n",
    "vector = vectorizer.transform(text2)\n",
    "print(vector.toarray())"
   ]
  },
  {
   "cell_type": "markdown",
   "metadata": {},
   "source": [
    "#### Example-2\n"
   ]
  },
  {
   "cell_type": "code",
   "execution_count": 23,
   "metadata": {
    "execution": {
     "iopub.execute_input": "2020-07-29T10:38:53.401Z",
     "iopub.status.busy": "2020-07-29T10:38:53.350Z",
     "iopub.status.idle": "2020-07-29T10:38:53.482Z",
     "shell.execute_reply": "2020-07-29T10:38:53.548Z"
    }
   },
   "outputs": [],
   "source": [
    "sample_text = [\"One of the most basic ways we can numerically represent words \"\n",
    "               \"is through the one-hot encoding method (also sometimes called \"\n",
    "               \"count vectorizing).\"]"
   ]
  },
  {
   "cell_type": "code",
   "execution_count": 24,
   "metadata": {
    "execution": {
     "iopub.execute_input": "2020-07-29T10:38:54.436Z",
     "iopub.status.busy": "2020-07-29T10:38:54.380Z",
     "iopub.status.idle": "2020-07-29T10:38:54.660Z",
     "shell.execute_reply": "2020-07-29T10:38:54.736Z"
    }
   },
   "outputs": [
    {
     "data": {
      "text/plain": [
       "CountVectorizer()"
      ]
     },
     "execution_count": 24,
     "metadata": {},
     "output_type": "execute_result"
    }
   ],
   "source": [
    "vectorizer.fit(sample_text)"
   ]
  },
  {
   "cell_type": "code",
   "execution_count": 25,
   "metadata": {
    "execution": {
     "iopub.execute_input": "2020-07-29T10:38:56.243Z",
     "iopub.status.busy": "2020-07-29T10:38:56.200Z",
     "iopub.status.idle": "2020-07-29T10:38:56.383Z",
     "shell.execute_reply": "2020-07-29T10:38:56.472Z"
    }
   },
   "outputs": [
    {
     "name": "stdout",
     "output_type": "stream",
     "text": [
      "Vocabulary: \n",
      "{'one': 12, 'of': 11, 'the': 15, 'most': 9, 'basic': 1, 'ways': 18, 'we': 19, 'can': 3, 'numerically': 10, 'represent': 13, 'words': 20, 'is': 7, 'through': 16, 'hot': 6, 'encoding': 5, 'method': 8, 'also': 0, 'sometimes': 14, 'called': 2, 'count': 4, 'vectorizing': 17}\n"
     ]
    }
   ],
   "source": [
    "print('Vocabulary: ')\n",
    "print(vectorizer.vocabulary_)"
   ]
  },
  {
   "cell_type": "code",
   "execution_count": 26,
   "metadata": {
    "execution": {
     "iopub.execute_input": "2020-07-29T10:38:57.868Z",
     "iopub.status.busy": "2020-07-29T10:38:57.810Z",
     "iopub.status.idle": "2020-07-29T10:38:58.008Z",
     "shell.execute_reply": "2020-07-29T10:38:58.095Z"
    }
   },
   "outputs": [],
   "source": [
    "vector = vectorizer.transform(sample_text)"
   ]
  },
  {
   "cell_type": "code",
   "execution_count": 27,
   "metadata": {
    "execution": {
     "iopub.execute_input": "2020-07-29T10:38:59.863Z",
     "iopub.status.busy": "2020-07-29T10:38:59.829Z",
     "iopub.status.idle": "2020-07-29T10:38:59.949Z",
     "shell.execute_reply": "2020-07-29T10:39:00.004Z"
    }
   },
   "outputs": [
    {
     "name": "stdout",
     "output_type": "stream",
     "text": [
      "Full vector: \n",
      "[[1 1 1 1 1 1 1 1 1 1 1 1 2 1 1 2 1 1 1 1 1]]\n"
     ]
    }
   ],
   "source": [
    "# Our final vector:\n",
    "print('Full vector: ')\n",
    "print(vector.toarray())"
   ]
  },
  {
   "cell_type": "code",
   "execution_count": 28,
   "metadata": {
    "execution": {
     "iopub.execute_input": "2020-07-29T10:39:01.639Z",
     "iopub.status.busy": "2020-07-29T10:39:01.544Z",
     "iopub.status.idle": "2020-07-29T10:39:01.824Z",
     "shell.execute_reply": "2020-07-29T10:39:01.905Z"
    }
   },
   "outputs": [
    {
     "name": "stdout",
     "output_type": "stream",
     "text": [
      "Hot vector: \n",
      "[[0 0 0 0 0 0 1 0 0 0 0 0 0 0 0 0 0 0 0 0 0]]\n"
     ]
    }
   ],
   "source": [
    "# Or if we wanted to get the vector for one word:\n",
    "print('Hot vector: ')\n",
    "print(vectorizer.transform(['hot']).toarray())"
   ]
  },
  {
   "cell_type": "code",
   "execution_count": 29,
   "metadata": {
    "execution": {
     "iopub.execute_input": "2020-07-29T10:39:03.983Z",
     "iopub.status.busy": "2020-07-29T10:39:03.899Z",
     "iopub.status.idle": "2020-07-29T10:39:04.146Z",
     "shell.execute_reply": "2020-07-29T10:39:04.229Z"
    }
   },
   "outputs": [
    {
     "name": "stdout",
     "output_type": "stream",
     "text": [
      "Hot and one: \n",
      "[[0 0 0 0 0 0 1 0 0 0 0 0 0 0 0 0 0 0 0 0 0]\n",
      " [0 0 0 0 0 0 0 0 0 0 0 0 1 0 0 0 0 0 0 0 0]]\n"
     ]
    }
   ],
   "source": [
    "# Or if we wanted to get multiple vectors at once to build matrices\n",
    "print('Hot and one: ')\n",
    "print(vectorizer.transform(['hot', 'one']).toarray())"
   ]
  },
  {
   "cell_type": "code",
   "execution_count": 30,
   "metadata": {
    "execution": {
     "iopub.execute_input": "2020-07-29T10:39:05.286Z",
     "iopub.status.busy": "2020-07-29T10:39:05.211Z",
     "iopub.status.idle": "2020-07-29T10:39:05.449Z",
     "shell.execute_reply": "2020-07-29T10:39:05.597Z"
    }
   },
   "outputs": [
    {
     "name": "stdout",
     "output_type": "stream",
     "text": [
      "One swoop:\n",
      "[[1 1 1 1 2 1 3]]\n"
     ]
    }
   ],
   "source": [
    "# We could also do the whole thing at once with the fit_transform method:\n",
    "print('One swoop:')\n",
    "new_text = ['Today is the day that I do the thing today, today']\n",
    "new_vectorizer = CountVectorizer()\n",
    "print(new_vectorizer.fit_transform(new_text).toarray())"
   ]
  },
  {
   "cell_type": "markdown",
   "metadata": {},
   "source": [
    "#### Feature hashing\n",
    "The class FeatureHasher is a high-speed, low-memory vectorizer that uses a technique known as feature hashing, or the “hashing trick”. Instead of building a hash table of the features encountered in training, as the vectorizers do, instances of FeatureHasher apply a hash function to the features to determine their column index in sample matrices directly. The result is increased speed and reduced memory usage, at the expense of inspectability; the hasher does not remember what the input features looked like and has no inverse_transform method.\n",
    "\n",
    "![](https://lh3.googleusercontent.com/-dULxt0dtIQY/XuGc3TOy1vI/AAAAAAAAomQ/EqrbctojhsM7dNDuDuLOpcOHP5ORwXv2QCK8BGAsYHg/s0/2020-06-10.png)"
   ]
  },
  {
   "cell_type": "markdown",
   "metadata": {},
   "source": [
    "* John likes to watch movies.\n",
    "* Mary likes movies too.\n",
    "* John also likes football.\n",
    "\n",
    "|Term|Index|\n",
    "|----|---|\n",
    "|John|1|\n",
    "|likes|2|\n",
    "|to|3|\n",
    "|watch|4|\n",
    "|movies|5|\n",
    "|Mary|6|\n",
    "|too|7|\n",
    "|also|8|\n",
    "|football|9|\n",
    "\n",
    "![](https://lh3.googleusercontent.com/-7EK06T5PlZM/XuGd82LfcgI/AAAAAAAAomY/dueH8562uYMqTLlPQ7B1piZaQg0Wu3_KgCK8BGAsYHg/s0/2020-06-10.png)"
   ]
  },
  {
   "cell_type": "code",
   "execution_count": 31,
   "metadata": {
    "execution": {
     "iopub.execute_input": "2020-07-29T10:39:13.791Z",
     "iopub.status.busy": "2020-07-29T10:39:13.716Z",
     "iopub.status.idle": "2020-07-29T10:39:13.963Z",
     "shell.execute_reply": "2020-07-29T10:39:14.078Z"
    }
   },
   "outputs": [
    {
     "data": {
      "text/plain": [
       "[{'dog': 1, 'cat': 2, 'elephant': 4}, {'dog': 2, 'run': 5}]"
      ]
     },
     "execution_count": 31,
     "metadata": {},
     "output_type": "execute_result"
    }
   ],
   "source": [
    "D = [{'dog': 1, 'cat':2, 'elephant':4},{'dog': 2, 'run': 5}]\n",
    "D"
   ]
  },
  {
   "cell_type": "code",
   "execution_count": 32,
   "metadata": {
    "execution": {
     "iopub.execute_input": "2020-07-29T10:39:15.595Z",
     "iopub.status.busy": "2020-07-29T10:39:15.532Z",
     "iopub.status.idle": "2020-07-29T10:39:15.701Z",
     "shell.execute_reply": "2020-07-29T10:39:15.756Z"
    }
   },
   "outputs": [],
   "source": [
    "from sklearn.feature_extraction import FeatureHasher\n",
    "h = FeatureHasher(n_features=4)"
   ]
  },
  {
   "cell_type": "code",
   "execution_count": 33,
   "metadata": {
    "execution": {
     "iopub.execute_input": "2020-07-29T10:39:17.686Z",
     "iopub.status.busy": "2020-07-29T10:39:17.650Z",
     "iopub.status.idle": "2020-07-29T10:39:17.752Z",
     "shell.execute_reply": "2020-07-29T10:39:17.827Z"
    }
   },
   "outputs": [],
   "source": [
    "f = h.transform(D)"
   ]
  },
  {
   "cell_type": "code",
   "execution_count": 34,
   "metadata": {
    "execution": {
     "iopub.execute_input": "2020-07-29T10:39:19.562Z",
     "iopub.status.busy": "2020-07-29T10:39:19.531Z",
     "iopub.status.idle": "2020-07-29T10:39:19.621Z",
     "shell.execute_reply": "2020-07-29T10:39:19.648Z"
    }
   },
   "outputs": [
    {
     "data": {
      "text/plain": [
       "array([[ 0., -1., -4.,  2.],\n",
       "       [-5., -2.,  0.,  0.]])"
      ]
     },
     "execution_count": 34,
     "metadata": {},
     "output_type": "execute_result"
    }
   ],
   "source": [
    "f.toarray()"
   ]
  },
  {
   "cell_type": "markdown",
   "metadata": {},
   "source": [
    "#### Example-2"
   ]
  },
  {
   "cell_type": "code",
   "execution_count": 35,
   "metadata": {
    "execution": {
     "iopub.execute_input": "2020-07-29T10:39:21.234Z",
     "iopub.status.busy": "2020-07-29T10:39:21.205Z",
     "iopub.status.idle": "2020-07-29T10:39:21.281Z",
     "shell.execute_reply": "2020-07-29T10:39:21.307Z"
    }
   },
   "outputs": [],
   "source": [
    "data = {'state': ['Ohio', 'Ohio', 'Ohio', 'Nevada', 'Nevada'],\n",
    "        'year': [2000, 2001, 2002, 2001, 2002],\n",
    "        'pop': [1.5, 1.7, 3.6, 2.4, 2.9]}"
   ]
  },
  {
   "cell_type": "code",
   "execution_count": 36,
   "metadata": {
    "execution": {
     "iopub.execute_input": "2020-07-29T10:39:23.272Z",
     "iopub.status.busy": "2020-07-29T10:39:23.214Z",
     "iopub.status.idle": "2020-07-29T10:39:23.404Z",
     "shell.execute_reply": "2020-07-29T10:39:23.482Z"
    }
   },
   "outputs": [
    {
     "data": {
      "text/html": [
       "<div>\n",
       "<style scoped>\n",
       "    .dataframe tbody tr th:only-of-type {\n",
       "        vertical-align: middle;\n",
       "    }\n",
       "\n",
       "    .dataframe tbody tr th {\n",
       "        vertical-align: top;\n",
       "    }\n",
       "\n",
       "    .dataframe thead th {\n",
       "        text-align: right;\n",
       "    }\n",
       "</style>\n",
       "<table border=\"1\" class=\"dataframe\">\n",
       "  <thead>\n",
       "    <tr style=\"text-align: right;\">\n",
       "      <th></th>\n",
       "      <th>state</th>\n",
       "      <th>year</th>\n",
       "      <th>pop</th>\n",
       "    </tr>\n",
       "  </thead>\n",
       "  <tbody>\n",
       "    <tr>\n",
       "      <th>0</th>\n",
       "      <td>Ohio</td>\n",
       "      <td>2000</td>\n",
       "      <td>1.5</td>\n",
       "    </tr>\n",
       "    <tr>\n",
       "      <th>1</th>\n",
       "      <td>Ohio</td>\n",
       "      <td>2001</td>\n",
       "      <td>1.7</td>\n",
       "    </tr>\n",
       "    <tr>\n",
       "      <th>2</th>\n",
       "      <td>Ohio</td>\n",
       "      <td>2002</td>\n",
       "      <td>3.6</td>\n",
       "    </tr>\n",
       "    <tr>\n",
       "      <th>3</th>\n",
       "      <td>Nevada</td>\n",
       "      <td>2001</td>\n",
       "      <td>2.4</td>\n",
       "    </tr>\n",
       "    <tr>\n",
       "      <th>4</th>\n",
       "      <td>Nevada</td>\n",
       "      <td>2002</td>\n",
       "      <td>2.9</td>\n",
       "    </tr>\n",
       "  </tbody>\n",
       "</table>\n",
       "</div>"
      ],
      "text/plain": [
       "    state  year  pop\n",
       "0    Ohio  2000  1.5\n",
       "1    Ohio  2001  1.7\n",
       "2    Ohio  2002  3.6\n",
       "3  Nevada  2001  2.4\n",
       "4  Nevada  2002  2.9"
      ]
     },
     "execution_count": 36,
     "metadata": {},
     "output_type": "execute_result"
    }
   ],
   "source": [
    "data = pd.DataFrame(data)\n",
    "data"
   ]
  },
  {
   "cell_type": "code",
   "execution_count": 37,
   "metadata": {
    "execution": {
     "iopub.execute_input": "2020-07-29T10:39:24.961Z",
     "iopub.status.busy": "2020-07-29T10:39:24.924Z",
     "iopub.status.idle": "2020-07-29T10:39:25.030Z",
     "shell.execute_reply": "2020-07-29T10:39:25.072Z"
    }
   },
   "outputs": [],
   "source": [
    "def has_col(df ,col,vocab):\n",
    "    cols = [col + \"=\" + str(v) for v in vocab]\n",
    "    def xform(x): \n",
    "        temp = [0 for i in range(len(vocab))];\n",
    "        temp[vocab.index(x)]=1;\n",
    "        return pd.Series(temp,index=cols)\n",
    "    df[cols] =df[col].apply(xform)\n",
    "    return df.drop(col,axis=1)   "
   ]
  },
  {
   "cell_type": "code",
   "execution_count": 38,
   "metadata": {
    "execution": {
     "iopub.execute_input": "2020-07-29T10:39:26.903Z",
     "iopub.status.busy": "2020-07-29T10:39:26.854Z",
     "iopub.status.idle": "2020-07-29T10:39:26.970Z",
     "shell.execute_reply": "2020-07-29T10:39:27.000Z"
    }
   },
   "outputs": [
    {
     "data": {
      "text/html": [
       "<div>\n",
       "<style scoped>\n",
       "    .dataframe tbody tr th:only-of-type {\n",
       "        vertical-align: middle;\n",
       "    }\n",
       "\n",
       "    .dataframe tbody tr th {\n",
       "        vertical-align: top;\n",
       "    }\n",
       "\n",
       "    .dataframe thead th {\n",
       "        text-align: right;\n",
       "    }\n",
       "</style>\n",
       "<table border=\"1\" class=\"dataframe\">\n",
       "  <thead>\n",
       "    <tr style=\"text-align: right;\">\n",
       "      <th></th>\n",
       "      <th>year</th>\n",
       "      <th>pop</th>\n",
       "      <th>state=Ohio</th>\n",
       "      <th>state=Nevada</th>\n",
       "    </tr>\n",
       "  </thead>\n",
       "  <tbody>\n",
       "    <tr>\n",
       "      <th>0</th>\n",
       "      <td>2000</td>\n",
       "      <td>1.5</td>\n",
       "      <td>1</td>\n",
       "      <td>0</td>\n",
       "    </tr>\n",
       "    <tr>\n",
       "      <th>1</th>\n",
       "      <td>2001</td>\n",
       "      <td>1.7</td>\n",
       "      <td>1</td>\n",
       "      <td>0</td>\n",
       "    </tr>\n",
       "    <tr>\n",
       "      <th>2</th>\n",
       "      <td>2002</td>\n",
       "      <td>3.6</td>\n",
       "      <td>1</td>\n",
       "      <td>0</td>\n",
       "    </tr>\n",
       "    <tr>\n",
       "      <th>3</th>\n",
       "      <td>2001</td>\n",
       "      <td>2.4</td>\n",
       "      <td>0</td>\n",
       "      <td>1</td>\n",
       "    </tr>\n",
       "    <tr>\n",
       "      <th>4</th>\n",
       "      <td>2002</td>\n",
       "      <td>2.9</td>\n",
       "      <td>0</td>\n",
       "      <td>1</td>\n",
       "    </tr>\n",
       "  </tbody>\n",
       "</table>\n",
       "</div>"
      ],
      "text/plain": [
       "   year  pop  state=Ohio  state=Nevada\n",
       "0  2000  1.5           1             0\n",
       "1  2001  1.7           1             0\n",
       "2  2002  3.6           1             0\n",
       "3  2001  2.4           0             1\n",
       "4  2002  2.9           0             1"
      ]
     },
     "execution_count": 38,
     "metadata": {},
     "output_type": "execute_result"
    }
   ],
   "source": [
    "has_col(data,'state',['Ohio', 'Nevada'])"
   ]
  },
  {
   "cell_type": "markdown",
   "metadata": {},
   "source": [
    "### Text Features\n",
    "\n",
    "Another common need in feature engineering is to convert text to a set of representative numerical values. For example, most automatic mining of social media data relies on some form of encoding the text as numbers. One of the simplest methods of encoding data is by word counts: you take each snippet of text, count the occurrences of each word within it, and put the results in a table.\n",
    "\n",
    "For example, consider the following set of three phrases:"
   ]
  },
  {
   "cell_type": "code",
   "execution_count": 39,
   "metadata": {
    "execution": {
     "iopub.execute_input": "2020-07-29T10:39:29.201Z",
     "iopub.status.busy": "2020-07-29T10:39:29.169Z",
     "iopub.status.idle": "2020-07-29T10:39:29.271Z",
     "shell.execute_reply": "2020-07-29T10:39:29.302Z"
    }
   },
   "outputs": [
    {
     "data": {
      "text/plain": [
       "0    problem of evil problem\n",
       "1                 evil queen\n",
       "2           horizone problem\n",
       "dtype: object"
      ]
     },
     "execution_count": 39,
     "metadata": {},
     "output_type": "execute_result"
    }
   ],
   "source": [
    "sample = pd.Series(['problem of evil problem',\n",
    "          'evil queen',\n",
    "          'horizone problem'])\n",
    "sample"
   ]
  },
  {
   "cell_type": "markdown",
   "metadata": {
    "jupyter": {
     "source_hidden": true
    }
   },
   "source": [
    "For a vectorization of this data based on word count, we could construct a column representing the word \"problem,\" the word \"evil,\" the word \"horizon,\" and so on. While doing this by hand would be possible, the tedium can be avoided by using Scikit-Learn's `CountVectorizer`:\n",
    "\n",
    "\n",
    "|Words|count|\n",
    "|-----|------|\n",
    "|problem|3|\n",
    "|of |1|\n",
    "|evil|2|\n",
    "|queen|1|\n",
    "|horizone|1|"
   ]
  },
  {
   "cell_type": "code",
   "execution_count": 40,
   "metadata": {
    "collapsed": true,
    "execution": {
     "iopub.execute_input": "2020-07-29T10:39:32.024Z",
     "iopub.status.busy": "2020-07-29T10:39:31.993Z",
     "iopub.status.idle": "2020-07-29T10:39:32.097Z",
     "shell.execute_reply": "2020-07-29T10:39:32.137Z"
    },
    "jupyter": {
     "outputs_hidden": true
    }
   },
   "outputs": [
    {
     "data": {
      "text/plain": [
       "0    problem of evil problem\n",
       "1                 evil queen\n",
       "2           horizone problem\n",
       "dtype: object"
      ]
     },
     "execution_count": 40,
     "metadata": {},
     "output_type": "execute_result"
    }
   ],
   "source": [
    "sample.str.lower()"
   ]
  },
  {
   "cell_type": "code",
   "execution_count": 41,
   "metadata": {
    "execution": {
     "iopub.execute_input": "2020-07-29T10:39:33.043Z",
     "iopub.status.busy": "2020-07-29T10:39:33.017Z",
     "iopub.status.idle": "2020-07-29T10:39:33.085Z",
     "shell.execute_reply": "2020-07-29T10:39:33.111Z"
    }
   },
   "outputs": [],
   "source": [
    "from sklearn.feature_extraction.text import CountVectorizer"
   ]
  },
  {
   "cell_type": "code",
   "execution_count": 42,
   "metadata": {
    "execution": {
     "iopub.execute_input": "2020-07-29T10:39:34.096Z",
     "iopub.status.busy": "2020-07-29T10:39:34.037Z",
     "iopub.status.idle": "2020-07-29T10:39:34.196Z",
     "shell.execute_reply": "2020-07-29T10:39:34.241Z"
    }
   },
   "outputs": [
    {
     "data": {
      "text/plain": [
       "<3x5 sparse matrix of type '<class 'numpy.int64'>'\n",
       "\twith 7 stored elements in Compressed Sparse Row format>"
      ]
     },
     "execution_count": 42,
     "metadata": {},
     "output_type": "execute_result"
    }
   ],
   "source": [
    "vec = CountVectorizer()\n",
    "X = vec.fit_transform(sample)\n",
    "X"
   ]
  },
  {
   "cell_type": "code",
   "execution_count": 44,
   "metadata": {
    "collapsed": false,
    "execution": {
     "iopub.execute_input": "2020-07-29T10:39:37.022Z",
     "iopub.status.busy": "2020-07-29T10:39:36.976Z",
     "iopub.status.idle": "2020-07-29T10:39:37.115Z",
     "shell.execute_reply": "2020-07-29T10:39:37.176Z"
    },
    "jupyter": {
     "outputs_hidden": false
    }
   },
   "outputs": [
    {
     "data": {
      "text/html": [
       "<div>\n",
       "<style scoped>\n",
       "    .dataframe tbody tr th:only-of-type {\n",
       "        vertical-align: middle;\n",
       "    }\n",
       "\n",
       "    .dataframe tbody tr th {\n",
       "        vertical-align: top;\n",
       "    }\n",
       "\n",
       "    .dataframe thead th {\n",
       "        text-align: right;\n",
       "    }\n",
       "</style>\n",
       "<table border=\"1\" class=\"dataframe\">\n",
       "  <thead>\n",
       "    <tr style=\"text-align: right;\">\n",
       "      <th></th>\n",
       "      <th>evil</th>\n",
       "      <th>horizone</th>\n",
       "      <th>of</th>\n",
       "      <th>problem</th>\n",
       "      <th>queen</th>\n",
       "    </tr>\n",
       "  </thead>\n",
       "  <tbody>\n",
       "    <tr>\n",
       "      <th>0</th>\n",
       "      <td>1</td>\n",
       "      <td>0</td>\n",
       "      <td>1</td>\n",
       "      <td>2</td>\n",
       "      <td>0</td>\n",
       "    </tr>\n",
       "    <tr>\n",
       "      <th>1</th>\n",
       "      <td>1</td>\n",
       "      <td>0</td>\n",
       "      <td>0</td>\n",
       "      <td>0</td>\n",
       "      <td>1</td>\n",
       "    </tr>\n",
       "    <tr>\n",
       "      <th>2</th>\n",
       "      <td>0</td>\n",
       "      <td>1</td>\n",
       "      <td>0</td>\n",
       "      <td>1</td>\n",
       "      <td>0</td>\n",
       "    </tr>\n",
       "  </tbody>\n",
       "</table>\n",
       "</div>"
      ],
      "text/plain": [
       "   evil  horizone  of  problem  queen\n",
       "0     1         0   1        2      0\n",
       "1     1         0   0        0      1\n",
       "2     0         1   0        1      0"
      ]
     },
     "execution_count": 44,
     "metadata": {},
     "output_type": "execute_result"
    }
   ],
   "source": [
    "Data = pd.DataFrame(X.toarray(), columns=vec.get_feature_names())\n",
    "Data"
   ]
  },
  {
   "cell_type": "markdown",
   "metadata": {},
   "source": [
    "There are some issues with this approach, however: the raw word counts lead to features which put too much weight on words that appear very frequently, and this can be sub-optimal in some classification algorithms."
   ]
  },
  {
   "cell_type": "markdown",
   "metadata": {},
   "source": [
    "## Term frequency\n",
    "\n",
    "Suppose we have a set of English text documents and wish to rank which document is most relevant to the query, \"the brown cow\". A simple way to start out is by eliminating documents that do not contain all three words \"the\", \"brown\", and \"cow\", but this still leaves many documents.\n",
    "\n",
    "To further distinguish them, we might count the number of times each term occurs in each document; the number of times a term occurs in a document is called its term frequency.\n",
    "\n",
    "\n",
    "$\\text{tf-idf(t,d)}=\\text{tf(t,d)} \\times \\text{idf(t)}$\n",
    "\n",
    "* **t** :term\n",
    "* **d**: documents\n",
    "\n",
    "\n",
    "\n",
    "tf–idf means term-frequency times **inverse document-frequency**\n",
    "\n",
    "$\\text{idf}(t) = \\log{\\frac{1 + n}{1+\\text{df}(t)}} + 1$"
   ]
  },
  {
   "cell_type": "code",
   "execution_count": 45,
   "metadata": {
    "collapsed": true,
    "execution": {
     "iopub.execute_input": "2020-07-29T10:39:40.331Z",
     "iopub.status.busy": "2020-07-29T10:39:40.303Z",
     "iopub.status.idle": "2020-07-29T10:39:40.394Z",
     "shell.execute_reply": "2020-07-29T10:39:40.426Z"
    },
    "jupyter": {
     "outputs_hidden": true,
     "source_hidden": false
    },
    "nteract": {
     "transient": {
      "deleting": false
     }
    }
   },
   "outputs": [
    {
     "ename": "SyntaxError",
     "evalue": "invalid syntax (<ipython-input-45-723b91f2a862>, line 1)",
     "output_type": "error",
     "traceback": [
      "\u001b[1;36m  File \u001b[1;32m\"<ipython-input-45-723b91f2a862>\"\u001b[1;36m, line \u001b[1;32m1\u001b[0m\n\u001b[1;33m    s ->d1[i am looking for ml job]\u001b[0m\n\u001b[1;37m       ^\u001b[0m\n\u001b[1;31mSyntaxError\u001b[0m\u001b[1;31m:\u001b[0m invalid syntax\n"
     ]
    }
   ],
   "source": [
    "s ->d1[i am looking for ml job]\n",
    "m ->d2 [we are looking for ml job]\n",
    "b ->d3 [i sarching for datascience job]"
   ]
  },
  {
   "cell_type": "code",
   "execution_count": 46,
   "metadata": {
    "execution": {
     "iopub.execute_input": "2020-07-29T10:39:45.233Z",
     "iopub.status.busy": "2020-07-29T10:39:45.195Z",
     "iopub.status.idle": "2020-07-29T10:39:45.288Z",
     "shell.execute_reply": "2020-07-29T10:39:45.317Z"
    }
   },
   "outputs": [],
   "source": [
    "from sklearn.feature_extraction.text import TfidfVectorizer,TfidfTransformer"
   ]
  },
  {
   "cell_type": "code",
   "execution_count": 47,
   "metadata": {
    "execution": {
     "iopub.execute_input": "2020-07-29T10:39:46.967Z",
     "iopub.status.busy": "2020-07-29T10:39:46.938Z",
     "iopub.status.idle": "2020-07-29T10:39:47.011Z",
     "shell.execute_reply": "2020-07-29T10:39:47.037Z"
    }
   },
   "outputs": [],
   "source": [
    "Tan = TfidfVectorizer()"
   ]
  },
  {
   "cell_type": "code",
   "execution_count": 48,
   "metadata": {
    "execution": {
     "iopub.execute_input": "2020-07-29T10:39:48.214Z",
     "iopub.status.busy": "2020-07-29T10:39:48.138Z",
     "iopub.status.idle": "2020-07-29T10:39:48.335Z",
     "shell.execute_reply": "2020-07-29T10:39:48.024Z"
    }
   },
   "outputs": [
    {
     "data": {
      "text/plain": [
       "<3x5 sparse matrix of type '<class 'numpy.float64'>'\n",
       "\twith 7 stored elements in Compressed Sparse Row format>"
      ]
     },
     "execution_count": 48,
     "metadata": {},
     "output_type": "execute_result"
    }
   ],
   "source": [
    "o = Tan.fit_transform(sample)\n",
    "o"
   ]
  },
  {
   "cell_type": "code",
   "execution_count": 49,
   "metadata": {
    "execution": {
     "iopub.execute_input": "2020-07-29T10:39:51.581Z",
     "iopub.status.busy": "2020-07-29T10:39:51.535Z",
     "iopub.status.idle": "2020-07-29T10:39:51.660Z",
     "shell.execute_reply": "2020-07-29T10:39:51.692Z"
    }
   },
   "outputs": [
    {
     "data": {
      "text/plain": [
       "array([[0.38550292, 0.        , 0.50689001, 0.77100584, 0.        ],\n",
       "       [0.60534851, 0.        , 0.        , 0.        , 0.79596054],\n",
       "       [0.        , 0.79596054, 0.        , 0.60534851, 0.        ]])"
      ]
     },
     "execution_count": 49,
     "metadata": {},
     "output_type": "execute_result"
    }
   ],
   "source": [
    "o.toarray()"
   ]
  },
  {
   "cell_type": "code",
   "execution_count": 50,
   "metadata": {
    "execution": {
     "iopub.execute_input": "2020-07-29T10:39:52.636Z",
     "iopub.status.busy": "2020-07-29T10:39:52.594Z",
     "iopub.status.idle": "2020-07-29T10:39:52.729Z",
     "shell.execute_reply": "2020-07-29T10:39:52.771Z"
    }
   },
   "outputs": [
    {
     "data": {
      "text/html": [
       "<div>\n",
       "<style scoped>\n",
       "    .dataframe tbody tr th:only-of-type {\n",
       "        vertical-align: middle;\n",
       "    }\n",
       "\n",
       "    .dataframe tbody tr th {\n",
       "        vertical-align: top;\n",
       "    }\n",
       "\n",
       "    .dataframe thead th {\n",
       "        text-align: right;\n",
       "    }\n",
       "</style>\n",
       "<table border=\"1\" class=\"dataframe\">\n",
       "  <thead>\n",
       "    <tr style=\"text-align: right;\">\n",
       "      <th></th>\n",
       "      <th>evil</th>\n",
       "      <th>horizone</th>\n",
       "      <th>of</th>\n",
       "      <th>problem</th>\n",
       "      <th>queen</th>\n",
       "    </tr>\n",
       "  </thead>\n",
       "  <tbody>\n",
       "    <tr>\n",
       "      <th>0</th>\n",
       "      <td>0.385503</td>\n",
       "      <td>0.000000</td>\n",
       "      <td>0.50689</td>\n",
       "      <td>0.771006</td>\n",
       "      <td>0.000000</td>\n",
       "    </tr>\n",
       "    <tr>\n",
       "      <th>1</th>\n",
       "      <td>0.605349</td>\n",
       "      <td>0.000000</td>\n",
       "      <td>0.00000</td>\n",
       "      <td>0.000000</td>\n",
       "      <td>0.795961</td>\n",
       "    </tr>\n",
       "    <tr>\n",
       "      <th>2</th>\n",
       "      <td>0.000000</td>\n",
       "      <td>0.795961</td>\n",
       "      <td>0.00000</td>\n",
       "      <td>0.605349</td>\n",
       "      <td>0.000000</td>\n",
       "    </tr>\n",
       "  </tbody>\n",
       "</table>\n",
       "</div>"
      ],
      "text/plain": [
       "       evil  horizone       of   problem     queen\n",
       "0  0.385503  0.000000  0.50689  0.771006  0.000000\n",
       "1  0.605349  0.000000  0.00000  0.000000  0.795961\n",
       "2  0.000000  0.795961  0.00000  0.605349  0.000000"
      ]
     },
     "execution_count": 50,
     "metadata": {},
     "output_type": "execute_result"
    }
   ],
   "source": [
    "pd.DataFrame(o.toarray(), columns=['evil','horizone','of','problem','queen'])"
   ]
  },
  {
   "cell_type": "code",
   "execution_count": 51,
   "metadata": {
    "execution": {
     "iopub.execute_input": "2020-07-29T10:39:54.119Z",
     "iopub.status.busy": "2020-07-29T10:39:54.092Z",
     "iopub.status.idle": "2020-07-29T10:39:54.163Z",
     "shell.execute_reply": "2020-07-29T10:39:54.198Z"
    }
   },
   "outputs": [],
   "source": [
    "tt = TfidfTransformer(smooth_idf=False)"
   ]
  },
  {
   "cell_type": "code",
   "execution_count": 52,
   "metadata": {
    "execution": {
     "iopub.execute_input": "2020-07-29T10:39:55.638Z",
     "iopub.status.busy": "2020-07-29T10:39:55.590Z",
     "iopub.status.idle": "2020-07-29T10:39:55.705Z",
     "shell.execute_reply": "2020-07-29T10:39:55.733Z"
    }
   },
   "outputs": [
    {
     "data": {
      "text/plain": [
       "<3x5 sparse matrix of type '<class 'numpy.float64'>'\n",
       "\twith 7 stored elements in Compressed Sparse Row format>"
      ]
     },
     "execution_count": 52,
     "metadata": {},
     "output_type": "execute_result"
    }
   ],
   "source": [
    "tt.fit_transform(o)"
   ]
  },
  {
   "cell_type": "markdown",
   "metadata": {},
   "source": [
    "## Image Feature Extraction"
   ]
  },
  {
   "cell_type": "code",
   "execution_count": 2,
   "metadata": {},
   "outputs": [],
   "source": [
    "from sklearn.feature_extraction import image"
   ]
  },
  {
   "cell_type": "code",
   "execution_count": 3,
   "metadata": {
    "collapsed": true,
    "jupyter": {
     "outputs_hidden": true
    }
   },
   "outputs": [
    {
     "data": {
      "text/plain": [
       "array([[[ 0,  1,  2],\n",
       "        [ 3,  4,  5],\n",
       "        [ 6,  7,  8],\n",
       "        [ 9, 10, 11]],\n",
       "\n",
       "       [[12, 13, 14],\n",
       "        [15, 16, 17],\n",
       "        [18, 19, 20],\n",
       "        [21, 22, 23]],\n",
       "\n",
       "       [[24, 25, 26],\n",
       "        [27, 28, 29],\n",
       "        [30, 31, 32],\n",
       "        [33, 34, 35]],\n",
       "\n",
       "       [[36, 37, 38],\n",
       "        [39, 40, 41],\n",
       "        [42, 43, 44],\n",
       "        [45, 46, 47]]])"
      ]
     },
     "execution_count": 3,
     "metadata": {},
     "output_type": "execute_result"
    }
   ],
   "source": [
    "array = np.arange(4*4*3).reshape((4,4,3))\n",
    "array"
   ]
  },
  {
   "cell_type": "code",
   "execution_count": 4,
   "metadata": {
    "collapsed": true,
    "jupyter": {
     "outputs_hidden": true
    }
   },
   "outputs": [
    {
     "data": {
      "text/plain": [
       "<matplotlib.image.AxesImage at 0x278ff50c898>"
      ]
     },
     "execution_count": 4,
     "metadata": {},
     "output_type": "execute_result"
    },
    {
     "data": {
      "image/png": "[encoded data removed]",
      "text/plain": [
       "<Figure size 432x288 with 1 Axes>"
      ]
     },
     "metadata": {
      "needs_background": "light"
     },
     "output_type": "display_data"
    }
   ],
   "source": [
    "plt.imshow(array)"
   ]
  },
  {
   "cell_type": "code",
   "execution_count": 5,
   "metadata": {},
   "outputs": [
    {
     "data": {
      "text/plain": [
       "array([[ 0,  3,  6,  9],\n",
       "       [12, 15, 18, 21],\n",
       "       [24, 27, 30, 33],\n",
       "       [36, 39, 42, 45]])"
      ]
     },
     "execution_count": 5,
     "metadata": {},
     "output_type": "execute_result"
    }
   ],
   "source": [
    "array[:,:,0]"
   ]
  },
  {
   "cell_type": "code",
   "execution_count": 6,
   "metadata": {
    "collapsed": true,
    "jupyter": {
     "outputs_hidden": true
    }
   },
   "outputs": [
    {
     "data": {
      "text/plain": [
       "<matplotlib.image.AxesImage at 0x278ff5affd0>"
      ]
     },
     "execution_count": 6,
     "metadata": {},
     "output_type": "execute_result"
    },
    {
     "data": {
      "image/png": "[encoded data removed]",
      "text/plain": [
       "<Figure size 432x288 with 1 Axes>"
      ]
     },
     "metadata": {
      "needs_background": "light"
     },
     "output_type": "display_data"
    }
   ],
   "source": [
    "plt.imshow(array[:,:,0])"
   ]
  },
  {
   "cell_type": "code",
   "execution_count": 62,
   "metadata": {
    "execution": {
     "iopub.execute_input": "2020-07-28T10:33:37.342Z",
     "iopub.status.busy": "2020-07-28T10:33:37.276Z",
     "iopub.status.idle": "2020-07-28T10:33:37.541Z",
     "shell.execute_reply": "2020-07-28T10:33:43.030Z"
    }
   },
   "outputs": [
    {
     "data": {
      "text/plain": [
       "(4, 4, 3)"
      ]
     },
     "execution_count": 62,
     "metadata": {},
     "output_type": "execute_result"
    }
   ],
   "source": [
    "array.shape"
   ]
  },
  {
   "cell_type": "code",
   "execution_count": 7,
   "metadata": {},
   "outputs": [
    {
     "data": {
      "text/plain": [
       "array([[[[ 0,  1,  2],\n",
       "         [ 3,  4,  5]],\n",
       "\n",
       "        [[12, 13, 14],\n",
       "         [15, 16, 17]]],\n",
       "\n",
       "\n",
       "       [[[15, 16, 17],\n",
       "         [18, 19, 20]],\n",
       "\n",
       "        [[27, 28, 29],\n",
       "         [30, 31, 32]]]])"
      ]
     },
     "execution_count": 7,
     "metadata": {},
     "output_type": "execute_result"
    }
   ],
   "source": [
    "patches = image.extract_patches_2d(array,\n",
    "                                   (2,2),\n",
    "                                   max_patches=2,\n",
    "                                   random_state=0)\n",
    "patches"
   ]
  },
  {
   "cell_type": "code",
   "execution_count": 8,
   "metadata": {},
   "outputs": [
    {
     "data": {
      "text/plain": [
       "(2, 2, 2, 3)"
      ]
     },
     "execution_count": 8,
     "metadata": {},
     "output_type": "execute_result"
    }
   ],
   "source": [
    "patches.shape"
   ]
  },
  {
   "cell_type": "code",
   "execution_count": 65,
   "metadata": {
    "execution": {
     "iopub.execute_input": "2020-07-28T10:33:38.051Z",
     "iopub.status.busy": "2020-07-28T10:33:38.007Z",
     "iopub.status.idle": "2020-07-28T10:33:38.154Z",
     "shell.execute_reply": "2020-07-28T10:33:43.169Z"
    }
   },
   "outputs": [
    {
     "data": {
      "text/plain": [
       "array([[[ 0,  3],\n",
       "        [12, 15]],\n",
       "\n",
       "       [[15, 18],\n",
       "        [27, 30]]])"
      ]
     },
     "execution_count": 65,
     "metadata": {},
     "output_type": "execute_result"
    }
   ],
   "source": [
    "patches[:,:,:,0]"
   ]
  },
  {
   "cell_type": "code",
   "execution_count": 9,
   "metadata": {},
   "outputs": [
    {
     "data": {
      "text/plain": [
       "<matplotlib.image.AxesImage at 0x278ff62d6a0>"
      ]
     },
     "execution_count": 9,
     "metadata": {},
     "output_type": "execute_result"
    },
    {
     "data": {
      "image/png": "[encoded data removed]",
      "text/plain": [
       "<Figure size 432x288 with 1 Axes>"
      ]
     },
     "metadata": {
      "needs_background": "light"
     },
     "output_type": "display_data"
    }
   ],
   "source": [
    "plt.imshow(patches[:,:,:,0][0])"
   ]
  },
  {
   "cell_type": "code",
   "execution_count": 10,
   "metadata": {},
   "outputs": [
    {
     "data": {
      "text/plain": [
       "<matplotlib.image.AxesImage at 0x278ff68e940>"
      ]
     },
     "execution_count": 10,
     "metadata": {},
     "output_type": "execute_result"
    },
    {
     "data": {
      "image/png": "[encoded data removed]",
      "text/plain": [
       "<Figure size 432x288 with 1 Axes>"
      ]
     },
     "metadata": {
      "needs_background": "light"
     },
     "output_type": "display_data"
    }
   ],
   "source": [
    "plt.imshow(patches[:,:,:,0][1])"
   ]
  },
  {
   "cell_type": "code",
   "execution_count": 12,
   "metadata": {},
   "outputs": [
    {
     "data": {
      "text/plain": [
       "(4, 4, 3)"
      ]
     },
     "execution_count": 12,
     "metadata": {},
     "output_type": "execute_result"
    }
   ],
   "source": [
    "reconstruct  = image.reconstruct_from_patches_2d(patches,(4,4,3)) \n",
    "reconstruct.shape"
   ]
  },
  {
   "cell_type": "code",
   "execution_count": 13,
   "metadata": {},
   "outputs": [
    {
     "name": "stderr",
     "output_type": "stream",
     "text": [
      "Clipping input data to the valid range for imshow with RGB data ([0..1] for floats or [0..255] for integers).\n"
     ]
    },
    {
     "data": {
      "text/plain": [
       "<matplotlib.image.AxesImage at 0x278ff6f1978>"
      ]
     },
     "execution_count": 13,
     "metadata": {},
     "output_type": "execute_result"
    },
    {
     "data": {
      "image/png": "[encoded data removed]",
      "text/plain": [
       "<Figure size 432x288 with 1 Axes>"
      ]
     },
     "metadata": {
      "needs_background": "light"
     },
     "output_type": "display_data"
    }
   ],
   "source": [
    "plt.imshow(reconstruct)"
   ]
  },
  {
   "cell_type": "code",
   "execution_count": 14,
   "metadata": {},
   "outputs": [],
   "source": [
    "p = image.PatchExtractor(patch_size=(2,2)).transform(patches)"
   ]
  },
  {
   "cell_type": "code",
   "execution_count": 15,
   "metadata": {},
   "outputs": [
    {
     "data": {
      "text/plain": [
       "(2, 2, 2, 3)"
      ]
     },
     "execution_count": 15,
     "metadata": {},
     "output_type": "execute_result"
    }
   ],
   "source": [
    "p.shape"
   ]
  },
  {
   "cell_type": "code",
   "execution_count": 16,
   "metadata": {},
   "outputs": [
    {
     "name": "stderr",
     "output_type": "stream",
     "text": [
      "Clipping input data to the valid range for imshow with RGB data ([0..1] for floats or [0..255] for integers).\n"
     ]
    },
    {
     "data": {
      "text/plain": [
       "<matplotlib.image.AxesImage at 0x278ff6518d0>"
      ]
     },
     "execution_count": 16,
     "metadata": {},
     "output_type": "execute_result"
    },
    {
     "data": {
      "image/png": "[encoded data removed]",
      "text/plain": [
       "<Figure size 432x288 with 1 Axes>"
      ]
     },
     "metadata": {
      "needs_background": "light"
     },
     "output_type": "display_data"
    }
   ],
   "source": [
    "plt.imshow(p[0])"
   ]
  },
  {
   "cell_type": "code",
   "execution_count": 25,
   "metadata": {},
   "outputs": [],
   "source": [
    "import pandas as pd\n",
    "import numpy as np\n",
    "import matplotlib.pyplot as plt\n",
    "%matplotlib inline\n",
    "from skimage.io import imread, imshow"
   ]
  },
  {
   "cell_type": "code",
   "execution_count": 26,
   "metadata": {},
   "outputs": [],
   "source": [
    "path = \"https://raw.githubusercontent.com/reddyprasade/Bird-Classifications-Problem/master/Parrot/1.jpg\""
   ]
  },
  {
   "cell_type": "code",
   "execution_count": 27,
   "metadata": {},
   "outputs": [
    {
     "data": {
      "text/plain": [
       "<matplotlib.image.AxesImage at 0x27884a470b8>"
      ]
     },
     "execution_count": 27,
     "metadata": {},
     "output_type": "execute_result"
    },
    {
     "data": {
      "image/png": "[encoded data removed]",
      "text/plain": [
       "<Figure size 432x288 with 1 Axes>"
      ]
     },
     "metadata": {
      "needs_background": "light"
     },
     "output_type": "display_data"
    }
   ],
   "source": [
    "image = imread(path)\n",
    "plt.imshow(image)"
   ]
  },
  {
   "cell_type": "code",
   "execution_count": 28,
   "metadata": {},
   "outputs": [
    {
     "data": {
      "text/plain": [
       "(622, 960, 3)"
      ]
     },
     "execution_count": 28,
     "metadata": {},
     "output_type": "execute_result"
    }
   ],
   "source": [
    "image.shape"
   ]
  },
  {
   "cell_type": "code",
   "execution_count": 29,
   "metadata": {
    "collapsed": true,
    "jupyter": {
     "outputs_hidden": true
    }
   },
   "outputs": [
    {
     "name": "stdout",
     "output_type": "stream",
     "text": [
      "[[[ 77  68  69]\n",
      "  [ 76  68  66]\n",
      "  [ 78  66  66]\n",
      "  ...\n",
      "  [ 87  69  65]\n",
      "  [ 91  73  69]\n",
      "  [ 99  81  77]]\n",
      "\n",
      " [[ 71  62  63]\n",
      "  [ 72  64  62]\n",
      "  [ 73  63  62]\n",
      "  ...\n",
      "  [ 90  72  68]\n",
      "  [ 92  74  70]\n",
      "  [ 98  80  76]]\n",
      "\n",
      " [[ 67  61  61]\n",
      "  [ 69  61  59]\n",
      "  [ 71  61  60]\n",
      "  ...\n",
      "  [ 93  75  71]\n",
      "  [ 92  74  70]\n",
      "  [ 94  76  72]]\n",
      "\n",
      " ...\n",
      "\n",
      " [[222 221 226]\n",
      "  [226 225 230]\n",
      "  [227 226 231]\n",
      "  ...\n",
      "  [216 218 207]\n",
      "  [217 219 208]\n",
      "  [217 219 208]]\n",
      "\n",
      " [[223 222 227]\n",
      "  [226 225 230]\n",
      "  [228 227 232]\n",
      "  ...\n",
      "  [216 219 212]\n",
      "  [219 222 215]\n",
      "  [222 225 218]]\n",
      "\n",
      " [[224 223 228]\n",
      "  [227 226 231]\n",
      "  [228 227 232]\n",
      "  ...\n",
      "  [222 224 219]\n",
      "  [222 224 219]\n",
      "  [223 225 220]]]\n"
     ]
    }
   ],
   "source": [
    "print(image)"
   ]
  },
  {
   "cell_type": "code",
   "execution_count": 30,
   "metadata": {},
   "outputs": [
    {
     "data": {
      "text/plain": [
       "(597120, 3)"
      ]
     },
     "execution_count": 30,
     "metadata": {},
     "output_type": "execute_result"
    }
   ],
   "source": [
    "features = np.reshape(image,(622*960,3))\n",
    "features.shape"
   ]
  },
  {
   "cell_type": "code",
   "execution_count": 31,
   "metadata": {
    "collapsed": true,
    "jupyter": {
     "outputs_hidden": true
    }
   },
   "outputs": [
    {
     "data": {
      "text/plain": [
       "array([[ 77,  68,  69],\n",
       "       [ 76,  68,  66],\n",
       "       [ 78,  66,  66],\n",
       "       ...,\n",
       "       [222, 224, 219],\n",
       "       [222, 224, 219],\n",
       "       [223, 225, 220]], dtype=uint8)"
      ]
     },
     "execution_count": 31,
     "metadata": {},
     "output_type": "execute_result"
    }
   ],
   "source": [
    "features"
   ]
  },
  {
   "cell_type": "code",
   "execution_count": 32,
   "metadata": {},
   "outputs": [],
   "source": [
    "from skimage.filters import prewitt_h,prewitt_v"
   ]
  },
  {
   "cell_type": "code",
   "execution_count": 33,
   "metadata": {},
   "outputs": [],
   "source": [
    "#calculating horizontal edges using prewitt kernel\n",
    "edges_prewitt_horizontal = prewitt_h(features)"
   ]
  },
  {
   "cell_type": "code",
   "execution_count": 34,
   "metadata": {
    "collapsed": true,
    "jupyter": {
     "outputs_hidden": true
    }
   },
   "outputs": [
    {
     "data": {
      "text/plain": [
       "<matplotlib.image.AxesImage at 0x27884a9e908>"
      ]
     },
     "execution_count": 34,
     "metadata": {},
     "output_type": "execute_result"
    },
    {
     "data": {
      "image/png": "[encoded data removed]",
      "text/plain": [
       "<Figure size 432x288 with 2 Axes>"
      ]
     },
     "metadata": {
      "needs_background": "light"
     },
     "output_type": "display_data"
    }
   ],
   "source": [
    "imshow(edges_prewitt_horizontal, cmap='gray')"
   ]
  },
  {
   "cell_type": "code",
   "execution_count": 35,
   "metadata": {},
   "outputs": [],
   "source": [
    "#calculating vertical edges using prewitt kernel\n",
    "edges_prewitt_vertical = prewitt_v(features)"
   ]
  },
  {
   "cell_type": "code",
   "execution_count": 36,
   "metadata": {
    "collapsed": true,
    "jupyter": {
     "outputs_hidden": true
    }
   },
   "outputs": [
    {
     "data": {
      "text/plain": [
       "<matplotlib.image.AxesImage at 0x27884b565c0>"
      ]
     },
     "execution_count": 36,
     "metadata": {},
     "output_type": "execute_result"
    },
    {
     "data": {
      "image/png": "[encoded data removed]",
      "text/plain": [
       "<Figure size 432x288 with 2 Axes>"
      ]
     },
     "metadata": {
      "needs_background": "light"
     },
     "output_type": "display_data"
    }
   ],
   "source": [
    "imshow(edges_prewitt_vertical, cmap='gray')"
   ]
  },
  {
   "cell_type": "markdown",
   "metadata": {},
   "source": [
    "### grid to Graph "
   ]
  },
  {
   "cell_type": "code",
   "execution_count": 38,
   "metadata": {},
   "outputs": [],
   "source": [
    "from skimage.data import coins\n",
    "from skimage.transform import rescale"
   ]
  },
  {
   "cell_type": "code",
   "execution_count": 39,
   "metadata": {},
   "outputs": [],
   "source": [
    "orig_coins  = coins()"
   ]
  },
  {
   "cell_type": "code",
   "execution_count": 41,
   "metadata": {
    "collapsed": true,
    "jupyter": {
     "outputs_hidden": true
    }
   },
   "outputs": [
    {
     "data": {
      "text/plain": [
       "array([[ 47, 123, 133, ...,  14,   3,  12],\n",
       "       [ 93, 144, 145, ...,  12,   7,   7],\n",
       "       [126, 147, 143, ...,   2,  13,   3],\n",
       "       ...,\n",
       "       [ 81,  79,  74, ...,   6,   4,   7],\n",
       "       [ 88,  82,  74, ...,   5,   7,   8],\n",
       "       [ 91,  79,  68, ...,   4,  10,   7]], dtype=uint8)"
      ]
     },
     "execution_count": 41,
     "metadata": {},
     "output_type": "execute_result"
    }
   ],
   "source": [
    "orig_coins"
   ]
  },
  {
   "cell_type": "code",
   "execution_count": 43,
   "metadata": {},
   "outputs": [
    {
     "data": {
      "text/plain": [
       "(303, 384)"
      ]
     },
     "execution_count": 43,
     "metadata": {},
     "output_type": "execute_result"
    }
   ],
   "source": [
    "orig_coins.shape"
   ]
  },
  {
   "cell_type": "code",
   "execution_count": 42,
   "metadata": {
    "collapsed": true,
    "jupyter": {
     "outputs_hidden": true
    }
   },
   "outputs": [
    {
     "data": {
      "text/plain": [
       "<matplotlib.image.AxesImage at 0x2788a61ea58>"
      ]
     },
     "execution_count": 42,
     "metadata": {},
     "output_type": "execute_result"
    },
    {
     "data": {
      "image/png": "[encoded data removed]",
      "text/plain": [
       "<Figure size 432x288 with 1 Axes>"
      ]
     },
     "metadata": {
      "needs_background": "light"
     },
     "output_type": "display_data"
    }
   ],
   "source": [
    "plt.imshow(orig_coins)"
   ]
  },
  {
   "cell_type": "code",
   "execution_count": 44,
   "metadata": {
    "collapsed": true,
    "jupyter": {
     "outputs_hidden": true
    }
   },
   "outputs": [
    {
     "data": {
      "text/plain": [
       "array([[117, 121, 127, ...,  27,  17,  13],\n",
       "       [120, 124, 128, ...,  29,  19,  13],\n",
       "       [125, 127, 130, ...,  32,  21,  16],\n",
       "       ...,\n",
       "       [ 79,  78,  75, ...,   9,   7,   6],\n",
       "       [ 79,  77,  75, ...,   8,   6,   6],\n",
       "       [ 79,  77,  74, ...,   7,   6,   6]], dtype=uint8)"
      ]
     },
     "execution_count": 44,
     "metadata": {},
     "output_type": "execute_result"
    }
   ],
   "source": [
    "from scipy.ndimage.filters import gaussian_filter\n",
    "\n",
    "smooth_coins = gaussian_filter(orig_coins,sigma=2)\n",
    "smooth_coins"
   ]
  },
  {
   "cell_type": "code",
   "execution_count": 45,
   "metadata": {
    "collapsed": true,
    "jupyter": {
     "outputs_hidden": true
    }
   },
   "outputs": [
    {
     "data": {
      "text/plain": [
       "<matplotlib.image.AxesImage at 0x2788ac78ba8>"
      ]
     },
     "execution_count": 45,
     "metadata": {},
     "output_type": "execute_result"
    },
    {
     "data": {
      "image/png": "[encoded data removed]",
      "text/plain": [
       "<Figure size 432x288 with 1 Axes>"
      ]
     },
     "metadata": {
      "needs_background": "light"
     },
     "output_type": "display_data"
    }
   ],
   "source": [
    "plt.imshow(smooth_coins)"
   ]
  },
  {
   "cell_type": "code",
   "execution_count": 48,
   "metadata": {},
   "outputs": [],
   "source": [
    "rescaled_coins = rescale(smooth_coins, 0.2, mode=\"reflect\")"
   ]
  },
  {
   "cell_type": "code",
   "execution_count": 49,
   "metadata": {
    "collapsed": true,
    "jupyter": {
     "outputs_hidden": true
    }
   },
   "outputs": [
    {
     "data": {
      "text/plain": [
       "<matplotlib.image.AxesImage at 0x2788ad9e4a8>"
      ]
     },
     "execution_count": 49,
     "metadata": {},
     "output_type": "execute_result"
    },
    {
     "data": {
      "image/png": "[encoded data removed]",
      "text/plain": [
       "<Figure size 432x288 with 1 Axes>"
      ]
     },
     "metadata": {
      "needs_background": "light"
     },
     "output_type": "display_data"
    }
   ],
   "source": [
    "plt.imshow(rescaled_coins)"
   ]
  },
  {
   "cell_type": "code",
   "execution_count": 52,
   "metadata": {},
   "outputs": [
    {
     "data": {
      "text/plain": [
       "<4697x4697 sparse matrix of type '<class 'numpy.int32'>'\n",
       "\twith 23209 stored elements in COOrdinate format>"
      ]
     },
     "execution_count": 52,
     "metadata": {},
     "output_type": "execute_result"
    }
   ],
   "source": [
    "from sklearn.feature_extraction.image import grid_to_graph\n",
    "connectivity = grid_to_graph(*rescaled_coins.shape)\n",
    "connectivity"
   ]
  },
  {
   "cell_type": "code",
   "execution_count": 55,
   "metadata": {
    "collapsed": true,
    "jupyter": {
     "outputs_hidden": true
    }
   },
   "outputs": [
    {
     "data": {
      "text/plain": [
       "array([[1, 1, 0, ..., 0, 0, 0],\n",
       "       [1, 1, 1, ..., 0, 0, 0],\n",
       "       [0, 1, 1, ..., 0, 0, 0],\n",
       "       ...,\n",
       "       [0, 0, 0, ..., 1, 1, 0],\n",
       "       [0, 0, 0, ..., 1, 1, 1],\n",
       "       [0, 0, 0, ..., 0, 1, 1]])"
      ]
     },
     "execution_count": 55,
     "metadata": {},
     "output_type": "execute_result"
    }
   ],
   "source": [
    "ar = connectivity.toarray()\n",
    "ar"
   ]
  },
  {
   "cell_type": "code",
   "execution_count": 56,
   "metadata": {
    "collapsed": true,
    "jupyter": {
     "outputs_hidden": true
    }
   },
   "outputs": [
    {
     "data": {
      "text/plain": [
       "<matplotlib.image.AxesImage at 0x2788b7e2a20>"
      ]
     },
     "execution_count": 56,
     "metadata": {},
     "output_type": "execute_result"
    },
    {
     "data": {
      "image/png": "[encoded data removed]",
      "text/plain": [
       "<Figure size 432x288 with 1 Axes>"
      ]
     },
     "metadata": {
      "needs_background": "light"
     },
     "output_type": "display_data"
    }
   ],
   "source": [
    "plt.imshow(ar)"
   ]
  },
  {
   "cell_type": "code",
   "execution_count": null,
   "metadata": {},
   "outputs": [],
   "source": []
  }
 ],
 "metadata": {
  "kernelspec": {
   "display_name": "Python 3",
   "language": "python",
   "name": "python3"
  },
  "language_info": {
   "codemirror_mode": {
    "name": "ipython",
    "version": 3
   },
   "file_extension": ".py",
   "mimetype": "text/x-python",
   "name": "python",
   "nbconvert_exporter": "python",
   "pygments_lexer": "ipython3",
   "version": "3.6.8"
  },
  "nteract": {
   "version": "0.24.1"
  }
 },
 "nbformat": 4,
 "nbformat_minor": 4
}
