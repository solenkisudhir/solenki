{
 "cells": [
  {
   "cell_type": "markdown",
   "metadata": {
    "nteract": {
     "transient": {
      "deleting": false
     }
    }
   },
   "source": [
    "### DistanceMetric\n",
    "\n",
    "This class provides a uniform interface to fast distance metric functions. The various metrics can be accessed via the get_metric class method and the metric string identifier"
   ]
  },
  {
   "cell_type": "markdown",
   "metadata": {
    "nteract": {
     "transient": {
      "deleting": false
     }
    }
   },
   "source": [
    "**Available Metrics**\n",
    "\n",
    "The following lists the string metric identifiers and the associated distance metric classes:\n",
    "\n",
    "* Metrics intended for real-valued vector spaces:\n",
    "\n",
    "|**Identifier**|**Class name in scikit-learn**|**Args**|**Distance function**|\n",
    "|--------------|------------|------------|------------|\n",
    "|`Euclidean`|EuclideanDistance|.|$sqrt(sum((x - y)^2))$|\n",
    "|`Manhattan`|ManhattanDistance|.|$sum(x - y)$|\n",
    "|`chebyshev`|ChebyshevDistance|.|$max(x - y)$|\n",
    "|`minkowski`|MinkowskiDistance|p|$sum(x - y^p)^(1/p)$|\n",
    "|`wminkowski`|WMinkowskiDistance|p, w|$sum(w * (x - y)^p)^(1/p)$|\n",
    "|`seuclidean`|SEuclideanDistance|V|$sqrt(sum((x - y)^2 / V))$|\n",
    "|`mahalanobis`|MahalanobisDistance|V or VI|$sqrt((x - y)' V^-1 (x - y))$|\n",
    "\n",
    "\n",
    "\n",
    "**Metrics intended for two-dimensional vector spaces:**\n",
    "\n",
    "* Note that the haversine distance metric requires data in the form of [latitude, longitude] and both inputs and outputs are in units of radians.\n",
    "\n",
    "|**Identifier**|**Class name in scikit-learn**|**Distance function**|\n",
    "|--------------|------------|------------|------------|\n",
    "|`haversine`|HaversineDistance|$2 arcsin(sqrt(sin^2(0.5*dx) + cos(x1)cos(x2)sin^2(0.5*dy)))$|"
   ]
  },
  {
   "cell_type": "code",
   "execution_count": 2,
   "metadata": {
    "nteract": {
     "transient": {
      "deleting": false
     }
    }
   },
   "outputs": [
    {
     "data": {
      "text/plain": [
       "array([[0, 1, 2],\n",
       "       [3, 4, 5]])"
      ]
     },
     "execution_count": 2,
     "metadata": {},
     "output_type": "execute_result"
    }
   ],
   "source": [
    "from sklearn.neighbors import DistanceMetric\n",
    "import numpy as np\n",
    "\n",
    "euclidean_dist = DistanceMetric.get_metric('euclidean')\n",
    "X = np.array([[0, 1, 2],[3, 4, 5]])\n",
    "X"
   ]
  },
  {
   "cell_type": "code",
   "execution_count": 3,
   "metadata": {
    "nteract": {
     "transient": {
      "deleting": false
     }
    }
   },
   "outputs": [
    {
     "data": {
      "text/plain": [
       "array([[0.        , 5.19615242],\n",
       "       [5.19615242, 0.        ]])"
      ]
     },
     "execution_count": 3,
     "metadata": {},
     "output_type": "execute_result"
    }
   ],
   "source": [
    "euclidean_dist.pairwise(X)"
   ]
  },
  {
   "cell_type": "code",
   "execution_count": 4,
   "metadata": {
    "nteract": {
     "transient": {
      "deleting": false
     }
    }
   },
   "outputs": [],
   "source": [
    "Manhattan_dist = DistanceMetric.get_metric('manhattan')"
   ]
  },
  {
   "cell_type": "code",
   "execution_count": 5,
   "metadata": {
    "nteract": {
     "transient": {
      "deleting": false
     }
    }
   },
   "outputs": [
    {
     "data": {
      "text/plain": [
       "array([[0., 9.],\n",
       "       [9., 0.]])"
      ]
     },
     "execution_count": 5,
     "metadata": {},
     "output_type": "execute_result"
    }
   ],
   "source": [
    "Manhattan_dist.pairwise(X)"
   ]
  },
  {
   "cell_type": "code",
   "execution_count": 6,
   "metadata": {
    "nteract": {
     "transient": {
      "deleting": false
     }
    }
   },
   "outputs": [],
   "source": [
    "ChebyshevDistance = DistanceMetric.get_metric('chebyshev')"
   ]
  },
  {
   "cell_type": "code",
   "execution_count": 7,
   "metadata": {
    "nteract": {
     "transient": {
      "deleting": false
     }
    }
   },
   "outputs": [
    {
     "data": {
      "text/plain": [
       "array([[0., 3.],\n",
       "       [3., 0.]])"
      ]
     },
     "execution_count": 7,
     "metadata": {},
     "output_type": "execute_result"
    }
   ],
   "source": [
    "ChebyshevDistance.pairwise(X)"
   ]
  },
  {
   "cell_type": "code",
   "execution_count": 8,
   "metadata": {
    "nteract": {
     "transient": {
      "deleting": false
     }
    }
   },
   "outputs": [
    {
     "data": {
      "text/plain": [
       "array([[0.        , 5.19615242],\n",
       "       [5.19615242, 0.        ]])"
      ]
     },
     "execution_count": 8,
     "metadata": {},
     "output_type": "execute_result"
    }
   ],
   "source": [
    "MinkowskiDistance = DistanceMetric.get_metric('minkowski')\n",
    "MinkowskiDistance.pairwise(X)"
   ]
  },
  {
   "cell_type": "code",
   "execution_count": 10,
   "metadata": {
    "nteract": {
     "transient": {
      "deleting": false
     }
    }
   },
   "outputs": [
    {
     "data": {
      "text/plain": [
       "2.0"
      ]
     },
     "execution_count": 10,
     "metadata": {},
     "output_type": "execute_result"
    }
   ],
   "source": [
    "from scipy.spatial import distance\n",
    "distance.wminkowski([1, 0, 0], [0, 1, 0], 1, np.ones(3))"
   ]
  }
 ],
 "metadata": {
  "kernel_info": {
   "name": "python3"
  },
  "kernelspec": {
   "display_name": "Python 3",
   "language": "python",
   "name": "python3"
  },
  "language_info": {
   "codemirror_mode": {
    "name": "ipython",
    "version": 3
   },
   "file_extension": ".py",
   "mimetype": "text/x-python",
   "name": "python",
   "nbconvert_exporter": "python",
   "pygments_lexer": "ipython3",
   "version": "3.6.8"
  },
  "nteract": {
   "version": "0.24.0"
  }
 },
 "nbformat": 4,
 "nbformat_minor": 4
}
