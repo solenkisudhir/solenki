{
  "cells": [
    {
      "cell_type": "markdown",
      "source": [
        "### Feature Engineering\n",
        "\n",
        "* Feature Engineering other wise called it as Data preprocessing \n",
        "* In this exercise you'll apply more advanced encodings to encode the categorical variables ito improve your classifier model. The encodings you will implement are:\n",
        "* Types of Encodings:\n",
        "    * Count Encoding\n",
        "    * Target Encoding\n",
        "    * Leave-one-out Encoding\n",
        "    * CatBoost Encoding\n",
        "    * Feature embedding with SVD"
      ],
      "metadata": {}
    },
    {
      "cell_type": "code",
      "source": [
        "import numpy as np\n",
        "import pandas as pd\n",
        "from sklearn import preprocessing, metrics\n",
        "import lightgbm as lgb"
      ],
      "outputs": [],
      "execution_count": 1,
      "metadata": {
        "execution": {
          "iopub.status.busy": "2020-07-26T10:11:07.656Z",
          "iopub.execute_input": "2020-07-26T10:11:07.669Z",
          "iopub.status.idle": "2020-07-26T10:11:08.641Z",
          "shell.execute_reply": "2020-07-26T10:11:08.631Z"
        }
      }
    },
    {
      "cell_type": "code",
      "source": [
        "clicks = pd.read_parquet(\"Datasets/Feature Enginering/baseline_data.pqt\")"
      ],
      "outputs": [],
      "execution_count": 2,
      "metadata": {
        "execution": {
          "iopub.status.busy": "2020-07-26T10:11:10.753Z",
          "iopub.execute_input": "2020-07-26T10:11:10.770Z",
          "iopub.status.idle": "2020-07-26T10:11:11.263Z",
          "shell.execute_reply": "2020-07-26T10:11:11.276Z"
        }
      }
    },
    {
      "cell_type": "code",
      "source": [
        "clicks"
      ],
      "outputs": [
        {
          "output_type": "execute_result",
          "execution_count": 3,
          "data": {
            "text/plain": "             ip  app  device  os  channel          click_time  \\\n0         27226    3       1  13      120 2017-11-06 15:13:23   \n1        110007   35       1  13       10 2017-11-06 15:41:07   \n2          1047    6       1  13      157 2017-11-06 15:42:32   \n3         76270    3       1  13      120 2017-11-06 15:56:17   \n4         57862    3       1  13      120 2017-11-06 15:57:01   \n...         ...  ...     ...  ..      ...                 ...   \n2300556    9791    2       1  19      166 2017-11-09 15:59:59   \n2300557    6240   14       1  13      146 2017-11-09 15:59:59   \n2300558   15098   12       2  17       50 2017-11-09 16:00:00   \n2300559   10538   12       1  15       41 2017-11-09 16:00:00   \n2300560  135784    9       1  19       36 2017-11-09 16:00:00   \n\n             attributed_time  is_attributed  day  hour  minute  second  \n0                       None              0    6    15      13      23  \n1        2017-11-07 08:17:19              1    6    15      41       7  \n2                       None              0    6    15      42      32  \n3                       None              0    6    15      56      17  \n4                       None              0    6    15      57       1  \n...                      ...            ...  ...   ...     ...     ...  \n2300556                 None              0    9    15      59      59  \n2300557                 None              0    9    15      59      59  \n2300558                 None              0    9    16       0       0  \n2300559                 None              0    9    16       0       0  \n2300560                 None              0    9    16       0       0  \n\n[2300561 rows x 12 columns]",
            "text/html": "<div>\n<style scoped>\n    .dataframe tbody tr th:only-of-type {\n        vertical-align: middle;\n    }\n\n    .dataframe tbody tr th {\n        vertical-align: top;\n    }\n\n    .dataframe thead th {\n        text-align: right;\n    }\n</style>\n<table border=\"1\" class=\"dataframe\">\n  <thead>\n    <tr style=\"text-align: right;\">\n      <th></th>\n      <th>ip</th>\n      <th>app</th>\n      <th>device</th>\n      <th>os</th>\n      <th>channel</th>\n      <th>click_time</th>\n      <th>attributed_time</th>\n      <th>is_attributed</th>\n      <th>day</th>\n      <th>hour</th>\n      <th>minute</th>\n      <th>second</th>\n    </tr>\n  </thead>\n  <tbody>\n    <tr>\n      <th>0</th>\n      <td>27226</td>\n      <td>3</td>\n      <td>1</td>\n      <td>13</td>\n      <td>120</td>\n      <td>2017-11-06 15:13:23</td>\n      <td>None</td>\n      <td>0</td>\n      <td>6</td>\n      <td>15</td>\n      <td>13</td>\n      <td>23</td>\n    </tr>\n    <tr>\n      <th>1</th>\n      <td>110007</td>\n      <td>35</td>\n      <td>1</td>\n      <td>13</td>\n      <td>10</td>\n      <td>2017-11-06 15:41:07</td>\n      <td>2017-11-07 08:17:19</td>\n      <td>1</td>\n      <td>6</td>\n      <td>15</td>\n      <td>41</td>\n      <td>7</td>\n    </tr>\n    <tr>\n      <th>2</th>\n      <td>1047</td>\n      <td>6</td>\n      <td>1</td>\n      <td>13</td>\n      <td>157</td>\n      <td>2017-11-06 15:42:32</td>\n      <td>None</td>\n      <td>0</td>\n      <td>6</td>\n      <td>15</td>\n      <td>42</td>\n      <td>32</td>\n    </tr>\n    <tr>\n      <th>3</th>\n      <td>76270</td>\n      <td>3</td>\n      <td>1</td>\n      <td>13</td>\n      <td>120</td>\n      <td>2017-11-06 15:56:17</td>\n      <td>None</td>\n      <td>0</td>\n      <td>6</td>\n      <td>15</td>\n      <td>56</td>\n      <td>17</td>\n    </tr>\n    <tr>\n      <th>4</th>\n      <td>57862</td>\n      <td>3</td>\n      <td>1</td>\n      <td>13</td>\n      <td>120</td>\n      <td>2017-11-06 15:57:01</td>\n      <td>None</td>\n      <td>0</td>\n      <td>6</td>\n      <td>15</td>\n      <td>57</td>\n      <td>1</td>\n    </tr>\n    <tr>\n      <th>...</th>\n      <td>...</td>\n      <td>...</td>\n      <td>...</td>\n      <td>...</td>\n      <td>...</td>\n      <td>...</td>\n      <td>...</td>\n      <td>...</td>\n      <td>...</td>\n      <td>...</td>\n      <td>...</td>\n      <td>...</td>\n    </tr>\n    <tr>\n      <th>2300556</th>\n      <td>9791</td>\n      <td>2</td>\n      <td>1</td>\n      <td>19</td>\n      <td>166</td>\n      <td>2017-11-09 15:59:59</td>\n      <td>None</td>\n      <td>0</td>\n      <td>9</td>\n      <td>15</td>\n      <td>59</td>\n      <td>59</td>\n    </tr>\n    <tr>\n      <th>2300557</th>\n      <td>6240</td>\n      <td>14</td>\n      <td>1</td>\n      <td>13</td>\n      <td>146</td>\n      <td>2017-11-09 15:59:59</td>\n      <td>None</td>\n      <td>0</td>\n      <td>9</td>\n      <td>15</td>\n      <td>59</td>\n      <td>59</td>\n    </tr>\n    <tr>\n      <th>2300558</th>\n      <td>15098</td>\n      <td>12</td>\n      <td>2</td>\n      <td>17</td>\n      <td>50</td>\n      <td>2017-11-09 16:00:00</td>\n      <td>None</td>\n      <td>0</td>\n      <td>9</td>\n      <td>16</td>\n      <td>0</td>\n      <td>0</td>\n    </tr>\n    <tr>\n      <th>2300559</th>\n      <td>10538</td>\n      <td>12</td>\n      <td>1</td>\n      <td>15</td>\n      <td>41</td>\n      <td>2017-11-09 16:00:00</td>\n      <td>None</td>\n      <td>0</td>\n      <td>9</td>\n      <td>16</td>\n      <td>0</td>\n      <td>0</td>\n    </tr>\n    <tr>\n      <th>2300560</th>\n      <td>135784</td>\n      <td>9</td>\n      <td>1</td>\n      <td>19</td>\n      <td>36</td>\n      <td>2017-11-09 16:00:00</td>\n      <td>None</td>\n      <td>0</td>\n      <td>9</td>\n      <td>16</td>\n      <td>0</td>\n      <td>0</td>\n    </tr>\n  </tbody>\n</table>\n<p>2300561 rows × 12 columns</p>\n</div>"
          },
          "metadata": {}
        }
      ],
      "execution_count": 3,
      "metadata": {
        "execution": {
          "iopub.status.busy": "2020-07-26T10:11:12.886Z",
          "iopub.execute_input": "2020-07-26T10:11:13.078Z",
          "iopub.status.idle": "2020-07-26T10:11:13.129Z",
          "shell.execute_reply": "2020-07-26T10:11:13.153Z"
        }
      }
    },
    {
      "cell_type": "code",
      "source": [
        "clicks.head()"
      ],
      "outputs": [],
      "execution_count": null,
      "metadata": {}
    },
    {
      "cell_type": "code",
      "source": [
        "clicks.tail()"
      ],
      "outputs": [],
      "execution_count": null,
      "metadata": {}
    },
    {
      "cell_type": "code",
      "source": [
        "clicks.describe()"
      ],
      "outputs": [],
      "execution_count": null,
      "metadata": {}
    },
    {
      "cell_type": "code",
      "source": [
        "import pandas_profiling as pp\n",
        "pp.ProfileReport(clicks)"
      ],
      "outputs": [],
      "execution_count": null,
      "metadata": {}
    },
    {
      "cell_type": "code",
      "source": [
        "def get_data_splits(dataframe,valid_fraction=0.1):\n",
        "    \n",
        "    \"\"\" Splits a dataframe into train, validation, and test sets. First, orders by \n",
        "        the column 'click_time'. Set the size of the validation and test sets with\n",
        "        the valid_fraction keyword argument.\n",
        "    \"\"\"\n",
        "    dataframe = dataframe.sort_values('click_time')\n",
        "    valid_rows = int(len(dataframe)*valid_fraction)\n",
        "    train = dataframe[:-valid_rows*2]\n",
        "    valid = dataframe[-valid_rows * 2:-valid_rows]\n",
        "    test = dataframe[-valid_rows:]\n",
        "    \n",
        "    return train,valid,test"
      ],
      "outputs": [],
      "execution_count": 4,
      "metadata": {
        "execution": {
          "shell.execute_reply": "2020-07-26T10:11:16.506Z",
          "iopub.status.busy": "2020-07-26T10:11:16.483Z",
          "iopub.execute_input": "2020-07-26T10:11:16.489Z",
          "iopub.status.idle": "2020-07-26T10:11:16.501Z"
        }
      }
    },
    {
      "cell_type": "code",
      "source": [
        "def train_model(train, valid, test=None,feature_cols= None):\n",
        "    if feature_cols is None:\n",
        "        feature_cols = train.columns.drop(['click_time','attributed_time','is_attributed'])\n",
        "        \n",
        "        dtrian = lgb.Dataset(train[feature_cols],label= train['is_attributed'])\n",
        "        dvalid = lgb.Dataset(valid[feature_cols],label= valid['is_attributed'])\n",
        "        \n",
        "        param = {'num_leaves': 64, 'objective': 'binary', \n",
        "             'metric': 'auc', 'seed': 7}\n",
        "        \n",
        "        num_round = 1000\n",
        "        print(\"Training model!\")\n",
        "        \n",
        "        bst = lgb.train(param,\n",
        "                        dtrian,\n",
        "                        num_round,\n",
        "                        valid_sets=[dvalid],\n",
        "                        early_stopping_rounds=20,\n",
        "                        verbose_eval=False)\n",
        "        valid_pred = bst.predict(valid[feature_cols])\n",
        "        # Score of model\n",
        "        valid_score = metrics.roc_auc_score(valid['is_attributed'],valid_pred)\n",
        "        print(f\"Validation AUC score: {valid_score}\")\n",
        "        \n",
        "        if test is not None:\n",
        "            test_pred = bst.predict(test[feature_cols])\n",
        "            test_score = metrics.roc_auc_score(test['is_attributed'],test_pred)\n",
        "            return bst,valid_score,test_score\n",
        "        else:\n",
        "            return bst, valid_score\n",
        "        "
      ],
      "outputs": [],
      "execution_count": 5,
      "metadata": {
        "execution": {
          "iopub.status.busy": "2020-07-26T10:11:17.871Z",
          "iopub.execute_input": "2020-07-26T10:11:17.877Z",
          "shell.execute_reply": "2020-07-26T10:11:17.897Z",
          "iopub.status.idle": "2020-07-26T10:11:17.887Z"
        }
      }
    },
    {
      "cell_type": "code",
      "source": [
        "print(\"Baseline model\")\n",
        "train,valid,test =get_data_splits(clicks)\n",
        "_ = train_model(train,valid)"
      ],
      "outputs": [
        {
          "output_type": "stream",
          "name": "stdout",
          "text": [
            "Baseline model\n",
            "Training model!\n",
            "Validation AUC score: 0.9622743228943659\n"
          ]
        }
      ],
      "execution_count": 6,
      "metadata": {
        "execution": {
          "iopub.status.busy": "2020-07-26T10:11:19.981Z",
          "iopub.execute_input": "2020-07-26T10:11:19.992Z",
          "iopub.status.idle": "2020-07-26T10:12:19.294Z",
          "shell.execute_reply": "2020-07-26T10:12:19.311Z"
        }
      }
    },
    {
      "cell_type": "code",
      "source": [
        "import category_encoders as ce"
      ],
      "outputs": [],
      "execution_count": 7,
      "metadata": {
        "execution": {
          "iopub.status.busy": "2020-07-26T10:12:33.202Z",
          "iopub.execute_input": "2020-07-26T10:12:33.246Z",
          "iopub.status.idle": "2020-07-26T10:12:34.900Z",
          "shell.execute_reply": "2020-07-26T10:12:34.914Z"
        }
      }
    },
    {
      "cell_type": "code",
      "source": [
        "clicks.columns"
      ],
      "outputs": [
        {
          "output_type": "execute_result",
          "execution_count": 8,
          "data": {
            "text/plain": "Index(['ip', 'app', 'device', 'os', 'channel', 'click_time', 'attributed_time',\n       'is_attributed', 'day', 'hour', 'minute', 'second'],\n      dtype='object')"
          },
          "metadata": {}
        }
      ],
      "execution_count": 8,
      "metadata": {
        "execution": {
          "iopub.status.busy": "2020-07-26T10:12:36.761Z",
          "iopub.execute_input": "2020-07-26T10:12:36.769Z",
          "iopub.status.idle": "2020-07-26T10:12:36.797Z",
          "shell.execute_reply": "2020-07-26T10:12:36.844Z"
        }
      }
    },
    {
      "cell_type": "code",
      "source": [
        "cat_features = ['ip', 'app', 'device', 'os', 'channel']\n",
        "train, valid, test = get_data_splits(clicks)\n",
        "# Create the count encoder\n",
        "count_enc = ce.CountEncoder(cols=cat_features)\n",
        "\n",
        "# Learn encoding from the training set\n",
        "count_enc.fit(train[cat_features])\n",
        "\n",
        "# Apply encoding to the train and validation sets as new columns\n",
        "# Make sure to add `_count` as a suffix to the new columns\n",
        "train_encoded = train.join(count_enc.transform(train[cat_features]).add_suffix('_count'))\n",
        "valid_encoded = valid.join(count_enc.transform(valid[cat_features]).add_suffix('_count'))"
      ],
      "outputs": [],
      "execution_count": 9,
      "metadata": {
        "execution": {
          "iopub.status.busy": "2020-07-26T10:12:38.176Z",
          "iopub.execute_input": "2020-07-26T10:12:38.182Z",
          "iopub.status.idle": "2020-07-26T10:12:41.074Z",
          "shell.execute_reply": "2020-07-26T10:12:41.087Z"
        }
      }
    },
    {
      "cell_type": "code",
      "source": [
        "train_encoded.head()"
      ],
      "outputs": [
        {
          "output_type": "execute_result",
          "execution_count": 10,
          "data": {
            "text/plain": "       ip  app  device  os  channel          click_time      attributed_time  \\\n0   27226    3       1  13      120 2017-11-06 15:13:23                 None   \n1  110007   35       1  13       10 2017-11-06 15:41:07  2017-11-07 08:17:19   \n2    1047    6       1  13      157 2017-11-06 15:42:32                 None   \n3   76270    3       1  13      120 2017-11-06 15:56:17                 None   \n4   57862    3       1  13      120 2017-11-06 15:57:01                 None   \n\n   is_attributed  day  hour  minute  second  ip_count  app_count  \\\n0              0    6    15      13      23        68     292254   \n1              1    6    15      41       7         4      60114   \n2              0    6    15      42      32       118      19564   \n3              0    6    15      56      17        29     292254   \n4              0    6    15      57       1        31     292254   \n\n   device_count  os_count  channel_count  \n0       1648091    370652          26760  \n1       1648091    370652          41256  \n2       1648091    370652          31221  \n3       1648091    370652          26760  \n4       1648091    370652          26760  ",
            "text/html": "<div>\n<style scoped>\n    .dataframe tbody tr th:only-of-type {\n        vertical-align: middle;\n    }\n\n    .dataframe tbody tr th {\n        vertical-align: top;\n    }\n\n    .dataframe thead th {\n        text-align: right;\n    }\n</style>\n<table border=\"1\" class=\"dataframe\">\n  <thead>\n    <tr style=\"text-align: right;\">\n      <th></th>\n      <th>ip</th>\n      <th>app</th>\n      <th>device</th>\n      <th>os</th>\n      <th>channel</th>\n      <th>click_time</th>\n      <th>attributed_time</th>\n      <th>is_attributed</th>\n      <th>day</th>\n      <th>hour</th>\n      <th>minute</th>\n      <th>second</th>\n      <th>ip_count</th>\n      <th>app_count</th>\n      <th>device_count</th>\n      <th>os_count</th>\n      <th>channel_count</th>\n    </tr>\n  </thead>\n  <tbody>\n    <tr>\n      <th>0</th>\n      <td>27226</td>\n      <td>3</td>\n      <td>1</td>\n      <td>13</td>\n      <td>120</td>\n      <td>2017-11-06 15:13:23</td>\n      <td>None</td>\n      <td>0</td>\n      <td>6</td>\n      <td>15</td>\n      <td>13</td>\n      <td>23</td>\n      <td>68</td>\n      <td>292254</td>\n      <td>1648091</td>\n      <td>370652</td>\n      <td>26760</td>\n    </tr>\n    <tr>\n      <th>1</th>\n      <td>110007</td>\n      <td>35</td>\n      <td>1</td>\n      <td>13</td>\n      <td>10</td>\n      <td>2017-11-06 15:41:07</td>\n      <td>2017-11-07 08:17:19</td>\n      <td>1</td>\n      <td>6</td>\n      <td>15</td>\n      <td>41</td>\n      <td>7</td>\n      <td>4</td>\n      <td>60114</td>\n      <td>1648091</td>\n      <td>370652</td>\n      <td>41256</td>\n    </tr>\n    <tr>\n      <th>2</th>\n      <td>1047</td>\n      <td>6</td>\n      <td>1</td>\n      <td>13</td>\n      <td>157</td>\n      <td>2017-11-06 15:42:32</td>\n      <td>None</td>\n      <td>0</td>\n      <td>6</td>\n      <td>15</td>\n      <td>42</td>\n      <td>32</td>\n      <td>118</td>\n      <td>19564</td>\n      <td>1648091</td>\n      <td>370652</td>\n      <td>31221</td>\n    </tr>\n    <tr>\n      <th>3</th>\n      <td>76270</td>\n      <td>3</td>\n      <td>1</td>\n      <td>13</td>\n      <td>120</td>\n      <td>2017-11-06 15:56:17</td>\n      <td>None</td>\n      <td>0</td>\n      <td>6</td>\n      <td>15</td>\n      <td>56</td>\n      <td>17</td>\n      <td>29</td>\n      <td>292254</td>\n      <td>1648091</td>\n      <td>370652</td>\n      <td>26760</td>\n    </tr>\n    <tr>\n      <th>4</th>\n      <td>57862</td>\n      <td>3</td>\n      <td>1</td>\n      <td>13</td>\n      <td>120</td>\n      <td>2017-11-06 15:57:01</td>\n      <td>None</td>\n      <td>0</td>\n      <td>6</td>\n      <td>15</td>\n      <td>57</td>\n      <td>1</td>\n      <td>31</td>\n      <td>292254</td>\n      <td>1648091</td>\n      <td>370652</td>\n      <td>26760</td>\n    </tr>\n  </tbody>\n</table>\n</div>"
          },
          "metadata": {}
        }
      ],
      "execution_count": 10,
      "metadata": {
        "collapsed": true,
        "jupyter": {
          "outputs_hidden": true
        },
        "execution": {
          "iopub.status.busy": "2020-07-26T10:12:41.751Z",
          "iopub.execute_input": "2020-07-26T10:12:41.760Z",
          "iopub.status.idle": "2020-07-26T10:12:41.774Z",
          "shell.execute_reply": "2020-07-26T10:12:41.792Z"
        }
      }
    },
    {
      "cell_type": "code",
      "source": [
        "_ = train_model(train_encoded, valid_encoded)"
      ],
      "outputs": [
        {
          "output_type": "stream",
          "name": "stdout",
          "text": [
            "Training model!\n",
            "Validation AUC score: 0.9653051135205329\n"
          ]
        }
      ],
      "execution_count": 11,
      "metadata": {
        "execution": {
          "iopub.status.busy": "2020-07-26T10:12:43.756Z",
          "iopub.execute_input": "2020-07-26T10:12:43.763Z",
          "iopub.status.idle": "2020-07-26T10:13:50.565Z",
          "shell.execute_reply": "2020-07-26T10:13:50.580Z"
        }
      }
    },
    {
      "cell_type": "markdown",
      "source": [
        "**Count encoding improved our model's score!**"
      ],
      "metadata": {}
    },
    {
      "cell_type": "markdown",
      "source": [
        "### Target encoding\n",
        "\n",
        "* Supervised encodings that use the labels (the targets) to transform categorical features. \n",
        "* The first one is target encoding. Create the target encoder from the category_encoders library. \n",
        "* Then, learn the encodings from the training dataset, apply the encodings to all the datasets and retrain the model."
      ],
      "metadata": {}
    },
    {
      "cell_type": "code",
      "source": [
        "cat_features = ['ip', 'app', 'device', 'os', 'channel']\n",
        "train, valid, test = get_data_splits(clicks)\n",
        "\n",
        "target_enc = ce.TargetEncoder(cols = cat_features)\n",
        "target_enc.fit(train[cat_features],train[\"is_attributed\"])"
      ],
      "outputs": [
        {
          "output_type": "execute_result",
          "execution_count": 14,
          "data": {
            "text/plain": "TargetEncoder(cols=['ip', 'app', 'device', 'os', 'channel'])"
          },
          "metadata": {}
        }
      ],
      "execution_count": 14,
      "metadata": {
        "execution": {
          "iopub.status.busy": "2020-07-26T10:17:39.958Z",
          "iopub.execute_input": "2020-07-26T10:17:39.969Z",
          "iopub.status.idle": "2020-07-26T10:17:46.440Z",
          "shell.execute_reply": "2020-07-26T10:17:46.463Z"
        }
      }
    },
    {
      "cell_type": "code",
      "source": [
        "train_encoded = train.join(target_enc.transform(train[cat_features]).add_suffix('_target'))\n",
        "valid_encoded = valid.join(target_enc.transform(valid[cat_features]).add_suffix('_target'))"
      ],
      "outputs": [],
      "execution_count": 15,
      "metadata": {
        "collapsed": true,
        "jupyter": {
          "source_hidden": false,
          "outputs_hidden": false
        },
        "nteract": {
          "transient": {
            "deleting": false
          }
        },
        "execution": {
          "iopub.status.busy": "2020-07-26T10:18:39.059Z",
          "iopub.execute_input": "2020-07-26T10:18:39.066Z",
          "shell.execute_reply": "2020-07-26T10:18:41.881Z",
          "iopub.status.idle": "2020-07-26T10:18:41.898Z"
        }
      }
    },
    {
      "cell_type": "code",
      "source": [
        "_ = train_model(train_encoded,valid_encoded)"
      ],
      "outputs": [
        {
          "output_type": "stream",
          "name": "stdout",
          "text": [
            "Training model!\n",
            "Validation AUC score: 0.9540530347873288\n"
          ]
        }
      ],
      "execution_count": 16,
      "metadata": {
        "collapsed": true,
        "jupyter": {
          "source_hidden": false,
          "outputs_hidden": false
        },
        "nteract": {
          "transient": {
            "deleting": false
          }
        },
        "execution": {
          "iopub.status.busy": "2020-07-26T10:19:17.220Z",
          "iopub.execute_input": "2020-07-26T10:19:17.242Z",
          "iopub.status.idle": "2020-07-26T10:19:27.507Z",
          "shell.execute_reply": "2020-07-26T10:19:27.521Z"
        }
      }
    },
    {
      "cell_type": "markdown",
      "source": [
        "### Leave-one-out Encoding \n",
        "**We Try to Remove ip Feature From the Data**\n"
      ],
      "metadata": {
        "nteract": {
          "transient": {
            "deleting": false
          }
        }
      }
    },
    {
      "cell_type": "code",
      "source": [
        "cat_features = ['app', 'device', 'os', 'channel']\n",
        "train, valid, test = get_data_splits(clicks)\n",
        "\n",
        "target_enc = ce.TargetEncoder(cols = cat_features)\n",
        "target_enc.fit(train[cat_features],train[\"is_attributed\"])\n",
        "\n",
        "train_encoded = train.join(target_enc.transform(train[cat_features]).add_suffix('_target'))\n",
        "valid_encoded = valid.join(target_enc.transform(valid[cat_features]).add_suffix('_target'))"
      ],
      "outputs": [],
      "execution_count": 17,
      "metadata": {
        "collapsed": true,
        "jupyter": {
          "source_hidden": false,
          "outputs_hidden": false
        },
        "nteract": {
          "transient": {
            "deleting": false
          }
        },
        "execution": {
          "iopub.status.busy": "2020-07-26T10:20:57.987Z",
          "iopub.execute_input": "2020-07-26T10:20:57.997Z",
          "shell.execute_reply": "2020-07-26T10:21:03.753Z",
          "iopub.status.idle": "2020-07-26T10:21:03.764Z"
        }
      }
    },
    {
      "cell_type": "code",
      "source": [
        "_ = train_model(train_encoded,valid_encoded)"
      ],
      "outputs": [
        {
          "output_type": "stream",
          "name": "stdout",
          "text": [
            "Training model!\n",
            "Validation AUC score: 0.9627457957514338\n"
          ]
        }
      ],
      "execution_count": 18,
      "metadata": {
        "collapsed": true,
        "jupyter": {
          "source_hidden": false,
          "outputs_hidden": false
        },
        "nteract": {
          "transient": {
            "deleting": false
          }
        },
        "execution": {
          "iopub.status.busy": "2020-07-26T10:21:06.405Z",
          "iopub.execute_input": "2020-07-26T10:21:06.421Z",
          "iopub.status.idle": "2020-07-26T10:21:41.769Z",
          "shell.execute_reply": "2020-07-26T10:21:41.791Z"
        }
      }
    },
    {
      "cell_type": "code",
      "source": [
        "clicks.shape[0]"
      ],
      "outputs": [
        {
          "output_type": "execute_result",
          "execution_count": 27,
          "data": {
            "text/plain": "2300561"
          },
          "metadata": {}
        }
      ],
      "execution_count": 27,
      "metadata": {
        "collapsed": true,
        "jupyter": {
          "source_hidden": false,
          "outputs_hidden": false
        },
        "nteract": {
          "transient": {
            "deleting": false
          }
        },
        "execution": {
          "iopub.status.busy": "2020-07-26T10:27:53.266Z",
          "iopub.execute_input": "2020-07-26T10:27:53.276Z",
          "iopub.status.idle": "2020-07-26T10:27:53.292Z",
          "shell.execute_reply": "2020-07-26T10:27:53.300Z"
        }
      }
    },
    {
      "cell_type": "code",
      "source": [
        "clicks['ip'].nunique()/clicks.shape[0]"
      ],
      "outputs": [
        {
          "output_type": "execute_result",
          "execution_count": 26,
          "data": {
            "text/plain": "0.1131193652330888"
          },
          "metadata": {}
        }
      ],
      "execution_count": 26,
      "metadata": {
        "collapsed": true,
        "jupyter": {
          "source_hidden": false,
          "outputs_hidden": false
        },
        "nteract": {
          "transient": {
            "deleting": false
          }
        },
        "execution": {
          "iopub.status.busy": "2020-07-26T10:27:51.434Z",
          "iopub.execute_input": "2020-07-26T10:27:51.447Z",
          "iopub.status.idle": "2020-07-26T10:27:51.471Z",
          "shell.execute_reply": "2020-07-26T10:27:51.489Z"
        }
      }
    },
    {
      "cell_type": "markdown",
      "source": [
        "Target encoding attempts to measure the population mean of the target for each level in a categorical feature. This means when there is less data per level, the estimated mean will be further away from the \"true\" mean, there will be more variance. There is little data per IP address so it's likely that the estimates are much noisier than for the other features. The model will rely heavily on this feature since it is extremely predictive. This causes it to make fewer splits on other features, and those features are fit on just the errors left over accounting for IP address. So, the model will perform very poorly when seeing new IP addresses that weren't in the training data (which is likely most new data). Going forward, we'll leave out the IP feature when trying different encodings."
      ],
      "metadata": {
        "nteract": {
          "transient": {
            "deleting": false
          }
        }
      }
    },
    {
      "cell_type": "markdown",
      "source": [
        "### CatBoost Encoding\n",
        "\n",
        "The CatBoost encoder is supposed to working well with the LightGBM model. Encode the categorical features with CatBoostEncoder and train the model on the encoded data again.\n"
      ],
      "metadata": {
        "nteract": {
          "transient": {
            "deleting": false
          }
        }
      }
    },
    {
      "cell_type": "code",
      "source": [
        "train, valid, test = get_data_splits(clicks)\n",
        "\n",
        "cb_enc = ce.CatBoostEncoder(cols = cat_features,random_state=7)\n",
        "cb_enc.fit(train[cat_features],train[\"is_attributed\"])\n",
        "\n",
        "train_encoded = train.join(cb_enc.transform(train[cat_features]).add_suffix('_cb'))\n",
        "valid_encoded = valid.join(cb_enc.transform(valid[cat_features]).add_suffix('_cb'))\n",
        "\n",
        "# Make sure to add `_cb` as a suffix to the new columns\n",
        "train_encoded = train.join(cb_enc.transform(train[cat_features]).add_suffix('_cb'))\n",
        "valid_encoded = valid.join(cb_enc.transform(valid[cat_features]).add_suffix('_cb'))"
      ],
      "outputs": [],
      "execution_count": 28,
      "metadata": {
        "collapsed": true,
        "jupyter": {
          "source_hidden": false,
          "outputs_hidden": false
        },
        "nteract": {
          "transient": {
            "deleting": false
          }
        },
        "execution": {
          "iopub.status.busy": "2020-07-26T10:35:16.549Z",
          "iopub.execute_input": "2020-07-26T10:35:16.560Z",
          "iopub.status.idle": "2020-07-26T10:35:26.988Z",
          "shell.execute_reply": "2020-07-26T10:35:27.009Z"
        }
      }
    },
    {
      "cell_type": "code",
      "source": [
        "_ = train_model(train, valid)"
      ],
      "outputs": [
        {
          "output_type": "stream",
          "name": "stdout",
          "text": [
            "Training model!\n",
            "Validation AUC score: 0.9622743228943659\n"
          ]
        }
      ],
      "execution_count": 29,
      "metadata": {
        "collapsed": true,
        "jupyter": {
          "source_hidden": false,
          "outputs_hidden": false
        },
        "nteract": {
          "transient": {
            "deleting": false
          }
        },
        "execution": {
          "iopub.status.busy": "2020-07-26T10:35:57.615Z",
          "iopub.execute_input": "2020-07-26T10:35:57.641Z",
          "iopub.status.idle": "2020-07-26T10:36:45.982Z",
          "shell.execute_reply": "2020-07-26T10:36:45.997Z"
        }
      }
    },
    {
      "cell_type": "markdown",
      "source": [
        "* To Fine Best Featurres in  CatBoostEncoder\n"
      ],
      "metadata": {
        "nteract": {
          "transient": {
            "deleting": false
          }
        }
      }
    },
    {
      "cell_type": "code",
      "source": [
        "encode = cb_enc.transform(clicks[cat_features])\n",
        "for i in encode:\n",
        "  clicks.insert(len(clicks.columns),i+'_cb',encode[i])"
      ],
      "outputs": [],
      "execution_count": 33,
      "metadata": {
        "collapsed": true,
        "jupyter": {
          "source_hidden": false,
          "outputs_hidden": false
        },
        "nteract": {
          "transient": {
            "deleting": false
          }
        },
        "execution": {
          "iopub.status.busy": "2020-07-26T10:40:20.529Z",
          "iopub.execute_input": "2020-07-26T10:40:20.545Z",
          "iopub.status.idle": "2020-07-26T10:40:22.310Z",
          "shell.execute_reply": "2020-07-26T10:40:22.296Z"
        }
      }
    },
    {
      "cell_type": "code",
      "source": [
        "clicks.head()"
      ],
      "outputs": [
        {
          "output_type": "execute_result",
          "execution_count": 34,
          "data": {
            "text/plain": "       ip  app  device  os  channel          click_time      attributed_time  \\\n0   27226    3       1  13      120 2017-11-06 15:13:23                 None   \n1  110007   35       1  13       10 2017-11-06 15:41:07  2017-11-07 08:17:19   \n2    1047    6       1  13      157 2017-11-06 15:42:32                 None   \n3   76270    3       1  13      120 2017-11-06 15:56:17                 None   \n4   57862    3       1  13      120 2017-11-06 15:57:01                 None   \n\n   is_attributed  day  hour  minute  second    app_cb  device_cb     os_cb  \\\n0              0    6    15      13      23  0.028329   0.152087  0.138712   \n1              1    6    15      41       7  0.995828   0.152087  0.138712   \n2              0    6    15      42      32  0.009261   0.152087  0.138712   \n3              0    6    15      56      17  0.028329   0.152087  0.138712   \n4              0    6    15      57       1  0.028329   0.152087  0.138712   \n\n   channel_cb  \n0    0.034049  \n1    0.950244  \n2    0.019384  \n3    0.034049  \n4    0.034049  ",
            "text/html": "<div>\n<style scoped>\n    .dataframe tbody tr th:only-of-type {\n        vertical-align: middle;\n    }\n\n    .dataframe tbody tr th {\n        vertical-align: top;\n    }\n\n    .dataframe thead th {\n        text-align: right;\n    }\n</style>\n<table border=\"1\" class=\"dataframe\">\n  <thead>\n    <tr style=\"text-align: right;\">\n      <th></th>\n      <th>ip</th>\n      <th>app</th>\n      <th>device</th>\n      <th>os</th>\n      <th>channel</th>\n      <th>click_time</th>\n      <th>attributed_time</th>\n      <th>is_attributed</th>\n      <th>day</th>\n      <th>hour</th>\n      <th>minute</th>\n      <th>second</th>\n      <th>app_cb</th>\n      <th>device_cb</th>\n      <th>os_cb</th>\n      <th>channel_cb</th>\n    </tr>\n  </thead>\n  <tbody>\n    <tr>\n      <th>0</th>\n      <td>27226</td>\n      <td>3</td>\n      <td>1</td>\n      <td>13</td>\n      <td>120</td>\n      <td>2017-11-06 15:13:23</td>\n      <td>None</td>\n      <td>0</td>\n      <td>6</td>\n      <td>15</td>\n      <td>13</td>\n      <td>23</td>\n      <td>0.028329</td>\n      <td>0.152087</td>\n      <td>0.138712</td>\n      <td>0.034049</td>\n    </tr>\n    <tr>\n      <th>1</th>\n      <td>110007</td>\n      <td>35</td>\n      <td>1</td>\n      <td>13</td>\n      <td>10</td>\n      <td>2017-11-06 15:41:07</td>\n      <td>2017-11-07 08:17:19</td>\n      <td>1</td>\n      <td>6</td>\n      <td>15</td>\n      <td>41</td>\n      <td>7</td>\n      <td>0.995828</td>\n      <td>0.152087</td>\n      <td>0.138712</td>\n      <td>0.950244</td>\n    </tr>\n    <tr>\n      <th>2</th>\n      <td>1047</td>\n      <td>6</td>\n      <td>1</td>\n      <td>13</td>\n      <td>157</td>\n      <td>2017-11-06 15:42:32</td>\n      <td>None</td>\n      <td>0</td>\n      <td>6</td>\n      <td>15</td>\n      <td>42</td>\n      <td>32</td>\n      <td>0.009261</td>\n      <td>0.152087</td>\n      <td>0.138712</td>\n      <td>0.019384</td>\n    </tr>\n    <tr>\n      <th>3</th>\n      <td>76270</td>\n      <td>3</td>\n      <td>1</td>\n      <td>13</td>\n      <td>120</td>\n      <td>2017-11-06 15:56:17</td>\n      <td>None</td>\n      <td>0</td>\n      <td>6</td>\n      <td>15</td>\n      <td>56</td>\n      <td>17</td>\n      <td>0.028329</td>\n      <td>0.152087</td>\n      <td>0.138712</td>\n      <td>0.034049</td>\n    </tr>\n    <tr>\n      <th>4</th>\n      <td>57862</td>\n      <td>3</td>\n      <td>1</td>\n      <td>13</td>\n      <td>120</td>\n      <td>2017-11-06 15:57:01</td>\n      <td>None</td>\n      <td>0</td>\n      <td>6</td>\n      <td>15</td>\n      <td>57</td>\n      <td>1</td>\n      <td>0.028329</td>\n      <td>0.152087</td>\n      <td>0.138712</td>\n      <td>0.034049</td>\n    </tr>\n  </tbody>\n</table>\n</div>"
          },
          "metadata": {}
        }
      ],
      "execution_count": 34,
      "metadata": {
        "collapsed": true,
        "jupyter": {
          "source_hidden": false,
          "outputs_hidden": false
        },
        "nteract": {
          "transient": {
            "deleting": false
          }
        },
        "execution": {
          "iopub.status.busy": "2020-07-26T10:40:27.402Z",
          "iopub.execute_input": "2020-07-26T10:40:27.418Z",
          "iopub.status.idle": "2020-07-26T10:40:27.465Z",
          "shell.execute_reply": "2020-07-26T10:40:27.476Z"
        }
      }
    },
    {
      "cell_type": "markdown",
      "source": [
        "### Feature embedding with SVD"
      ],
      "metadata": {
        "nteract": {
          "transient": {
            "deleting": false
          }
        }
      }
    }
  ],
  "metadata": {
    "kernelspec": {
      "display_name": "Python 3",
      "language": "python",
      "name": "python3"
    },
    "language_info": {
      "name": "python",
      "version": "3.6.8",
      "mimetype": "text/x-python",
      "codemirror_mode": {
        "name": "ipython",
        "version": 3
      },
      "pygments_lexer": "ipython3",
      "nbconvert_exporter": "python",
      "file_extension": ".py"
    },
    "nteract": {
      "version": "0.24.0"
    }
  },
  "nbformat": 4,
  "nbformat_minor": 4
}