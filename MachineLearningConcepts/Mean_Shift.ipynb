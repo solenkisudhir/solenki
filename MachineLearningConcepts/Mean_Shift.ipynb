{
 "cells": [
  {
   "cell_type": "code",
   "execution_count": 1,
   "metadata": {},
   "outputs": [],
   "source": [
    "%matplotlib inline"
   ]
  },
  {
   "cell_type": "markdown",
   "metadata": {},
   "source": [
    "\n",
    "# A demo of the mean-shift clustering algorithm\n",
    "\n",
    "\n",
    "Reference:\n",
    "\n",
    "Dorin Comaniciu and Peter Meer, \"Mean Shift: A robust approach toward\n",
    "feature space analysis\". IEEE Transactions on Pattern Analysis and\n",
    "Machine Intelligence. 2002. pp. 603-619.\n",
    "\n",
    "\n"
   ]
  },
  {
   "cell_type": "code",
   "execution_count": 3,
   "metadata": {},
   "outputs": [],
   "source": [
    "import numpy as np\n",
    "from sklearn.cluster import MeanShift, estimate_bandwidth\n",
    "from sklearn.datasets.samples_generator import make_blobs"
   ]
  },
  {
   "cell_type": "code",
   "execution_count": 18,
   "metadata": {},
   "outputs": [
    {
     "data": {
      "text/plain": [
       "array([[-0.17621263, -1.05230526],\n",
       "       [ 1.38661833,  0.78309966],\n",
       "       [-1.79999411, -1.1015103 ],\n",
       "       ...,\n",
       "       [ 1.3845992 , -0.60765548],\n",
       "       [ 0.79484718, -0.49796634],\n",
       "       [ 1.69400467, -1.11591235]])"
      ]
     },
     "execution_count": 18,
     "metadata": {},
     "output_type": "execute_result"
    }
   ],
   "source": [
    "# #############################################################################\n",
    "# Generate sample data\n",
    "centers = [[1, 1], [-1, -1], [1, -1]]\n",
    "X, _ = make_blobs(n_samples=1000, centers=centers, cluster_std=0.6)\n",
    "X"
   ]
  },
  {
   "cell_type": "code",
   "execution_count": 19,
   "metadata": {},
   "outputs": [
    {
     "data": {
      "text/plain": [
       "array([1, 0, 1, 0, 2, 2, 1, 1, 0, 0, 1, 0, 1, 2, 0, 1, 0, 1, 1, 0, 1, 1,\n",
       "       0, 2, 0, 0, 0, 1, 0, 2, 2, 1, 0, 2, 2, 2, 0, 0, 1, 2, 1, 1, 0, 2,\n",
       "       1, 2, 1, 1, 1, 1, 1, 1, 0, 1, 0, 0, 2, 0, 0, 2, 1, 2, 2, 2, 0, 0,\n",
       "       0, 0, 1, 1, 2, 1, 2, 2, 0, 1, 1, 1, 1, 1, 0, 0, 1, 2, 0, 2, 1, 1,\n",
       "       0, 2, 1, 0, 0, 1, 2, 0, 1, 2, 2, 2, 1, 2, 0, 2, 1, 1, 0, 1, 0, 0,\n",
       "       2, 0, 1, 2, 2, 2, 1, 2, 2, 1, 0, 1, 1, 2, 0, 1, 0, 2, 2, 1, 0, 0,\n",
       "       0, 0, 1, 0, 2, 0, 1, 2, 0, 0, 1, 2, 0, 1, 0, 1, 1, 1, 2, 1, 1, 2,\n",
       "       1, 1, 2, 0, 0, 0, 1, 1, 1, 1, 1, 2, 0, 0, 0, 2, 2, 1, 1, 2, 0, 1,\n",
       "       2, 0, 0, 2, 0, 2, 0, 2, 0, 0, 1, 0, 1, 0, 2, 1, 0, 2, 1, 0, 1, 1,\n",
       "       0, 0, 0, 2, 0, 1, 1, 0, 0, 2, 2, 1, 1, 2, 1, 0, 1, 0, 2, 1, 0, 1,\n",
       "       2, 0, 2, 1, 0, 0, 2, 0, 0, 2, 2, 0, 1, 2, 2, 0, 0, 2, 1, 2, 0, 2,\n",
       "       0, 1, 2, 2, 1, 0, 1, 2, 2, 2, 1, 1, 2, 2, 0, 2, 1, 2, 0, 2, 2, 1,\n",
       "       1, 1, 1, 1, 0, 1, 0, 2, 0, 2, 1, 1, 2, 2, 2, 0, 0, 2, 2, 2, 2, 2,\n",
       "       0, 1, 1, 1, 1, 2, 2, 1, 0, 2, 2, 0, 1, 0, 0, 2, 2, 0, 0, 1, 1, 2,\n",
       "       1, 2, 0, 2, 2, 1, 0, 0, 0, 2, 1, 1, 2, 2, 2, 0, 2, 0, 0, 1, 1, 0,\n",
       "       1, 2, 2, 1, 1, 1, 2, 1, 2, 1, 2, 1, 0, 0, 2, 0, 1, 2, 2, 2, 0, 1,\n",
       "       1, 2, 2, 2, 0, 1, 0, 1, 2, 1, 2, 0, 1, 2, 2, 1, 2, 1, 1, 1, 2, 0,\n",
       "       2, 0, 2, 0, 1, 0, 0, 2, 2, 1, 0, 0, 0, 1, 0, 1, 0, 1, 0, 0, 0, 0,\n",
       "       0, 1, 2, 0, 0, 2, 0, 1, 1, 0, 2, 0, 0, 0, 2, 1, 2, 0, 1, 0, 2, 1,\n",
       "       2, 1, 2, 0, 0, 0, 0, 2, 2, 1, 2, 2, 0, 0, 1, 0, 1, 2, 1, 0, 2, 1,\n",
       "       2, 1, 1, 0, 2, 1, 0, 2, 2, 2, 0, 2, 2, 1, 1, 0, 1, 1, 2, 0, 0, 0,\n",
       "       1, 2, 2, 1, 0, 1, 1, 0, 1, 2, 2, 1, 0, 2, 0, 1, 2, 1, 0, 2, 0, 0,\n",
       "       0, 2, 0, 0, 0, 2, 2, 1, 2, 2, 0, 1, 2, 0, 0, 1, 1, 0, 2, 2, 1, 2,\n",
       "       1, 0, 2, 1, 1, 0, 0, 2, 2, 2, 2, 2, 1, 0, 1, 2, 1, 1, 0, 2, 1, 2,\n",
       "       1, 2, 2, 2, 1, 1, 1, 1, 0, 2, 2, 2, 0, 0, 0, 0, 1, 2, 0, 0, 2, 2,\n",
       "       2, 1, 1, 1, 2, 2, 1, 1, 1, 1, 0, 0, 1, 2, 0, 1, 1, 0, 2, 2, 1, 0,\n",
       "       0, 1, 0, 1, 1, 2, 2, 2, 0, 0, 0, 1, 1, 1, 2, 1, 2, 0, 0, 1, 0, 0,\n",
       "       0, 1, 2, 2, 0, 1, 1, 0, 2, 1, 0, 0, 2, 1, 0, 2, 2, 1, 2, 2, 0, 0,\n",
       "       2, 2, 1, 2, 1, 1, 0, 2, 1, 2, 0, 1, 1, 1, 1, 1, 0, 0, 2, 0, 2, 1,\n",
       "       1, 0, 0, 1, 0, 2, 0, 1, 2, 1, 2, 2, 0, 1, 1, 0, 2, 1, 1, 0, 2, 2,\n",
       "       1, 2, 2, 1, 2, 0, 0, 0, 0, 1, 2, 2, 2, 2, 2, 1, 1, 1, 1, 1, 1, 2,\n",
       "       0, 0, 1, 0, 2, 1, 0, 1, 0, 1, 1, 2, 2, 0, 1, 0, 2, 2, 0, 2, 0, 0,\n",
       "       2, 2, 1, 1, 2, 2, 0, 2, 1, 1, 2, 0, 0, 2, 1, 0, 1, 2, 0, 1, 2, 0,\n",
       "       0, 0, 0, 2, 2, 2, 2, 0, 2, 1, 2, 0, 2, 0, 0, 2, 0, 0, 2, 0, 1, 0,\n",
       "       0, 0, 0, 0, 0, 0, 0, 2, 1, 2, 1, 2, 2, 2, 1, 0, 2, 0, 0, 2, 2, 0,\n",
       "       1, 0, 1, 1, 0, 2, 0, 2, 2, 1, 1, 2, 0, 0, 1, 0, 0, 1, 0, 0, 2, 1,\n",
       "       0, 1, 1, 2, 2, 1, 1, 1, 0, 1, 0, 2, 2, 2, 2, 2, 2, 2, 2, 0, 2, 0,\n",
       "       2, 2, 1, 1, 1, 1, 1, 0, 0, 2, 2, 1, 2, 1, 0, 0, 2, 0, 1, 2, 1, 1,\n",
       "       0, 0, 0, 2, 0, 2, 2, 0, 0, 0, 2, 2, 1, 2, 0, 1, 0, 1, 2, 1, 2, 2,\n",
       "       0, 2, 0, 0, 2, 0, 1, 2, 1, 1, 1, 2, 0, 1, 0, 0, 2, 0, 1, 2, 0, 1,\n",
       "       1, 2, 1, 1, 1, 2, 1, 0, 1, 0, 1, 2, 1, 1, 0, 0, 1, 0, 1, 0, 0, 1,\n",
       "       2, 1, 0, 1, 0, 1, 2, 0, 0, 2, 2, 0, 1, 2, 0, 2, 1, 1, 1, 1, 1, 1,\n",
       "       1, 2, 0, 1, 1, 1, 2, 0, 0, 1, 1, 0, 2, 0, 1, 0, 0, 2, 0, 0, 0, 0,\n",
       "       0, 2, 0, 2, 1, 1, 2, 0, 0, 1, 1, 1, 2, 2, 1, 0, 1, 2, 1, 2, 0, 1,\n",
       "       2, 0, 2, 0, 2, 1, 1, 1, 1, 0, 2, 2, 2, 2, 2, 0, 0, 1, 2, 2, 1, 2,\n",
       "       0, 0, 2, 2, 2, 2, 1, 2, 2, 2])"
      ]
     },
     "execution_count": 19,
     "metadata": {},
     "output_type": "execute_result"
    }
   ],
   "source": [
    "_"
   ]
  },
  {
   "cell_type": "code",
   "execution_count": 20,
   "metadata": {},
   "outputs": [
    {
     "data": {
      "text/plain": [
       "1.0413940137030107"
      ]
     },
     "execution_count": 20,
     "metadata": {},
     "output_type": "execute_result"
    }
   ],
   "source": [
    "# #############################################################################\n",
    "# Compute clustering with MeanShift\n",
    "\n",
    "# The following bandwidth can be automatically detected using\n",
    "bandwidth = estimate_bandwidth(X, quantile=0.2, n_samples=5000)\n",
    "bandwidth"
   ]
  },
  {
   "cell_type": "code",
   "execution_count": 21,
   "metadata": {},
   "outputs": [
    {
     "data": {
      "text/plain": [
       "MeanShift(bandwidth=1.0413940137030107, bin_seeding=True, cluster_all=True,\n",
       "          min_bin_freq=1, n_jobs=None, seeds=None)"
      ]
     },
     "execution_count": 21,
     "metadata": {},
     "output_type": "execute_result"
    }
   ],
   "source": [
    "ms = MeanShift(bandwidth=bandwidth, bin_seeding=True)\n",
    "ms.fit(X)"
   ]
  },
  {
   "cell_type": "code",
   "execution_count": 22,
   "metadata": {},
   "outputs": [
    {
     "data": {
      "text/plain": [
       "array([0, 2, 0, 2, 1, 1, 0, 0, 2, 2, 0, 2, 0, 1, 2, 1, 2, 0, 0, 2, 0, 0,\n",
       "       2, 1, 2, 2, 2, 0, 2, 1, 1, 1, 2, 1, 1, 1, 2, 2, 0, 1, 0, 0, 2, 1,\n",
       "       0, 1, 0, 0, 0, 0, 0, 0, 2, 0, 2, 2, 1, 2, 2, 1, 0, 1, 1, 1, 2, 2,\n",
       "       2, 2, 0, 0, 1, 0, 1, 1, 2, 0, 0, 0, 0, 0, 2, 2, 0, 1, 2, 1, 0, 1,\n",
       "       2, 0, 0, 2, 2, 0, 1, 2, 0, 1, 1, 1, 0, 1, 2, 1, 0, 0, 2, 0, 2, 2,\n",
       "       1, 2, 0, 1, 1, 1, 0, 1, 1, 0, 2, 0, 0, 1, 2, 0, 2, 1, 0, 0, 2, 2,\n",
       "       1, 2, 0, 0, 1, 2, 0, 1, 2, 2, 0, 2, 2, 0, 2, 0, 0, 0, 1, 0, 0, 1,\n",
       "       0, 0, 1, 2, 1, 2, 0, 0, 0, 0, 1, 1, 2, 2, 2, 1, 2, 0, 0, 1, 2, 0,\n",
       "       1, 1, 2, 1, 2, 0, 2, 1, 2, 2, 0, 2, 1, 2, 1, 0, 2, 1, 1, 2, 0, 0,\n",
       "       2, 2, 2, 1, 2, 0, 0, 2, 2, 1, 1, 0, 0, 1, 0, 2, 0, 2, 1, 0, 2, 0,\n",
       "       0, 2, 1, 0, 2, 2, 1, 2, 2, 1, 1, 2, 0, 1, 1, 2, 2, 1, 0, 2, 2, 1,\n",
       "       2, 0, 1, 2, 1, 2, 0, 1, 1, 1, 0, 0, 2, 1, 2, 1, 0, 1, 2, 1, 1, 0,\n",
       "       0, 0, 0, 0, 2, 0, 2, 1, 2, 1, 0, 0, 1, 1, 1, 2, 2, 1, 1, 1, 1, 1,\n",
       "       2, 0, 0, 0, 0, 1, 1, 0, 2, 1, 1, 2, 0, 2, 2, 1, 1, 2, 2, 0, 0, 1,\n",
       "       0, 1, 2, 1, 1, 0, 2, 2, 2, 1, 0, 0, 1, 1, 1, 2, 1, 2, 2, 0, 0, 2,\n",
       "       0, 1, 0, 0, 0, 0, 1, 0, 2, 0, 1, 0, 2, 2, 1, 2, 0, 1, 1, 1, 2, 1,\n",
       "       0, 0, 1, 1, 2, 1, 0, 1, 1, 0, 1, 2, 0, 1, 2, 0, 1, 1, 0, 0, 1, 2,\n",
       "       1, 2, 2, 2, 0, 2, 2, 1, 1, 0, 2, 2, 2, 0, 2, 0, 2, 0, 2, 2, 2, 2,\n",
       "       2, 0, 1, 2, 2, 1, 2, 0, 0, 2, 1, 2, 2, 2, 1, 0, 1, 2, 0, 2, 1, 0,\n",
       "       1, 0, 1, 2, 2, 2, 2, 1, 1, 0, 1, 1, 2, 2, 0, 2, 1, 1, 0, 2, 0, 0,\n",
       "       0, 0, 0, 2, 1, 0, 2, 1, 1, 1, 2, 1, 1, 0, 0, 2, 0, 0, 1, 2, 2, 2,\n",
       "       0, 1, 1, 0, 2, 0, 0, 2, 0, 1, 1, 0, 2, 1, 2, 0, 2, 0, 2, 1, 2, 2,\n",
       "       2, 0, 2, 2, 2, 1, 1, 0, 1, 1, 2, 0, 1, 2, 2, 0, 0, 2, 2, 1, 0, 1,\n",
       "       0, 2, 1, 0, 0, 2, 1, 1, 1, 1, 1, 2, 0, 1, 0, 1, 0, 0, 2, 1, 0, 1,\n",
       "       0, 1, 1, 0, 1, 0, 0, 0, 2, 0, 1, 1, 2, 2, 2, 2, 0, 1, 2, 2, 1, 1,\n",
       "       1, 0, 0, 0, 1, 2, 0, 0, 0, 0, 2, 2, 0, 1, 2, 0, 0, 2, 1, 1, 0, 1,\n",
       "       2, 0, 2, 0, 0, 1, 1, 1, 2, 2, 2, 0, 0, 0, 1, 0, 1, 2, 2, 0, 2, 2,\n",
       "       2, 0, 1, 1, 2, 0, 0, 2, 1, 0, 2, 2, 1, 0, 2, 1, 1, 0, 1, 1, 2, 2,\n",
       "       1, 1, 0, 1, 0, 0, 2, 1, 0, 1, 2, 0, 0, 0, 0, 0, 2, 2, 0, 2, 1, 0,\n",
       "       0, 2, 2, 1, 2, 1, 2, 0, 1, 0, 1, 2, 2, 0, 0, 2, 1, 0, 0, 2, 1, 1,\n",
       "       0, 2, 1, 0, 1, 2, 2, 1, 2, 0, 1, 1, 1, 1, 1, 0, 0, 0, 0, 0, 0, 1,\n",
       "       2, 2, 0, 2, 1, 0, 2, 0, 2, 0, 0, 1, 1, 2, 0, 2, 1, 1, 2, 1, 2, 2,\n",
       "       1, 1, 0, 0, 1, 1, 2, 1, 0, 0, 1, 2, 2, 1, 0, 2, 0, 1, 2, 0, 1, 2,\n",
       "       2, 2, 2, 1, 1, 1, 1, 2, 1, 0, 1, 2, 1, 2, 2, 1, 2, 2, 1, 2, 0, 2,\n",
       "       2, 1, 2, 2, 2, 2, 2, 2, 0, 1, 0, 1, 0, 1, 0, 2, 1, 2, 2, 1, 1, 2,\n",
       "       0, 1, 0, 0, 2, 2, 2, 1, 1, 0, 0, 1, 2, 2, 0, 2, 2, 0, 2, 2, 1, 0,\n",
       "       2, 0, 0, 1, 1, 0, 0, 0, 2, 0, 2, 1, 1, 1, 1, 0, 1, 1, 1, 2, 1, 2,\n",
       "       1, 1, 0, 0, 0, 2, 0, 2, 2, 1, 0, 0, 1, 0, 2, 2, 1, 2, 0, 1, 0, 0,\n",
       "       2, 2, 2, 1, 2, 1, 1, 2, 2, 2, 1, 1, 0, 1, 2, 0, 2, 1, 1, 0, 1, 1,\n",
       "       2, 1, 1, 2, 1, 1, 0, 1, 0, 0, 0, 1, 2, 0, 2, 2, 1, 1, 0, 0, 2, 0,\n",
       "       0, 1, 0, 0, 0, 1, 0, 2, 0, 2, 0, 1, 0, 0, 2, 2, 1, 2, 0, 2, 2, 0,\n",
       "       1, 0, 2, 0, 2, 0, 1, 2, 2, 1, 1, 2, 1, 1, 2, 1, 0, 0, 0, 0, 0, 0,\n",
       "       0, 0, 2, 0, 0, 0, 1, 2, 2, 0, 0, 2, 1, 2, 0, 2, 2, 0, 2, 2, 2, 2,\n",
       "       2, 1, 2, 1, 0, 0, 1, 2, 1, 0, 0, 0, 1, 1, 0, 2, 0, 1, 0, 1, 2, 0,\n",
       "       1, 2, 1, 2, 1, 0, 0, 0, 0, 2, 1, 1, 1, 1, 1, 2, 2, 1, 0, 1, 0, 1,\n",
       "       2, 2, 1, 1, 1, 1, 0, 1, 1, 1], dtype=int64)"
      ]
     },
     "execution_count": 22,
     "metadata": {},
     "output_type": "execute_result"
    }
   ],
   "source": [
    "labels = ms.labels_\n",
    "labels"
   ]
  },
  {
   "cell_type": "code",
   "execution_count": 23,
   "metadata": {},
   "outputs": [
    {
     "data": {
      "text/plain": [
       "array([[-0.86347926, -1.05600368],\n",
       "       [ 0.95862182, -0.94429671],\n",
       "       [ 1.01094202,  1.01664378]])"
      ]
     },
     "execution_count": 23,
     "metadata": {},
     "output_type": "execute_result"
    }
   ],
   "source": [
    "cluster_centers = ms.cluster_centers_\n",
    "cluster_centers"
   ]
  },
  {
   "cell_type": "code",
   "execution_count": 24,
   "metadata": {},
   "outputs": [
    {
     "name": "stdout",
     "output_type": "stream",
     "text": [
      "number of estimated clusters : 3\n"
     ]
    }
   ],
   "source": [
    "labels_unique = np.unique(labels)\n",
    "n_clusters_ = len(labels_unique)\n",
    "\n",
    "print(\"number of estimated clusters : %d\" % n_clusters_)"
   ]
  },
  {
   "cell_type": "code",
   "execution_count": 25,
   "metadata": {},
   "outputs": [
    {
     "data": {
      "image/png": "[encoded data removed]",
      "text/plain": [
       "<Figure size 432x288 with 1 Axes>"
      ]
     },
     "metadata": {
      "needs_background": "light"
     },
     "output_type": "display_data"
    }
   ],
   "source": [
    "\n",
    "# #############################################################################\n",
    "# Plot result\n",
    "import matplotlib.pyplot as plt\n",
    "from itertools import cycle\n",
    "\n",
    "plt.figure(1)\n",
    "plt.clf()\n",
    "\n",
    "colors = cycle('bgrcmykbgrcmykbgrcmykbgrcmyk')\n",
    "for k, col in zip(range(n_clusters_), colors):\n",
    "    my_members = labels == k\n",
    "    cluster_center = cluster_centers[k]\n",
    "    plt.plot(X[my_members, 0], X[my_members, 1], col + '.')\n",
    "    plt.plot(cluster_center[0], cluster_center[1], 'o', markerfacecolor=col,\n",
    "             markeredgecolor='k', markersize=14)\n",
    "plt.title('Estimated number of clusters: %d' % n_clusters_)\n",
    "plt.show()"
   ]
  }
 ],
 "metadata": {
  "kernelspec": {
   "display_name": "Python 3",
   "language": "python",
   "name": "python3"
  },
  "language_info": {
   "codemirror_mode": {
    "name": "ipython",
    "version": 3
   },
   "file_extension": ".py",
   "mimetype": "text/x-python",
   "name": "python",
   "nbconvert_exporter": "python",
   "pygments_lexer": "ipython3",
   "version": "3.6.8"
  }
 },
 "nbformat": 4,
 "nbformat_minor": 4
}
