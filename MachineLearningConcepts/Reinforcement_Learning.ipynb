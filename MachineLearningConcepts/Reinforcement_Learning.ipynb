{
  "cells": [
    {
      "metadata": {
        "trusted": true
      },
      "cell_type": "code",
      "source": "!pip install pandas-profiling",
      "execution_count": 3,
      "outputs": [
        {
          "output_type": "stream",
          "text": "Collecting pandas-profiling\n\u001b[?25l  Downloading https://files.pythonhosted.org/packages/1d/08/1f614fb2d31b59cd69896b900044c8d7119389b9151983a872d047ea021f/pandas-profiling-2.4.0.tar.gz (150kB)\n\u001b[K     |████████████████████████████████| 153kB 1.9MB/s eta 0:00:01\n\u001b[?25hRequirement already satisfied: pandas>=0.19 in /home/nbuser/anaconda3_501/lib/python3.6/site-packages (from pandas-profiling) (0.23.4)\nRequirement already satisfied: matplotlib>=1.4 in /home/nbuser/anaconda3_501/lib/python3.6/site-packages (from pandas-profiling) (3.0.0)\nCollecting confuse>=1.0.0\n  Downloading https://files.pythonhosted.org/packages/4c/6f/90e860cba937c174d8b3775729ccc6377eb91f52ad4eeb008e7252a3646d/confuse-1.0.0.tar.gz\nRequirement already satisfied: jinja2>=2.8 in /home/nbuser/anaconda3_501/lib/python3.6/site-packages (from pandas-profiling) (2.10)\nCollecting htmlmin>=0.1.12\n  Downloading https://files.pythonhosted.org/packages/b3/e7/fcd59e12169de19f0131ff2812077f964c6b960e7c09804d30a7bf2ab461/htmlmin-0.1.12.tar.gz\nCollecting missingno>=0.4.2\n  Downloading https://files.pythonhosted.org/packages/2b/de/6e4dd6d720c49939544352155dc06a08c9f7e4271aa631a559dfbeaaf9d4/missingno-0.4.2-py3-none-any.whl\nCollecting phik>=0.9.8\n\u001b[?25l  Downloading https://files.pythonhosted.org/packages/45/ad/24a16fa4ba612fb96a3c4bb115a5b9741483f53b66d3d3afd987f20fa227/phik-0.9.8-py3-none-any.whl (606kB)\n\u001b[K     |████████████████████████████████| 614kB 1.5MB/s eta 0:00:01\n\u001b[?25hRequirement already satisfied: astropy in /home/nbuser/anaconda3_501/lib/python3.6/site-packages (from pandas-profiling) (3.0.4)\nRequirement already satisfied: pytz>=2011k in /home/nbuser/anaconda3_501/lib/python3.6/site-packages (from pandas>=0.19->pandas-profiling) (2019.3)\nRequirement already satisfied: python-dateutil>=2.5.0 in /home/nbuser/anaconda3_501/lib/python3.6/site-packages (from pandas>=0.19->pandas-profiling) (2.8.1)\nRequirement already satisfied: numpy>=1.9.0 in /home/nbuser/anaconda3_501/lib/python3.6/site-packages (from pandas>=0.19->pandas-profiling) (1.16.2)\nRequirement already satisfied: cycler>=0.10 in /home/nbuser/anaconda3_501/lib/python3.6/site-packages (from matplotlib>=1.4->pandas-profiling) (0.10.0)\nRequirement already satisfied: kiwisolver>=1.0.1 in /home/nbuser/anaconda3_501/lib/python3.6/site-packages (from matplotlib>=1.4->pandas-profiling) (1.0.1)\nRequirement already satisfied: pyparsing!=2.0.4,!=2.1.2,!=2.1.6,>=2.0.1 in /home/nbuser/anaconda3_501/lib/python3.6/site-packages (from matplotlib>=1.4->pandas-profiling) (2.3.0)\nRequirement already satisfied: pyyaml in /home/nbuser/anaconda3_501/lib/python3.6/site-packages (from confuse>=1.0.0->pandas-profiling) (3.13)\nRequirement already satisfied: MarkupSafe>=0.23 in /home/nbuser/anaconda3_501/lib/python3.6/site-packages (from jinja2>=2.8->pandas-profiling) (1.1.0)\nRequirement already satisfied: seaborn in /home/nbuser/anaconda3_501/lib/python3.6/site-packages (from missingno>=0.4.2->pandas-profiling) (0.9.0)\nRequirement already satisfied: scipy in /home/nbuser/anaconda3_501/lib/python3.6/site-packages (from missingno>=0.4.2->pandas-profiling) (1.1.0)\nRequirement already satisfied: jupyter-client>=5.2.3 in /home/nbuser/anaconda3_501/lib/python3.6/site-packages (from phik>=0.9.8->pandas-profiling) (5.2.3)\nCollecting pytest>=4.0.2\n\u001b[?25l  Downloading https://files.pythonhosted.org/packages/0b/2d/75def2ed660903839bab38a1cadf819726637a0c3c78951de7e67a97a7c3/pytest-5.3.4-py3-none-any.whl (235kB)\n\u001b[K     |████████████████████████████████| 235kB 5.8MB/s eta 0:00:01\n\u001b[?25hCollecting pytest-pylint>=0.13.0\n  Downloading https://files.pythonhosted.org/packages/64/dc/6f35f114844fb12e38d60c4f3d2441a55baff7043ad4e013777dff55746c/pytest_pylint-0.14.1-py3-none-any.whl\nRequirement already satisfied: numba>=0.38.1 in /home/nbuser/anaconda3_501/lib/python3.6/site-packages (from phik>=0.9.8->pandas-profiling) (0.40.0)\nRequirement already satisfied: nbconvert>=5.3.1 in /home/nbuser/anaconda3_501/lib/python3.6/site-packages (from phik>=0.9.8->pandas-profiling) (5.6.1)\nRequirement already satisfied: six>=1.5 in /home/nbuser/anaconda3_501/lib/python3.6/site-packages (from python-dateutil>=2.5.0->pandas>=0.19->pandas-profiling) (1.11.0)\nRequirement already satisfied: setuptools in /home/nbuser/anaconda3_501/lib/python3.6/site-packages (from kiwisolver>=1.0.1->matplotlib>=1.4->pandas-profiling) (41.6.0)\nRequirement already satisfied: traitlets in /home/nbuser/anaconda3_501/lib/python3.6/site-packages (from jupyter-client>=5.2.3->phik>=0.9.8->pandas-profiling) (4.3.2)\nRequirement already satisfied: jupyter_core in /home/nbuser/anaconda3_501/lib/python3.6/site-packages (from jupyter-client>=5.2.3->phik>=0.9.8->pandas-profiling) (4.4.0)\nRequirement already satisfied: pyzmq>=13 in /home/nbuser/anaconda3_501/lib/python3.6/site-packages (from jupyter-client>=5.2.3->phik>=0.9.8->pandas-profiling) (17.1.2)\nRequirement already satisfied: tornado>=4.1 in /home/nbuser/anaconda3_501/lib/python3.6/site-packages (from jupyter-client>=5.2.3->phik>=0.9.8->pandas-profiling) (4.5.3)\nRequirement already satisfied: attrs>=17.4.0 in /home/nbuser/anaconda3_501/lib/python3.6/site-packages (from pytest>=4.0.2->phik>=0.9.8->pandas-profiling) (18.2.0)\nCollecting pluggy<1.0,>=0.12\n  Downloading https://files.pythonhosted.org/packages/a0/28/85c7aa31b80d150b772fbe4a229487bc6644da9ccb7e427dd8cc60cb8a62/pluggy-0.13.1-py2.py3-none-any.whl\nRequirement already satisfied: py>=1.5.0 in /home/nbuser/anaconda3_501/lib/python3.6/site-packages (from pytest>=4.0.2->phik>=0.9.8->pandas-profiling) (1.6.0)\nRequirement already satisfied: wcwidth in /home/nbuser/anaconda3_501/lib/python3.6/site-packages (from pytest>=4.0.2->phik>=0.9.8->pandas-profiling) (0.1.7)\nCollecting importlib-metadata>=0.12; python_version < \"3.8\"\n  Downloading https://files.pythonhosted.org/packages/d7/31/74dcb59a601b95fce3b0334e8fc9db758f78e43075f22aeb3677dfb19f4c/importlib_metadata-1.4.0-py2.py3-none-any.whl\nRequirement already satisfied: more-itertools>=4.0.0 in /home/nbuser/anaconda3_501/lib/python3.6/site-packages (from pytest>=4.0.2->phik>=0.9.8->pandas-profiling) (4.3.0)\nRequirement already satisfied: packaging in /home/nbuser/anaconda3_501/lib/python3.6/site-packages (from pytest>=4.0.2->phik>=0.9.8->pandas-profiling) (18.0)\nRequirement already satisfied: pylint>=1.4.5 in /home/nbuser/anaconda3_501/lib/python3.6/site-packages (from pytest-pylint>=0.13.0->phik>=0.9.8->pandas-profiling) (2.1.1)\nRequirement already satisfied: llvmlite>=0.25.0dev0 in /home/nbuser/anaconda3_501/lib/python3.6/site-packages (from numba>=0.38.1->phik>=0.9.8->pandas-profiling) (0.25.0)\nRequirement already satisfied: pandocfilters>=1.4.1 in /home/nbuser/anaconda3_501/lib/python3.6/site-packages (from nbconvert>=5.3.1->phik>=0.9.8->pandas-profiling) (1.4.2)\nRequirement already satisfied: entrypoints>=0.2.2 in /home/nbuser/anaconda3_501/lib/python3.6/site-packages (from nbconvert>=5.3.1->phik>=0.9.8->pandas-profiling) (0.2.3)\nRequirement already satisfied: pygments in /home/nbuser/anaconda3_501/lib/python3.6/site-packages (from nbconvert>=5.3.1->phik>=0.9.8->pandas-profiling) (2.2.0)\nRequirement already satisfied: nbformat>=4.4 in /home/nbuser/anaconda3_501/lib/python3.6/site-packages (from nbconvert>=5.3.1->phik>=0.9.8->pandas-profiling) (4.4.0)\nRequirement already satisfied: mistune<2,>=0.8.1 in /home/nbuser/anaconda3_501/lib/python3.6/site-packages (from nbconvert>=5.3.1->phik>=0.9.8->pandas-profiling) (0.8.4)\nRequirement already satisfied: defusedxml in /home/nbuser/anaconda3_501/lib/python3.6/site-packages (from nbconvert>=5.3.1->phik>=0.9.8->pandas-profiling) (0.5.0)\nRequirement already satisfied: testpath in /home/nbuser/anaconda3_501/lib/python3.6/site-packages (from nbconvert>=5.3.1->phik>=0.9.8->pandas-profiling) (0.4.2)\nRequirement already satisfied: bleach in /home/nbuser/anaconda3_501/lib/python3.6/site-packages (from nbconvert>=5.3.1->phik>=0.9.8->pandas-profiling) (1.5.0)\nRequirement already satisfied: decorator in /home/nbuser/anaconda3_501/lib/python3.6/site-packages (from traitlets->jupyter-client>=5.2.3->phik>=0.9.8->pandas-profiling) (4.3.0)\nRequirement already satisfied: ipython-genutils in /home/nbuser/anaconda3_501/lib/python3.6/site-packages (from traitlets->jupyter-client>=5.2.3->phik>=0.9.8->pandas-profiling) (0.2.0)\n",
          "name": "stdout"
        },
        {
          "output_type": "stream",
          "text": "Collecting zipp>=0.5\n  Downloading https://files.pythonhosted.org/packages/be/69/4ac28bf238f287f1677f41392e24d2c4ffafcf11648c23824f5f62ef6ccb/zipp-2.1.0-py3-none-any.whl\nRequirement already satisfied: astroid>=2.0.0 in /home/nbuser/anaconda3_501/lib/python3.6/site-packages (from pylint>=1.4.5->pytest-pylint>=0.13.0->phik>=0.9.8->pandas-profiling) (2.0.4)\nRequirement already satisfied: isort>=4.2.5 in /home/nbuser/anaconda3_501/lib/python3.6/site-packages (from pylint>=1.4.5->pytest-pylint>=0.13.0->phik>=0.9.8->pandas-profiling) (4.3.4)\nRequirement already satisfied: mccabe in /home/nbuser/anaconda3_501/lib/python3.6/site-packages (from pylint>=1.4.5->pytest-pylint>=0.13.0->phik>=0.9.8->pandas-profiling) (0.6.1)\nRequirement already satisfied: jsonschema!=2.5.0,>=2.4 in /home/nbuser/anaconda3_501/lib/python3.6/site-packages (from nbformat>=4.4->nbconvert>=5.3.1->phik>=0.9.8->pandas-profiling) (2.6.0)\nRequirement already satisfied: html5lib!=0.9999,!=0.99999,<0.99999999,>=0.999 in /home/nbuser/anaconda3_501/lib/python3.6/site-packages (from bleach->nbconvert>=5.3.1->phik>=0.9.8->pandas-profiling) (0.9999999)\nRequirement already satisfied: lazy_object_proxy in /home/nbuser/anaconda3_501/lib/python3.6/site-packages (from astroid>=2.0.0->pylint>=1.4.5->pytest-pylint>=0.13.0->phik>=0.9.8->pandas-profiling) (1.3.1)\nRequirement already satisfied: wrapt in /home/nbuser/anaconda3_501/lib/python3.6/site-packages (from astroid>=2.0.0->pylint>=1.4.5->pytest-pylint>=0.13.0->phik>=0.9.8->pandas-profiling) (1.11.2)\nRequirement already satisfied: typed_ast in /home/nbuser/anaconda3_501/lib/python3.6/site-packages (from astroid>=2.0.0->pylint>=1.4.5->pytest-pylint>=0.13.0->phik>=0.9.8->pandas-profiling) (1.1.0)\nBuilding wheels for collected packages: pandas-profiling, confuse, htmlmin\n  Building wheel for pandas-profiling (setup.py) ... \u001b[?25ldone\n\u001b[?25h  Created wheel for pandas-profiling: filename=pandas_profiling-2.4.0-py2.py3-none-any.whl size=200184 sha256=37cd0e46586d39f7adbc65d65b4bd1601b03c4b2fe7b0144d0f28c85c84588c3\n  Stored in directory: /home/nbuser/.cache/pip/wheels/b2/4b/40/ff4633a59f4e7fbdfec19b8e10e353b54b5eef125c31afe51a\n  Building wheel for confuse (setup.py) ... \u001b[?25ldone\n\u001b[?25h  Created wheel for confuse: filename=confuse-1.0.0-cp36-none-any.whl size=19566 sha256=47355d5e05621f8c22b18daed5169d1fcd1151dbf108ac16e06d10db9c4498fb\n  Stored in directory: /home/nbuser/.cache/pip/wheels/b0/b2/96/2074eee7dbf7b7df69d004c9b6ac4e32dad04fb7666cf943bd\n  Building wheel for htmlmin (setup.py) ... \u001b[?25ldone\n\u001b[?25h  Created wheel for htmlmin: filename=htmlmin-0.1.12-cp36-none-any.whl size=27185 sha256=6eb448ef5cfdcc599f0fe801503af1d3d1e64fbe3e4ccbec5c8b3017044310d6\n  Stored in directory: /home/nbuser/.cache/pip/wheels/43/07/ac/7c5a9d708d65247ac1f94066cf1db075540b85716c30255459\nSuccessfully built pandas-profiling confuse htmlmin\nInstalling collected packages: confuse, htmlmin, missingno, zipp, importlib-metadata, pluggy, pytest, pytest-pylint, phik, pandas-profiling\n  Found existing installation: pluggy 0.7.1\n    Uninstalling pluggy-0.7.1:\n      Successfully uninstalled pluggy-0.7.1\n  Found existing installation: pytest 3.8.2\n    Uninstalling pytest-3.8.2:\n      Successfully uninstalled pytest-3.8.2\nSuccessfully installed confuse-1.0.0 htmlmin-0.1.12 importlib-metadata-1.4.0 missingno-0.4.2 pandas-profiling-2.4.0 phik-0.9.8 pluggy-0.13.1 pytest-5.3.4 pytest-pylint-0.14.1 zipp-2.1.0\n\u001b[33mWARNING: You are using pip version 19.3.1; however, version 20.0.2 is available.\nYou should consider upgrading via the 'pip install --upgrade pip' command.\u001b[0m\n",
          "name": "stdout"
        }
      ]
    },
    {
      "metadata": {
        "trusted": true
      },
      "cell_type": "code",
      "source": "import numpy as np\nimport pandas as pd\nimport seaborn as sns\nimport gym",
      "execution_count": 4,
      "outputs": []
    },
    {
      "metadata": {
        "trusted": true
      },
      "cell_type": "code",
      "source": "import pandas_profiling",
      "execution_count": 6,
      "outputs": []
    },
    {
      "metadata": {
        "trusted": true
      },
      "cell_type": "code",
      "source": "",
      "execution_count": null,
      "outputs": []
    },
    {
      "metadata": {
        "trusted": true
      },
      "cell_type": "code",
      "source": "",
      "execution_count": null,
      "outputs": []
    },
    {
      "metadata": {
        "trusted": true
      },
      "cell_type": "code",
      "source": "",
      "execution_count": null,
      "outputs": []
    },
    {
      "metadata": {
        "trusted": true
      },
      "cell_type": "code",
      "source": "",
      "execution_count": null,
      "outputs": []
    },
    {
      "metadata": {
        "trusted": true
      },
      "cell_type": "code",
      "source": "",
      "execution_count": null,
      "outputs": []
    },
    {
      "metadata": {
        "trusted": true
      },
      "cell_type": "code",
      "source": "profile = ProfileReport(Data, title='Pandas Profiling Report', html={'style':{'full_width':True}})",
      "execution_count": null,
      "outputs": []
    },
    {
      "metadata": {
        "trusted": true
      },
      "cell_type": "code",
      "source": "profile.to_file(output_file=\"your_report.html\")",
      "execution_count": null,
      "outputs": []
    }
  ],
  "metadata": {
    "kernelspec": {
      "name": "python36",
      "display_name": "Python 3.6",
      "language": "python"
    },
    "language_info": {
      "mimetype": "text/x-python",
      "nbconvert_exporter": "python",
      "name": "python",
      "pygments_lexer": "ipython3",
      "version": "3.6.6",
      "file_extension": ".py",
      "codemirror_mode": {
        "version": 3,
        "name": "ipython"
      }
    }
  },
  "nbformat": 4,
  "nbformat_minor": 2
}