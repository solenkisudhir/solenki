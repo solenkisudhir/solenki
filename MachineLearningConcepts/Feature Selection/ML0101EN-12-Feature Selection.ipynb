{
  "cells": [
    {
      "cell_type": "markdown",
      "source": [
        "### Feature Selection\n",
        "\n",
        "Feature selection is a process where you automatically select those features in your data that contribute most to the `prediction variable` or `output` in which you are interested.\n",
        "\n",
        "![](https://upload.wikimedia.org/wikipedia/commons/0/04/Feature_selection_Wrapper_Method.png)\n",
        "Having `irrelevant features` in your data can `decrease the accuracy` of many models, especially linear algorithms like linear and logistic regression.\n",
        "\n",
        "Three importance of performing feature selection before modeling your data are:\n",
        "\n",
        "1. **Reduces Overfitting**: Less redundant data means less opportunity to make decisions based on noise.\n",
        "2. **Improves Accuracy**: Less misleading data means modeling accuracy improves.\n",
        "3. **Reduces Training Time**: Less data means that algorithms train faster."
      ],
      "metadata": {}
    },
    {
      "cell_type": "markdown",
      "source": [
        "This section lists 4 feature selection recipes for machine learning in Python\n",
        "\n",
        "1. **Univariate Selection**\n",
        "2. **Recursive Feature Elimination**\n",
        "3. **Principal Component Analysis**\n",
        "4. **Feature Importance**\n",
        "5. **Removing features with low variance**\n",
        "\n",
        "\n",
        "### Problem Stastement:\n",
        "\n",
        "if a person have Feaver what are Features are imporent \n",
        "* **Normal:** 36.5–37.5 °C (97.7–99.5 °F)\n",
        "* **Fever:** >37.5 or 38.3 °C (99.5 or 100.9 °F)\n",
        "* **Hypothermia:** <35.0 °C (95.0 °F)\n",
        "\n",
        "## Symptoms For Fever\n",
        "1. Sweating\n",
        "2. Chills and shivering.\n",
        "3. Headache\n",
        "4. Muscle aches\n",
        "5. Loss of appetite\n",
        "6. Irritability\n",
        "7. Dehydration\n",
        "8. Temp\n",
        "9.Type of Fever\n",
        "\n",
        "![](https://lh3.googleusercontent.com/-KCPt4GoixT8/Xxbyn5JiOfI/AAAAAAAApXo/rd7g4glMvSgkcYOW5M_-rAhieXZphDsSACK8BGAsYHg/s0/2020-07-21.png)\n"
      ],
      "metadata": {}
    },
    {
      "cell_type": "code",
      "source": [
        "import numpy as np"
      ],
      "outputs": [],
      "execution_count": 1,
      "metadata": {
        "execution": {
          "iopub.status.busy": "2020-07-22T12:29:24.079Z",
          "iopub.execute_input": "2020-07-22T12:29:24.096Z",
          "shell.execute_reply": "2020-07-22T12:29:23.857Z",
          "iopub.status.idle": "2020-07-22T12:29:24.111Z"
        }
      }
    },
    {
      "cell_type": "code",
      "source": [
        "x = np.array([[1,2,3,4,5,6]])\n",
        "y = np.array([0,3,6,9,12,15])"
      ],
      "outputs": [],
      "execution_count": 2,
      "metadata": {
        "execution": {
          "shell.execute_reply": "2020-07-22T12:29:23.878Z",
          "iopub.status.busy": "2020-07-22T12:29:24.129Z",
          "iopub.execute_input": "2020-07-22T12:29:24.144Z",
          "iopub.status.idle": "2020-07-22T12:29:24.157Z"
        }
      }
    },
    {
      "cell_type": "code",
      "source": [
        "np.corrcoef(x,y)"
      ],
      "outputs": [
        {
          "output_type": "execute_result",
          "execution_count": 3,
          "data": {
            "text/plain": "array([[1., 1.],\n       [1., 1.]])"
          },
          "metadata": {}
        }
      ],
      "execution_count": 3,
      "metadata": {
        "execution": {
          "iopub.status.busy": "2020-07-22T12:29:24.176Z",
          "iopub.execute_input": "2020-07-22T12:29:24.188Z",
          "iopub.status.idle": "2020-07-22T12:29:24.207Z",
          "shell.execute_reply": "2020-07-22T12:29:23.900Z"
        }
      }
    },
    {
      "cell_type": "code",
      "source": [
        "np.cov(x,y) "
      ],
      "outputs": [
        {
          "output_type": "execute_result",
          "execution_count": 4,
          "data": {
            "text/plain": "array([[ 3.5, 10.5],\n       [10.5, 31.5]])"
          },
          "metadata": {}
        }
      ],
      "execution_count": 4,
      "metadata": {
        "execution": {
          "iopub.status.busy": "2020-07-22T12:29:24.228Z",
          "iopub.execute_input": "2020-07-22T12:29:24.242Z",
          "iopub.status.idle": "2020-07-22T12:29:24.262Z",
          "shell.execute_reply": "2020-07-22T12:29:23.924Z"
        }
      }
    },
    {
      "cell_type": "code",
      "source": [
        "import matplotlib.pyplot as plt"
      ],
      "outputs": [],
      "execution_count": 5,
      "metadata": {
        "execution": {
          "iopub.status.busy": "2020-07-22T12:29:24.279Z",
          "iopub.execute_input": "2020-07-22T12:29:24.291Z",
          "shell.execute_reply": "2020-07-22T12:29:25.435Z",
          "iopub.status.idle": "2020-07-22T12:29:25.476Z"
        }
      }
    },
    {
      "cell_type": "code",
      "source": [
        "plt.scatter(x,y)"
      ],
      "outputs": [
        {
          "output_type": "execute_result",
          "execution_count": 6,
          "data": {
            "text/plain": "<matplotlib.collections.PathCollection at 0x1e840f1d7b8>"
          },
          "metadata": {}
        },
        {
          "output_type": "display_data",
          "data": {
            "text/plain": "<Figure size 432x288 with 1 Axes>",
            "image/png": "[encoded data removed]"
          },
          "metadata": {
            "needs_background": "light"
          }
        }
      ],
      "execution_count": 6,
      "metadata": {
        "execution": {
          "iopub.status.busy": "2020-07-22T12:29:25.523Z",
          "iopub.execute_input": "2020-07-22T12:29:25.541Z",
          "iopub.status.idle": "2020-07-22T12:29:25.824Z",
          "shell.execute_reply": "2020-07-22T12:29:26.273Z"
        }
      }
    },
    {
      "cell_type": "markdown",
      "source": [
        "#### Univariate Selection\n",
        "Statistical tests can be used to select those features that have the strongest relationship with the output variable.\n",
        "\n",
        "1. The scikit-learn library provides the **SelectKBest** class that can be used with a suite of different statistical tests to select a specific number of features.\n",
        "\n",
        "2. Many different statistical test scan be used with this selection method. For example the **ANOVA F-value** method is appropriate for numerical inputs and categorical data, as we see in the Pima dataset. This can be used via the **f_classif()** function. We will select the 4 best features using this method in the example below.\n",
        "\n",
        "\n"
      ],
      "metadata": {}
    },
    {
      "cell_type": "code",
      "source": [
        "# Feature Selection with Univariate Statistical Tests\n",
        "from pandas import read_csv\n",
        "from numpy import set_printoptions\n",
        "from sklearn.feature_selection import SelectKBest,f_classif,mutual_info_classif,f_regression,chi2,f_oneway\n",
        "from sklearn.feature_selection import GenericUnivariateSelect,SelectPercentile,SelectFpr,SelectFdr,SelectFwe"
      ],
      "outputs": [],
      "execution_count": 7,
      "metadata": {
        "execution": {
          "iopub.status.busy": "2020-07-22T12:29:25.845Z",
          "iopub.execute_input": "2020-07-22T12:29:25.859Z",
          "iopub.status.idle": "2020-07-22T12:29:27.191Z",
          "shell.execute_reply": "2020-07-22T12:29:27.164Z"
        }
      }
    },
    {
      "cell_type": "code",
      "source": [
        "# load data\n",
        "filename = 'https://raw.githubusercontent.com/reddyprasade/Data-Sets-For-Machine-Learnig-and-Data-Science/master/DataSets/pima-indians-diabetes.csv'\n",
        "dataframe = read_csv(filename)"
      ],
      "outputs": [],
      "execution_count": 8,
      "metadata": {
        "execution": {
          "iopub.status.busy": "2020-07-22T12:29:27.215Z",
          "iopub.execute_input": "2020-07-22T12:29:27.229Z",
          "shell.execute_reply": "2020-07-22T12:29:28.660Z",
          "iopub.status.idle": "2020-07-22T12:29:28.699Z"
        }
      }
    },
    {
      "cell_type": "code",
      "source": [
        "dataframe"
      ],
      "outputs": [
        {
          "output_type": "execute_result",
          "execution_count": 9,
          "data": {
            "text/plain": "     Pregnancies  Glucose  BloodPressure  SkinThickness  Insulin   BMI  \\\n0              6      148             72             35        0  33.6   \n1              1       85             66             29        0  26.6   \n2              8      183             64              0        0  23.3   \n3              1       89             66             23       94  28.1   \n4              0      137             40             35      168  43.1   \n..           ...      ...            ...            ...      ...   ...   \n763           10      101             76             48      180  32.9   \n764            2      122             70             27        0  36.8   \n765            5      121             72             23      112  26.2   \n766            1      126             60              0        0  30.1   \n767            1       93             70             31        0  30.4   \n\n     DiabetesPedigreeFunction  Age  Outcome  \n0                       0.627   50        1  \n1                       0.351   31        0  \n2                       0.672   32        1  \n3                       0.167   21        0  \n4                       2.288   33        1  \n..                        ...  ...      ...  \n763                     0.171   63        0  \n764                     0.340   27        0  \n765                     0.245   30        0  \n766                     0.349   47        1  \n767                     0.315   23        0  \n\n[768 rows x 9 columns]",
            "text/html": "<div>\n<style scoped>\n    .dataframe tbody tr th:only-of-type {\n        vertical-align: middle;\n    }\n\n    .dataframe tbody tr th {\n        vertical-align: top;\n    }\n\n    .dataframe thead th {\n        text-align: right;\n    }\n</style>\n<table border=\"1\" class=\"dataframe\">\n  <thead>\n    <tr style=\"text-align: right;\">\n      <th></th>\n      <th>Pregnancies</th>\n      <th>Glucose</th>\n      <th>BloodPressure</th>\n      <th>SkinThickness</th>\n      <th>Insulin</th>\n      <th>BMI</th>\n      <th>DiabetesPedigreeFunction</th>\n      <th>Age</th>\n      <th>Outcome</th>\n    </tr>\n  </thead>\n  <tbody>\n    <tr>\n      <th>0</th>\n      <td>6</td>\n      <td>148</td>\n      <td>72</td>\n      <td>35</td>\n      <td>0</td>\n      <td>33.6</td>\n      <td>0.627</td>\n      <td>50</td>\n      <td>1</td>\n    </tr>\n    <tr>\n      <th>1</th>\n      <td>1</td>\n      <td>85</td>\n      <td>66</td>\n      <td>29</td>\n      <td>0</td>\n      <td>26.6</td>\n      <td>0.351</td>\n      <td>31</td>\n      <td>0</td>\n    </tr>\n    <tr>\n      <th>2</th>\n      <td>8</td>\n      <td>183</td>\n      <td>64</td>\n      <td>0</td>\n      <td>0</td>\n      <td>23.3</td>\n      <td>0.672</td>\n      <td>32</td>\n      <td>1</td>\n    </tr>\n    <tr>\n      <th>3</th>\n      <td>1</td>\n      <td>89</td>\n      <td>66</td>\n      <td>23</td>\n      <td>94</td>\n      <td>28.1</td>\n      <td>0.167</td>\n      <td>21</td>\n      <td>0</td>\n    </tr>\n    <tr>\n      <th>4</th>\n      <td>0</td>\n      <td>137</td>\n      <td>40</td>\n      <td>35</td>\n      <td>168</td>\n      <td>43.1</td>\n      <td>2.288</td>\n      <td>33</td>\n      <td>1</td>\n    </tr>\n    <tr>\n      <th>...</th>\n      <td>...</td>\n      <td>...</td>\n      <td>...</td>\n      <td>...</td>\n      <td>...</td>\n      <td>...</td>\n      <td>...</td>\n      <td>...</td>\n      <td>...</td>\n    </tr>\n    <tr>\n      <th>763</th>\n      <td>10</td>\n      <td>101</td>\n      <td>76</td>\n      <td>48</td>\n      <td>180</td>\n      <td>32.9</td>\n      <td>0.171</td>\n      <td>63</td>\n      <td>0</td>\n    </tr>\n    <tr>\n      <th>764</th>\n      <td>2</td>\n      <td>122</td>\n      <td>70</td>\n      <td>27</td>\n      <td>0</td>\n      <td>36.8</td>\n      <td>0.340</td>\n      <td>27</td>\n      <td>0</td>\n    </tr>\n    <tr>\n      <th>765</th>\n      <td>5</td>\n      <td>121</td>\n      <td>72</td>\n      <td>23</td>\n      <td>112</td>\n      <td>26.2</td>\n      <td>0.245</td>\n      <td>30</td>\n      <td>0</td>\n    </tr>\n    <tr>\n      <th>766</th>\n      <td>1</td>\n      <td>126</td>\n      <td>60</td>\n      <td>0</td>\n      <td>0</td>\n      <td>30.1</td>\n      <td>0.349</td>\n      <td>47</td>\n      <td>1</td>\n    </tr>\n    <tr>\n      <th>767</th>\n      <td>1</td>\n      <td>93</td>\n      <td>70</td>\n      <td>31</td>\n      <td>0</td>\n      <td>30.4</td>\n      <td>0.315</td>\n      <td>23</td>\n      <td>0</td>\n    </tr>\n  </tbody>\n</table>\n<p>768 rows × 9 columns</p>\n</div>"
          },
          "metadata": {}
        }
      ],
      "execution_count": 9,
      "metadata": {
        "execution": {
          "iopub.status.busy": "2020-07-22T12:29:28.747Z",
          "iopub.execute_input": "2020-07-22T12:29:28.765Z",
          "iopub.status.idle": "2020-07-22T12:29:28.816Z",
          "shell.execute_reply": "2020-07-22T12:29:29.618Z"
        }
      }
    },
    {
      "cell_type": "markdown",
      "source": [
        "* **f_classif** --> ANOVA F-value between label/feature for classification tasks.\n",
        "\n",
        "* **mutual_info_classif**--> Mutual information for a discrete target.\n",
        "\n",
        "* **chi2**-->Chi-squared stats of non-negative features for classification tasks.\n",
        "\n",
        "* **f_regression**--> F-value between label/feature for regression tasks.\n",
        "\n",
        "* **mutual_info_regression**--> Mutual information for a continuous target.\n",
        "\n",
        "* **SelectPercentile**--> Select features based on percentile of the highest scores.\n",
        "\n",
        "* **SelectFpr** --> Select features based on a false positive rate test.\n",
        "\n",
        "* **SelectFdr** -->Select features based on an estimated false discovery rate.\n",
        "\n",
        "* **SelectFwe** --> Select features based on family-wise error rate.\n",
        "\n",
        "* **GenericUnivariateSelect**-->Univariate feature selector with configurable mode"
      ],
      "metadata": {}
    },
    {
      "cell_type": "code",
      "source": [
        "array = dataframe.values"
      ],
      "outputs": [],
      "execution_count": 10,
      "metadata": {
        "execution": {
          "iopub.status.busy": "2020-07-22T12:29:28.850Z",
          "iopub.execute_input": "2020-07-22T12:29:28.865Z",
          "iopub.status.idle": "2020-07-22T12:29:28.886Z",
          "shell.execute_reply": "2020-07-22T12:29:29.644Z"
        }
      }
    },
    {
      "cell_type": "code",
      "source": [
        "X = array[:,0:8]\n",
        "Y = array[:,8]"
      ],
      "outputs": [],
      "execution_count": 11,
      "metadata": {
        "execution": {
          "iopub.status.busy": "2020-07-22T12:29:28.907Z",
          "iopub.execute_input": "2020-07-22T12:29:28.921Z",
          "iopub.status.idle": "2020-07-22T12:29:28.947Z",
          "shell.execute_reply": "2020-07-22T12:29:29.655Z"
        }
      }
    },
    {
      "cell_type": "code",
      "source": [
        "# feature extraction\n",
        "test = SelectKBest(score_func=f_classif, \n",
        "                   k=4)\n",
        "fit = test.fit(X, Y)"
      ],
      "outputs": [],
      "execution_count": 12,
      "metadata": {
        "execution": {
          "iopub.status.busy": "2020-07-22T12:29:28.970Z",
          "iopub.execute_input": "2020-07-22T12:29:28.987Z",
          "iopub.status.idle": "2020-07-22T12:29:29.013Z",
          "shell.execute_reply": "2020-07-22T12:29:29.663Z"
        }
      }
    },
    {
      "cell_type": "code",
      "source": [
        "fit.score_func(X,Y)"
      ],
      "outputs": [
        {
          "output_type": "execute_result",
          "execution_count": 13,
          "data": {
            "text/plain": "(array([ 39.67022739, 213.16175218,   3.2569504 ,   4.30438091,\n         13.28110753,  71.7720721 ,  23.8713002 ,  46.14061124]),\n array([5.06512730e-10, 8.93543165e-43, 7.15139001e-02, 3.83477048e-02,\n        2.86186460e-04, 1.22980749e-16, 1.25460701e-06, 2.20997546e-11]))"
          },
          "metadata": {}
        }
      ],
      "execution_count": 13,
      "metadata": {
        "execution": {
          "iopub.status.busy": "2020-07-22T12:29:29.032Z",
          "iopub.execute_input": "2020-07-22T12:29:29.049Z",
          "iopub.status.idle": "2020-07-22T12:29:29.092Z",
          "shell.execute_reply": "2020-07-22T12:29:29.670Z"
        }
      }
    },
    {
      "cell_type": "code",
      "source": [
        "# summarize scores\n",
        "set_printoptions(precision=3)\n",
        "print(fit.scores_)"
      ],
      "outputs": [
        {
          "output_type": "stream",
          "name": "stdout",
          "text": [
            "[ 39.67  213.162   3.257   4.304  13.281  71.772  23.871  46.141]\n"
          ]
        }
      ],
      "execution_count": 14,
      "metadata": {
        "execution": {
          "iopub.status.busy": "2020-07-22T12:29:29.123Z",
          "iopub.execute_input": "2020-07-22T12:29:29.137Z",
          "iopub.status.idle": "2020-07-22T12:29:29.180Z",
          "shell.execute_reply": "2020-07-22T12:29:29.677Z"
        }
      }
    },
    {
      "cell_type": "code",
      "source": [
        "features = fit.transform(X)\n",
        "# summarize selected features\n",
        "print(features[0:5,:])"
      ],
      "outputs": [
        {
          "output_type": "stream",
          "name": "stdout",
          "text": [
            "[[  6.  148.   33.6  50. ]\n",
            " [  1.   85.   26.6  31. ]\n",
            " [  8.  183.   23.3  32. ]\n",
            " [  1.   89.   28.1  21. ]\n",
            " [  0.  137.   43.1  33. ]]\n"
          ]
        }
      ],
      "execution_count": 15,
      "metadata": {
        "execution": {
          "iopub.status.busy": "2020-07-22T12:29:29.217Z",
          "iopub.execute_input": "2020-07-22T12:29:29.238Z",
          "iopub.status.idle": "2020-07-22T12:29:29.282Z",
          "shell.execute_reply": "2020-07-22T12:29:29.684Z"
        }
      }
    },
    {
      "cell_type": "code",
      "source": [
        "import pandas as pd\n",
        "pd.Series(fit.scores_)"
      ],
      "outputs": [
        {
          "output_type": "execute_result",
          "execution_count": 16,
          "data": {
            "text/plain": "0     39.670227\n1    213.161752\n2      3.256950\n3      4.304381\n4     13.281108\n5     71.772072\n6     23.871300\n7     46.140611\ndtype: float64"
          },
          "metadata": {}
        }
      ],
      "execution_count": 16,
      "metadata": {
        "execution": {
          "iopub.status.busy": "2020-07-22T12:29:29.316Z",
          "iopub.execute_input": "2020-07-22T12:29:29.338Z",
          "iopub.status.idle": "2020-07-22T12:29:29.396Z",
          "shell.execute_reply": "2020-07-22T12:29:29.691Z"
        }
      }
    },
    {
      "cell_type": "markdown",
      "source": [
        "You can see the scores for each attribute and the 4 attributes chosen (those with the highest scores). Specifically features with indexes 0 (Pregnancies), 1 (plas), 5 (mass), and 7 (age)."
      ],
      "metadata": {}
    },
    {
      "cell_type": "markdown",
      "source": [
        "#### 2. Recursive Feature Elimination\n",
        "* The Recursive Feature Elimination (or RFE) works by recursively removing attributes and building a model on those attributes that remain.\n",
        "\n",
        "* It uses the model accuracy to identify which attributes (and combination of attributes) contribute the most to predicting the target attribute.\n",
        "\n",
        "* You can learn more about the RFE class in the [scikit-learn documentation.]()\n",
        "\n",
        "\n",
        "![](https://lh3.googleusercontent.com/-Kq_fnU7FHgc/XuQvTR5PKtI/AAAAAAAAonI/GQz_Nc8nwOsNPy5NNPjo0nYy9DzUtiiEwCK8BGAsYHg/s0/2020-06-12.png)\n",
        "\n",
        "\n",
        "The example below uses RFE with the logistic regression algorithm to select the top 3 features. The choice of algorithm does not matter too much as long as it is skillful and consistent.\n",
        "\n",
        "\n",
        "Feature selection refers to techniques that select a subset of the most relevant features (columns) for a dataset. Fewer features can allow machine learning algorithms to run more efficiently (less space or time complexity) and be more effective. Some machine learning algorithms can be misled by irrelevant input features, resulting in worse predictive performance."
      ],
      "metadata": {}
    },
    {
      "cell_type": "code",
      "source": [
        "# Feature Extraction with RFE\n",
        "from pandas import read_csv\n",
        "from sklearn.feature_selection import RFE\n",
        "from sklearn.linear_model import LogisticRegression"
      ],
      "outputs": [],
      "execution_count": 31,
      "metadata": {
        "execution": {
          "iopub.status.busy": "2020-07-22T12:43:37.069Z",
          "iopub.execute_input": "2020-07-22T12:43:37.089Z",
          "iopub.status.idle": "2020-07-22T12:43:37.115Z",
          "shell.execute_reply": "2020-07-22T12:43:37.132Z"
        }
      }
    },
    {
      "cell_type": "code",
      "source": [
        "# feature extraction\n",
        "model = LogisticRegression(solver='lbfgs',max_iter=500)"
      ],
      "outputs": [],
      "execution_count": 32,
      "metadata": {
        "execution": {
          "iopub.status.busy": "2020-07-22T12:43:40.445Z",
          "iopub.execute_input": "2020-07-22T12:43:40.465Z",
          "iopub.status.idle": "2020-07-22T12:43:40.495Z",
          "shell.execute_reply": "2020-07-22T12:43:40.519Z"
        }
      }
    },
    {
      "cell_type": "code",
      "source": [
        "rfe = RFE(model, n_features_to_select=4)\n",
        "fit = rfe.fit(X, Y)\n",
        "print(\"Num Features: %d\" % fit.n_features_)\n",
        "print(\"Selected Features: %s\" % fit.support_)\n",
        "print(\"Feature Ranking: %s\" % fit.ranking_)"
      ],
      "outputs": [
        {
          "output_type": "stream",
          "name": "stdout",
          "text": [
            "Num Features: 4\n",
            "Selected Features: [ True  True False False False  True  True False]\n",
            "Feature Ranking: [1 1 3 5 4 1 1 2]\n"
          ]
        }
      ],
      "execution_count": 34,
      "metadata": {
        "execution": {
          "iopub.status.busy": "2020-07-22T12:46:18.053Z",
          "iopub.execute_input": "2020-07-22T12:46:18.097Z",
          "iopub.status.idle": "2020-07-22T12:46:18.206Z",
          "shell.execute_reply": "2020-07-22T12:46:18.254Z"
        }
      }
    },
    {
      "cell_type": "code",
      "source": [
        "dataframe.columns"
      ],
      "outputs": [
        {
          "output_type": "execute_result",
          "execution_count": 35,
          "data": {
            "text/plain": "Index(['Pregnancies', 'Glucose', 'BloodPressure', 'SkinThickness', 'Insulin',\n       'BMI', 'DiabetesPedigreeFunction', 'Age', 'Outcome'],\n      dtype='object')"
          },
          "metadata": {}
        }
      ],
      "execution_count": 35,
      "metadata": {
        "execution": {
          "iopub.status.busy": "2020-07-22T12:46:19.679Z",
          "iopub.execute_input": "2020-07-22T12:46:19.739Z",
          "iopub.status.idle": "2020-07-22T12:46:19.830Z",
          "shell.execute_reply": "2020-07-22T12:46:19.859Z"
        }
      }
    },
    {
      "cell_type": "code",
      "source": [
        "print(\"Rank 1 Features\")\n",
        "dataframe[['Pregnancies','BMI', 'DiabetesPedigreeFunction','Glucose']].head(2)"
      ],
      "outputs": [
        {
          "output_type": "stream",
          "name": "stdout",
          "text": [
            "Rank 1 Features\n"
          ]
        },
        {
          "output_type": "execute_result",
          "execution_count": 37,
          "data": {
            "text/plain": "   Pregnancies   BMI  DiabetesPedigreeFunction  Glucose\n0            6  33.6                     0.627      148\n1            1  26.6                     0.351       85",
            "text/html": "<div>\n<style scoped>\n    .dataframe tbody tr th:only-of-type {\n        vertical-align: middle;\n    }\n\n    .dataframe tbody tr th {\n        vertical-align: top;\n    }\n\n    .dataframe thead th {\n        text-align: right;\n    }\n</style>\n<table border=\"1\" class=\"dataframe\">\n  <thead>\n    <tr style=\"text-align: right;\">\n      <th></th>\n      <th>Pregnancies</th>\n      <th>BMI</th>\n      <th>DiabetesPedigreeFunction</th>\n      <th>Glucose</th>\n    </tr>\n  </thead>\n  <tbody>\n    <tr>\n      <th>0</th>\n      <td>6</td>\n      <td>33.6</td>\n      <td>0.627</td>\n      <td>148</td>\n    </tr>\n    <tr>\n      <th>1</th>\n      <td>1</td>\n      <td>26.6</td>\n      <td>0.351</td>\n      <td>85</td>\n    </tr>\n  </tbody>\n</table>\n</div>"
          },
          "metadata": {}
        }
      ],
      "execution_count": 37,
      "metadata": {
        "execution": {
          "iopub.status.busy": "2020-07-22T12:46:49.216Z",
          "iopub.execute_input": "2020-07-22T12:46:49.243Z",
          "iopub.status.idle": "2020-07-22T12:46:49.328Z",
          "shell.execute_reply": "2020-07-22T12:46:49.385Z"
        }
      }
    },
    {
      "cell_type": "markdown",
      "source": [
        "You can see that RFE chose the the top 4 features as `Pregnancies`, `BMI` and `DiabetesPedigreeFunction`.\n",
        "\n",
        "These are marked True in the support_ array and marked with a choice “1” in the ranking_ array.\n"
      ],
      "metadata": {}
    },
    {
      "cell_type": "markdown",
      "source": [
        "## VarianceThreshold\n",
        "* Feature can be Select based on based on there Variance is low \n",
        "* Feature selector that removes all low-variance features.\n",
        "* This feature selection algorithm looks only at the features (X), not the desired outputs (y), and can thus be used for unsupervised learning.\n",
        "$\\mathrm{Var}[X] = p(1 - p)$"
      ],
      "metadata": {
        "nteract": {
          "transient": {
            "deleting": false
          }
        }
      }
    },
    {
      "cell_type": "markdown",
      "source": [
        "VarianceThreshold is a simple baseline approach to feature selection. It removes all features whose variance doesn’t meet some threshold. By default, it removes all zero-variance features, i.e. features that have the same value in all samples.\n",
        "\n",
        "As an example, suppose that we have a dataset with boolean features, and we want to remove all features that are either one or zero (on or off) in more than 80% of the samples. Boolean features are Bernoulli random variables, and the variance of such variables is given by\n",
        "\n",
        "so we can select using the threshold `.8 * (1 - .8):`"
      ],
      "metadata": {
        "nteract": {
          "transient": {
            "deleting": false
          }
        }
      }
    },
    {
      "cell_type": "code",
      "source": [
        "from sklearn.feature_selection import VarianceThreshold\n",
        "selector = VarianceThreshold(threshold=(.8 * (1 - .8)))\n",
        "selector.fit_transform(X)"
      ],
      "outputs": [
        {
          "output_type": "execute_result",
          "execution_count": 42,
          "data": {
            "text/plain": "array([[  6. , 148. ,  72. , ...,   0. ,  33.6,  50. ],\n       [  1. ,  85. ,  66. , ...,   0. ,  26.6,  31. ],\n       [  8. , 183. ,  64. , ...,   0. ,  23.3,  32. ],\n       ...,\n       [  5. , 121. ,  72. , ..., 112. ,  26.2,  30. ],\n       [  1. , 126. ,  60. , ...,   0. ,  30.1,  47. ],\n       [  1. ,  93. ,  70. , ...,   0. ,  30.4,  23. ]])"
          },
          "metadata": {}
        }
      ],
      "execution_count": 42,
      "metadata": {
        "collapsed": true,
        "jupyter": {
          "source_hidden": false,
          "outputs_hidden": false
        },
        "nteract": {
          "transient": {
            "deleting": false
          }
        },
        "execution": {
          "iopub.status.busy": "2020-07-22T13:06:15.673Z",
          "iopub.execute_input": "2020-07-22T13:06:15.694Z",
          "iopub.status.idle": "2020-07-22T13:06:15.722Z",
          "shell.execute_reply": "2020-07-22T13:06:15.736Z"
        }
      }
    },
    {
      "cell_type": "code",
      "source": [
        "selector.get_support()  "
      ],
      "outputs": [
        {
          "output_type": "execute_result",
          "execution_count": 43,
          "data": {
            "text/plain": "array([ True,  True,  True,  True,  True,  True, False,  True])"
          },
          "metadata": {}
        }
      ],
      "execution_count": 43,
      "metadata": {
        "collapsed": true,
        "jupyter": {
          "source_hidden": false,
          "outputs_hidden": false
        },
        "nteract": {
          "transient": {
            "deleting": false
          }
        },
        "execution": {
          "iopub.status.busy": "2020-07-22T13:06:17.929Z",
          "iopub.execute_input": "2020-07-22T13:06:17.940Z",
          "iopub.status.idle": "2020-07-22T13:06:17.966Z",
          "shell.execute_reply": "2020-07-22T13:06:17.977Z"
        }
      }
    },
    {
      "cell_type": "markdown",
      "source": [
        "### SelectPercentile"
      ],
      "metadata": {
        "nteract": {
          "transient": {
            "deleting": false
          }
        }
      }
    },
    {
      "cell_type": "code",
      "source": [
        "from sklearn.feature_selection import SelectPercentile, chi2\n",
        "Percentile  = SelectPercentile(chi2, percentile=10)\n",
        "Percentile.fit_transform(X,Y)"
      ],
      "outputs": [
        {
          "output_type": "execute_result",
          "execution_count": 51,
          "data": {
            "text/plain": "array([[  0.],\n       [  0.],\n       [  0.],\n       [ 94.],\n       [168.],\n       [  0.],\n       [ 88.],\n       [  0.],\n       [543.],\n       [  0.],\n       [  0.],\n       [  0.],\n       [  0.],\n       [846.],\n       [175.],\n       [  0.],\n       [230.],\n       [  0.],\n       [ 83.],\n       [ 96.],\n       [235.],\n       [  0.],\n       [  0.],\n       [  0.],\n       [146.],\n       [115.],\n       [  0.],\n       [140.],\n       [110.],\n       [  0.],\n       [  0.],\n       [245.],\n       [ 54.],\n       [  0.],\n       [  0.],\n       [192.],\n       [  0.],\n       [  0.],\n       [  0.],\n       [207.],\n       [ 70.],\n       [  0.],\n       [  0.],\n       [240.],\n       [  0.],\n       [  0.],\n       [  0.],\n       [  0.],\n       [  0.],\n       [  0.],\n       [ 82.],\n       [ 36.],\n       [ 23.],\n       [300.],\n       [342.],\n       [  0.],\n       [304.],\n       [110.],\n       [  0.],\n       [142.],\n       [  0.],\n       [  0.],\n       [  0.],\n       [128.],\n       [  0.],\n       [  0.],\n       [  0.],\n       [  0.],\n       [ 38.],\n       [100.],\n       [ 90.],\n       [140.],\n       [  0.],\n       [270.],\n       [  0.],\n       [  0.],\n       [  0.],\n       [  0.],\n       [  0.],\n       [  0.],\n       [  0.],\n       [  0.],\n       [ 71.],\n       [  0.],\n       [  0.],\n       [125.],\n       [  0.],\n       [ 71.],\n       [110.],\n       [  0.],\n       [  0.],\n       [176.],\n       [ 48.],\n       [  0.],\n       [ 64.],\n       [228.],\n       [  0.],\n       [ 76.],\n       [ 64.],\n       [220.],\n       [  0.],\n       [  0.],\n       [  0.],\n       [ 40.],\n       [  0.],\n       [152.],\n       [  0.],\n       [140.],\n       [ 18.],\n       [ 36.],\n       [135.],\n       [495.],\n       [ 37.],\n       [  0.],\n       [175.],\n       [  0.],\n       [  0.],\n       [  0.],\n       [  0.],\n       [ 51.],\n       [100.],\n       [  0.],\n       [100.],\n       [  0.],\n       [  0.],\n       [ 99.],\n       [135.],\n       [ 94.],\n       [145.],\n       [  0.],\n       [168.],\n       [  0.],\n       [225.],\n       [  0.],\n       [ 49.],\n       [140.],\n       [ 50.],\n       [ 92.],\n       [  0.],\n       [325.],\n       [  0.],\n       [  0.],\n       [ 63.],\n       [  0.],\n       [284.],\n       [  0.],\n       [  0.],\n       [119.],\n       [  0.],\n       [  0.],\n       [204.],\n       [  0.],\n       [155.],\n       [485.],\n       [  0.],\n       [  0.],\n       [ 94.],\n       [135.],\n       [ 53.],\n       [114.],\n       [  0.],\n       [105.],\n       [285.],\n       [  0.],\n       [  0.],\n       [156.],\n       [  0.],\n       [  0.],\n       [  0.],\n       [ 78.],\n       [  0.],\n       [130.],\n       [  0.],\n       [ 48.],\n       [ 55.],\n       [130.],\n       [  0.],\n       [130.],\n       [  0.],\n       [  0.],\n       [  0.],\n       [ 92.],\n       [ 23.],\n       [  0.],\n       [  0.],\n       [  0.],\n       [495.],\n       [ 58.],\n       [114.],\n       [160.],\n       [  0.],\n       [ 94.],\n       [  0.],\n       [  0.],\n       [  0.],\n       [210.],\n       [  0.],\n       [ 48.],\n       [ 99.],\n       [318.],\n       [  0.],\n       [  0.],\n       [  0.],\n       [ 44.],\n       [190.],\n       [  0.],\n       [280.],\n       [  0.],\n       [ 87.],\n       [  0.],\n       [  0.],\n       [  0.],\n       [  0.],\n       [130.],\n       [175.],\n       [271.],\n       [129.],\n       [120.],\n       [  0.],\n       [  0.],\n       [478.],\n       [  0.],\n       [  0.],\n       [190.],\n       [ 56.],\n       [ 32.],\n       [  0.],\n       [  0.],\n       [744.],\n       [ 53.],\n       [  0.],\n       [370.],\n       [ 37.],\n       [  0.],\n       [ 45.],\n       [  0.],\n       [192.],\n       [  0.],\n       [  0.],\n       [  0.],\n       [  0.],\n       [ 88.],\n       [  0.],\n       [176.],\n       [194.],\n       [  0.],\n       [  0.],\n       [680.],\n       [402.],\n       [  0.],\n       [  0.],\n       [  0.],\n       [ 55.],\n       [  0.],\n       [258.],\n       [  0.],\n       [  0.],\n       [  0.],\n       [375.],\n       [150.],\n       [130.],\n       [  0.],\n       [  0.],\n       [  0.],\n       [  0.],\n       [ 67.],\n       [  0.],\n       [  0.],\n       [  0.],\n       [  0.],\n       [  0.],\n       [ 56.],\n       [  0.],\n       [ 45.],\n       [  0.],\n       [ 57.],\n       [  0.],\n       [116.],\n       [  0.],\n       [278.],\n       [  0.],\n       [122.],\n       [155.],\n       [  0.],\n       [  0.],\n       [135.],\n       [545.],\n       [220.],\n       [ 49.],\n       [ 75.],\n       [ 40.],\n       [ 74.],\n       [182.],\n       [194.],\n       [  0.],\n       [120.],\n       [360.],\n       [215.],\n       [184.],\n       [  0.],\n       [  0.],\n       [135.],\n       [ 42.],\n       [  0.],\n       [  0.],\n       [105.],\n       [132.],\n       [148.],\n       [180.],\n       [205.],\n       [  0.],\n       [148.],\n       [ 96.],\n       [ 85.],\n       [  0.],\n       [ 94.],\n       [ 64.],\n       [  0.],\n       [140.],\n       [  0.],\n       [231.],\n       [  0.],\n       [  0.],\n       [ 29.],\n       [  0.],\n       [168.],\n       [156.],\n       [  0.],\n       [120.],\n       [ 68.],\n       [  0.],\n       [ 52.],\n       [  0.],\n       [  0.],\n       [ 58.],\n       [255.],\n       [  0.],\n       [  0.],\n       [171.],\n       [  0.],\n       [105.],\n       [ 73.],\n       [  0.],\n       [  0.],\n       [  0.],\n       [108.],\n       [ 83.],\n       [  0.],\n       [ 74.],\n       [  0.],\n       [  0.],\n       [  0.],\n       [  0.],\n       [ 43.],\n       [  0.],\n       [  0.],\n       [167.],\n       [  0.],\n       [ 54.],\n       [249.],\n       [325.],\n       [  0.],\n       [  0.],\n       [  0.],\n       [293.],\n       [ 83.],\n       [  0.],\n       [  0.],\n       [ 66.],\n       [140.],\n       [465.],\n       [ 89.],\n       [ 66.],\n       [ 94.],\n       [158.],\n       [325.],\n       [ 84.],\n       [ 75.],\n       [  0.],\n       [ 72.],\n       [ 82.],\n       [  0.],\n       [182.],\n       [ 59.],\n       [110.],\n       [ 50.],\n       [  0.],\n       [  0.],\n       [285.],\n       [ 81.],\n       [196.],\n       [  0.],\n       [415.],\n       [ 87.],\n       [  0.],\n       [275.],\n       [115.],\n       [  0.],\n       [  0.],\n       [  0.],\n       [  0.],\n       [  0.],\n       [ 88.],\n       [  0.],\n       [  0.],\n       [165.],\n       [  0.],\n       [  0.],\n       [  0.],\n       [579.],\n       [  0.],\n       [176.],\n       [310.],\n       [ 61.],\n       [167.],\n       [474.],\n       [  0.],\n       [  0.],\n       [  0.],\n       [115.],\n       [170.],\n       [ 76.],\n       [ 78.],\n       [  0.],\n       [210.],\n       [277.],\n       [  0.],\n       [180.],\n       [145.],\n       [180.],\n       [  0.],\n       [ 85.],\n       [ 60.],\n       [  0.],\n       [  0.],\n       [  0.],\n       [  0.],\n       [  0.],\n       [  0.],\n       [  0.],\n       [  0.],\n       [ 50.],\n       [120.],\n       [  0.],\n       [  0.],\n       [ 14.],\n       [ 70.],\n       [ 92.],\n       [ 64.],\n       [ 63.],\n       [ 95.],\n       [  0.],\n       [210.],\n       [  0.],\n       [105.],\n       [  0.],\n       [  0.],\n       [ 71.],\n       [237.],\n       [ 60.],\n       [ 56.],\n       [  0.],\n       [ 49.],\n       [  0.],\n       [  0.],\n       [105.],\n       [ 36.],\n       [100.],\n       [  0.],\n       [140.],\n       [  0.],\n       [  0.],\n       [  0.],\n       [  0.],\n       [  0.],\n       [  0.],\n       [191.],\n       [110.],\n       [ 75.],\n       [  0.],\n       [328.],\n       [  0.],\n       [ 49.],\n       [125.],\n       [  0.],\n       [250.],\n       [480.],\n       [265.],\n       [  0.],\n       [  0.],\n       [ 66.],\n       [  0.],\n       [  0.],\n       [122.],\n       [  0.],\n       [  0.],\n       [  0.],\n       [ 76.],\n       [145.],\n       [193.],\n       [ 71.],\n       [  0.],\n       [  0.],\n       [ 79.],\n       [  0.],\n       [  0.],\n       [ 90.],\n       [170.],\n       [ 76.],\n       [  0.],\n       [  0.],\n       [210.],\n       [  0.],\n       [  0.],\n       [ 86.],\n       [105.],\n       [165.],\n       [  0.],\n       [  0.],\n       [326.],\n       [ 66.],\n       [130.],\n       [  0.],\n       [  0.],\n       [  0.],\n       [  0.],\n       [ 82.],\n       [105.],\n       [188.],\n       [  0.],\n       [106.],\n       [  0.],\n       [ 65.],\n       [  0.],\n       [ 56.],\n       [  0.],\n       [  0.],\n       [  0.],\n       [210.],\n       [155.],\n       [215.],\n       [190.],\n       [  0.],\n       [ 56.],\n       [ 76.],\n       [225.],\n       [207.],\n       [166.],\n       [ 67.],\n       [  0.],\n       [  0.],\n       [106.],\n       [  0.],\n       [ 44.],\n       [115.],\n       [215.],\n       [  0.],\n       [  0.],\n       [  0.],\n       [  0.],\n       [  0.],\n       [274.],\n       [ 77.],\n       [ 54.],\n       [  0.],\n       [ 88.],\n       [ 18.],\n       [126.],\n       [126.],\n       [165.],\n       [  0.],\n       [  0.],\n       [ 44.],\n       [120.],\n       [330.],\n       [ 63.],\n       [130.],\n       [  0.],\n       [  0.],\n       [  0.],\n       [  0.],\n       [  0.],\n       [  0.],\n       [  0.],\n       [600.],\n       [  0.],\n       [  0.],\n       [  0.],\n       [156.],\n       [  0.],\n       [  0.],\n       [140.],\n       [  0.],\n       [115.],\n       [230.],\n       [185.],\n       [  0.],\n       [ 25.],\n       [  0.],\n       [120.],\n       [  0.],\n       [  0.],\n       [  0.],\n       [126.],\n       [  0.],\n       [  0.],\n       [293.],\n       [ 41.],\n       [272.],\n       [182.],\n       [158.],\n       [194.],\n       [321.],\n       [  0.],\n       [144.],\n       [  0.],\n       [  0.],\n       [ 15.],\n       [  0.],\n       [  0.],\n       [160.],\n       [  0.],\n       [  0.],\n       [115.],\n       [  0.],\n       [ 54.],\n       [  0.],\n       [  0.],\n       [  0.],\n       [  0.],\n       [  0.],\n       [ 90.],\n       [  0.],\n       [183.],\n       [  0.],\n       [  0.],\n       [  0.],\n       [ 66.],\n       [ 91.],\n       [ 46.],\n       [105.],\n       [  0.],\n       [  0.],\n       [  0.],\n       [152.],\n       [440.],\n       [144.],\n       [159.],\n       [130.],\n       [  0.],\n       [100.],\n       [106.],\n       [ 77.],\n       [  0.],\n       [135.],\n       [540.],\n       [ 90.],\n       [200.],\n       [  0.],\n       [ 70.],\n       [  0.],\n       [  0.],\n       [231.],\n       [130.],\n       [  0.],\n       [132.],\n       [  0.],\n       [  0.],\n       [190.],\n       [100.],\n       [168.],\n       [  0.],\n       [ 49.],\n       [240.],\n       [  0.],\n       [  0.],\n       [  0.],\n       [  0.],\n       [  0.],\n       [265.],\n       [ 45.],\n       [  0.],\n       [105.],\n       [  0.],\n       [  0.],\n       [205.],\n       [  0.],\n       [  0.],\n       [180.],\n       [180.],\n       [  0.],\n       [  0.],\n       [ 95.],\n       [125.],\n       [  0.],\n       [480.],\n       [125.],\n       [  0.],\n       [155.],\n       [  0.],\n       [200.],\n       [  0.],\n       [  0.],\n       [  0.],\n       [100.],\n       [  0.],\n       [  0.],\n       [335.],\n       [  0.],\n       [160.],\n       [387.],\n       [ 22.],\n       [  0.],\n       [291.],\n       [  0.],\n       [392.],\n       [185.],\n       [  0.],\n       [178.],\n       [  0.],\n       [  0.],\n       [200.],\n       [127.],\n       [105.],\n       [  0.],\n       [  0.],\n       [180.],\n       [  0.],\n       [  0.],\n       [  0.],\n       [ 79.],\n       [  0.],\n       [120.],\n       [165.],\n       [  0.],\n       [  0.],\n       [120.],\n       [  0.],\n       [160.],\n       [  0.],\n       [150.],\n       [ 94.],\n       [116.],\n       [  0.],\n       [140.],\n       [105.],\n       [  0.],\n       [ 57.],\n       [200.],\n       [  0.],\n       [  0.],\n       [ 74.],\n       [  0.],\n       [510.],\n       [  0.],\n       [110.],\n       [  0.],\n       [  0.],\n       [  0.],\n       [  0.],\n       [ 16.],\n       [  0.],\n       [  0.],\n       [180.],\n       [  0.],\n       [112.],\n       [  0.],\n       [  0.]])"
          },
          "metadata": {}
        }
      ],
      "execution_count": 51,
      "metadata": {
        "collapsed": true,
        "jupyter": {
          "source_hidden": false,
          "outputs_hidden": false
        },
        "nteract": {
          "transient": {
            "deleting": false
          }
        },
        "execution": {
          "iopub.status.busy": "2020-07-22T13:12:29.067Z",
          "iopub.execute_input": "2020-07-22T13:12:29.091Z",
          "iopub.status.idle": "2020-07-22T13:12:29.181Z",
          "shell.execute_reply": "2020-07-22T13:12:29.193Z"
        }
      }
    },
    {
      "cell_type": "code",
      "source": [
        "Percentile.get_support()"
      ],
      "outputs": [
        {
          "output_type": "execute_result",
          "execution_count": 52,
          "data": {
            "text/plain": "array([False, False, False, False,  True, False, False, False])"
          },
          "metadata": {}
        }
      ],
      "execution_count": 52,
      "metadata": {
        "collapsed": true,
        "jupyter": {
          "source_hidden": false,
          "outputs_hidden": false
        },
        "nteract": {
          "transient": {
            "deleting": false
          }
        },
        "execution": {
          "iopub.status.busy": "2020-07-22T13:12:39.724Z",
          "iopub.execute_input": "2020-07-22T13:12:39.773Z",
          "iopub.status.idle": "2020-07-22T13:12:39.836Z",
          "shell.execute_reply": "2020-07-22T13:12:39.853Z"
        }
      }
    },
    {
      "cell_type": "markdown",
      "source": [
        "## SelectFpr\n",
        "\n"
      ],
      "metadata": {
        "nteract": {
          "transient": {
            "deleting": false
          }
        }
      }
    },
    {
      "cell_type": "code",
      "source": [
        "from sklearn.feature_selection import SelectFpr, chi2\n",
        "Select_fpr  = SelectFpr(chi2, alpha=0.01)\n",
        "Select_fpr .fit_transform(X,Y)"
      ],
      "outputs": [
        {
          "output_type": "execute_result",
          "execution_count": 54,
          "data": {
            "text/plain": "array([[  6. , 148. ,  72. , ...,   0. ,  33.6,  50. ],\n       [  1. ,  85. ,  66. , ...,   0. ,  26.6,  31. ],\n       [  8. , 183. ,  64. , ...,   0. ,  23.3,  32. ],\n       ...,\n       [  5. , 121. ,  72. , ..., 112. ,  26.2,  30. ],\n       [  1. , 126. ,  60. , ...,   0. ,  30.1,  47. ],\n       [  1. ,  93. ,  70. , ...,   0. ,  30.4,  23. ]])"
          },
          "metadata": {}
        }
      ],
      "execution_count": 54,
      "metadata": {
        "collapsed": true,
        "jupyter": {
          "source_hidden": false,
          "outputs_hidden": false
        },
        "nteract": {
          "transient": {
            "deleting": false
          }
        },
        "execution": {
          "iopub.status.busy": "2020-07-22T13:15:49.831Z",
          "iopub.execute_input": "2020-07-22T13:15:49.854Z",
          "iopub.status.idle": "2020-07-22T13:15:49.891Z",
          "shell.execute_reply": "2020-07-22T13:15:49.909Z"
        }
      }
    },
    {
      "cell_type": "code",
      "source": [
        "Select_fpr.get_support()"
      ],
      "outputs": [
        {
          "output_type": "execute_result",
          "execution_count": 56,
          "data": {
            "text/plain": "array([ True,  True,  True,  True,  True,  True, False,  True])"
          },
          "metadata": {}
        }
      ],
      "execution_count": 56,
      "metadata": {
        "collapsed": true,
        "jupyter": {
          "source_hidden": false,
          "outputs_hidden": false
        },
        "nteract": {
          "transient": {
            "deleting": false
          }
        },
        "execution": {
          "iopub.status.busy": "2020-07-22T13:16:09.776Z",
          "iopub.execute_input": "2020-07-22T13:16:09.797Z",
          "iopub.status.idle": "2020-07-22T13:16:09.830Z",
          "shell.execute_reply": "2020-07-22T13:16:09.846Z"
        }
      }
    },
    {
      "cell_type": "markdown",
      "source": [
        "## SelectFdr\n",
        "* Select the p-values for an estimated false discovery rate"
      ],
      "metadata": {
        "nteract": {
          "transient": {
            "deleting": false
          }
        }
      }
    },
    {
      "cell_type": "code",
      "source": [
        "from sklearn.feature_selection import SelectFdr, chi2\n",
        "Select_Fdr = SelectFdr(chi2, alpha=0.01)\n",
        "Select_Fdr.fit_transform(X, Y)"
      ],
      "outputs": [
        {
          "output_type": "execute_result",
          "execution_count": 57,
          "data": {
            "text/plain": "array([[  6. , 148. ,  72. , ...,   0. ,  33.6,  50. ],\n       [  1. ,  85. ,  66. , ...,   0. ,  26.6,  31. ],\n       [  8. , 183. ,  64. , ...,   0. ,  23.3,  32. ],\n       ...,\n       [  5. , 121. ,  72. , ..., 112. ,  26.2,  30. ],\n       [  1. , 126. ,  60. , ...,   0. ,  30.1,  47. ],\n       [  1. ,  93. ,  70. , ...,   0. ,  30.4,  23. ]])"
          },
          "metadata": {}
        }
      ],
      "execution_count": 57,
      "metadata": {
        "collapsed": true,
        "jupyter": {
          "source_hidden": false,
          "outputs_hidden": false
        },
        "nteract": {
          "transient": {
            "deleting": false
          }
        },
        "execution": {
          "iopub.status.busy": "2020-07-22T13:22:31.753Z",
          "iopub.execute_input": "2020-07-22T13:22:31.773Z",
          "iopub.status.idle": "2020-07-22T13:22:31.807Z",
          "shell.execute_reply": "2020-07-22T13:22:31.832Z"
        }
      }
    },
    {
      "cell_type": "code",
      "source": [
        "Select_Fdr.get_support()"
      ],
      "outputs": [
        {
          "output_type": "execute_result",
          "execution_count": 58,
          "data": {
            "text/plain": "array([ True,  True,  True,  True,  True,  True, False,  True])"
          },
          "metadata": {}
        }
      ],
      "execution_count": 58,
      "metadata": {
        "collapsed": true,
        "jupyter": {
          "source_hidden": false,
          "outputs_hidden": false
        },
        "nteract": {
          "transient": {
            "deleting": false
          }
        },
        "execution": {
          "iopub.status.busy": "2020-07-22T13:22:44.599Z",
          "iopub.execute_input": "2020-07-22T13:22:44.622Z",
          "iopub.status.idle": "2020-07-22T13:22:44.655Z",
          "shell.execute_reply": "2020-07-22T13:22:44.675Z"
        }
      }
    },
    {
      "cell_type": "markdown",
      "source": [
        "## GenericUnivariateSelect\n",
        "\n",
        "* Univariate feature selector with configurable strategy."
      ],
      "metadata": {
        "nteract": {
          "transient": {
            "deleting": false
          }
        }
      }
    },
    {
      "cell_type": "code",
      "source": [
        "from sklearn.feature_selection import GenericUnivariateSelect, chi2\n",
        "\n",
        "GUS = GenericUnivariateSelect(chi2, mode='k_best', param=4)\n",
        "GUS.fit_transform(X,Y)"
      ],
      "outputs": [
        {
          "output_type": "execute_result",
          "execution_count": 62,
          "data": {
            "text/plain": "array([[148. ,   0. ,  33.6,  50. ],\n       [ 85. ,   0. ,  26.6,  31. ],\n       [183. ,   0. ,  23.3,  32. ],\n       ...,\n       [121. , 112. ,  26.2,  30. ],\n       [126. ,   0. ,  30.1,  47. ],\n       [ 93. ,   0. ,  30.4,  23. ]])"
          },
          "metadata": {}
        }
      ],
      "execution_count": 62,
      "metadata": {
        "collapsed": true,
        "jupyter": {
          "source_hidden": false,
          "outputs_hidden": false
        },
        "nteract": {
          "transient": {
            "deleting": false
          }
        },
        "execution": {
          "iopub.status.busy": "2020-07-22T13:26:29.982Z",
          "iopub.execute_input": "2020-07-22T13:26:30.013Z",
          "iopub.status.idle": "2020-07-22T13:26:30.050Z",
          "shell.execute_reply": "2020-07-22T13:26:30.066Z"
        }
      }
    },
    {
      "cell_type": "code",
      "source": [
        "GUS.get_support()"
      ],
      "outputs": [
        {
          "output_type": "execute_result",
          "execution_count": 63,
          "data": {
            "text/plain": "array([False,  True, False, False,  True,  True, False,  True])"
          },
          "metadata": {}
        }
      ],
      "execution_count": 63,
      "metadata": {
        "collapsed": true,
        "jupyter": {
          "source_hidden": false,
          "outputs_hidden": false
        },
        "nteract": {
          "transient": {
            "deleting": false
          }
        },
        "execution": {
          "iopub.status.busy": "2020-07-22T13:26:30.641Z",
          "iopub.execute_input": "2020-07-22T13:26:30.660Z",
          "iopub.status.idle": "2020-07-22T13:26:30.694Z",
          "shell.execute_reply": "2020-07-22T13:26:30.709Z"
        }
      }
    },
    {
      "cell_type": "markdown",
      "source": [
        "#### 3. Principal Component Analysis\n",
        "Principal Component Analysis (or PCA) uses linear algebra to transform the dataset into a compressed form.\n",
        "\n",
        "Generally this is called a data reduction technique. A property of PCA is that you can choose the number of dimensions or principal component in the transformed result.\n",
        "\n",
        "In the example below, we use PCA and select 3 principal components.\n",
        "\n",
        "Learn more about the PCA class in scikit-learn by reviewing the PCA API. Dive deeper into the math behind PCA on the Principal Component Analysis [Wikipedia article.](https://en.wikipedia.org/wiki/Principal_component_analysis)\n",
        "\n",
        "![](images/GaussianScatterPCA.svg)"
      ],
      "metadata": {}
    },
    {
      "cell_type": "code",
      "source": [
        "from sklearn.decomposition import PCA"
      ],
      "outputs": [],
      "execution_count": 73,
      "metadata": {
        "execution": {
          "iopub.status.busy": "2020-07-22T13:47:30.628Z",
          "iopub.execute_input": "2020-07-22T13:47:30.700Z",
          "iopub.status.idle": "2020-07-22T13:47:30.803Z",
          "shell.execute_reply": "2020-07-22T13:47:30.831Z"
        }
      }
    },
    {
      "cell_type": "code",
      "source": [
        "X.shape"
      ],
      "outputs": [
        {
          "output_type": "execute_result",
          "execution_count": 74,
          "data": {
            "text/plain": "(768, 8)"
          },
          "metadata": {}
        }
      ],
      "execution_count": 74,
      "metadata": {
        "execution": {
          "iopub.status.busy": "2020-07-22T13:47:31.122Z",
          "iopub.execute_input": "2020-07-22T13:47:31.140Z",
          "iopub.status.idle": "2020-07-22T13:47:31.240Z",
          "shell.execute_reply": "2020-07-22T13:47:31.273Z"
        }
      }
    },
    {
      "cell_type": "code",
      "source": [
        "# feature extraction\n",
        "pca = PCA(n_components=3)\n",
        "fit = pca.fit(X)\n",
        "# summarize components\n",
        "print(\"Explained Variance: %s\" % fit.explained_variance_ratio_)"
      ],
      "outputs": [
        {
          "output_type": "stream",
          "name": "stdout",
          "text": [
            "Explained Variance: [0.889 0.062 0.026]\n"
          ]
        }
      ],
      "execution_count": 75,
      "metadata": {
        "execution": {
          "iopub.status.busy": "2020-07-22T13:47:32.299Z",
          "iopub.execute_input": "2020-07-22T13:47:32.341Z",
          "iopub.status.idle": "2020-07-22T13:47:32.477Z",
          "shell.execute_reply": "2020-07-22T13:47:32.526Z"
        }
      }
    },
    {
      "cell_type": "code",
      "source": [
        "pca.n_features_"
      ],
      "outputs": [
        {
          "output_type": "execute_result",
          "execution_count": 72,
          "data": {
            "text/plain": "8"
          },
          "metadata": {}
        }
      ],
      "execution_count": 72,
      "metadata": {
        "execution": {
          "iopub.status.busy": "2020-07-22T13:47:27.580Z",
          "iopub.execute_input": "2020-07-22T13:47:27.624Z",
          "iopub.status.idle": "2020-07-22T13:47:27.688Z",
          "shell.execute_reply": "2020-07-22T13:47:27.766Z"
        }
      }
    },
    {
      "cell_type": "code",
      "source": [
        "fit.n_components"
      ],
      "outputs": [
        {
          "output_type": "execute_result",
          "execution_count": 76,
          "data": {
            "text/plain": "3"
          },
          "metadata": {}
        }
      ],
      "execution_count": 76,
      "metadata": {
        "collapsed": true,
        "jupyter": {
          "source_hidden": false,
          "outputs_hidden": false
        },
        "nteract": {
          "transient": {
            "deleting": false
          }
        },
        "execution": {
          "iopub.status.busy": "2020-07-22T13:47:35.813Z",
          "iopub.execute_input": "2020-07-22T13:47:35.856Z",
          "iopub.status.idle": "2020-07-22T13:47:35.977Z",
          "shell.execute_reply": "2020-07-22T13:47:36.032Z"
        }
      }
    },
    {
      "cell_type": "code",
      "source": [
        "print(fit.components_)"
      ],
      "outputs": [
        {
          "output_type": "stream",
          "name": "stdout",
          "text": [
            "[[-2.022e-03  9.781e-02  1.609e-02  6.076e-02  9.931e-01  1.401e-02\n",
            "   5.372e-04 -3.565e-03]\n",
            " [-2.265e-02 -9.722e-01 -1.419e-01  5.786e-02  9.463e-02 -4.697e-02\n",
            "  -8.168e-04 -1.402e-01]\n",
            " [-2.246e-02  1.434e-01 -9.225e-01 -3.070e-01  2.098e-02 -1.324e-01\n",
            "  -6.400e-04 -1.255e-01]]\n"
          ]
        }
      ],
      "execution_count": 67,
      "metadata": {
        "execution": {
          "iopub.status.busy": "2020-07-22T13:43:31.643Z",
          "iopub.execute_input": "2020-07-22T13:43:31.696Z",
          "iopub.status.idle": "2020-07-22T13:43:31.799Z",
          "shell.execute_reply": "2020-07-22T13:43:31.855Z"
        }
      }
    },
    {
      "cell_type": "markdown",
      "source": [
        "You can see that the transformed dataset (3 principal components) bare little resemblance to the source data."
      ],
      "metadata": {}
    },
    {
      "cell_type": "markdown",
      "source": [
        "#### 4. Feature Importance\n",
        "Bagged decision trees like Random Forest and Extra Trees can be used to estimate the importance of features.\n",
        "\n",
        "In the example below we construct a ExtraTreesClassifier classifier for the Pima Indians onset of diabetes dataset. You can learn more about the ExtraTreesClassifier class in the scikit-learn API."
      ],
      "metadata": {}
    },
    {
      "cell_type": "code",
      "source": [
        "from sklearn.ensemble import ExtraTreesClassifier\n",
        "# feature extraction\n",
        "model = ExtraTreesClassifier(n_estimators=10)\n",
        "model.fit(X, Y)"
      ],
      "outputs": [
        {
          "output_type": "execute_result",
          "execution_count": 77,
          "data": {
            "text/plain": "ExtraTreesClassifier(n_estimators=10)"
          },
          "metadata": {}
        }
      ],
      "execution_count": 77,
      "metadata": {
        "execution": {
          "iopub.status.busy": "2020-07-22T13:51:16.441Z",
          "iopub.execute_input": "2020-07-22T13:51:16.508Z",
          "iopub.status.idle": "2020-07-22T13:51:16.688Z",
          "shell.execute_reply": "2020-07-22T13:51:16.824Z"
        }
      }
    },
    {
      "cell_type": "code",
      "source": [
        "imp = model.feature_importances_  # 0 to 1 Probablity\n",
        "imp"
      ],
      "outputs": [
        {
          "output_type": "execute_result",
          "execution_count": 79,
          "data": {
            "text/plain": "array([0.12 , 0.225, 0.101, 0.079, 0.078, 0.151, 0.122, 0.125])"
          },
          "metadata": {}
        }
      ],
      "execution_count": 79,
      "metadata": {
        "execution": {
          "iopub.status.busy": "2020-07-22T13:51:39.726Z",
          "iopub.execute_input": "2020-07-22T13:51:39.744Z",
          "iopub.status.idle": "2020-07-22T13:51:39.788Z",
          "shell.execute_reply": "2020-07-22T13:51:39.829Z"
        }
      }
    },
    {
      "cell_type": "code",
      "source": [
        "for I,v in enumerate(imp):\n",
        "    print('Feature: %0d, Score: %.2f' % (I,v))"
      ],
      "outputs": [
        {
          "output_type": "stream",
          "name": "stdout",
          "text": [
            "Feature: 0, Score: 0.12\n",
            "Feature: 1, Score: 0.22\n",
            "Feature: 2, Score: 0.10\n",
            "Feature: 3, Score: 0.08\n",
            "Feature: 4, Score: 0.08\n",
            "Feature: 5, Score: 0.15\n",
            "Feature: 6, Score: 0.12\n",
            "Feature: 7, Score: 0.12\n"
          ]
        }
      ],
      "execution_count": 84,
      "metadata": {
        "collapsed": true,
        "jupyter": {
          "outputs_hidden": true
        },
        "execution": {
          "iopub.status.busy": "2020-07-22T13:54:31.106Z",
          "iopub.execute_input": "2020-07-22T13:54:31.150Z",
          "iopub.status.idle": "2020-07-22T13:54:31.243Z",
          "shell.execute_reply": "2020-07-22T13:54:31.275Z"
        }
      }
    },
    {
      "cell_type": "code",
      "source": [
        "%matplotlib inline\n",
        "plt.bar([x for x in range(len(imp))],imp)\n",
        "plt.show()"
      ],
      "outputs": [
        {
          "output_type": "display_data",
          "data": {
            "text/plain": "<Figure size 432x288 with 1 Axes>",
            "image/png": "[encoded data removed]"
          },
          "metadata": {
            "needs_background": "light"
          }
        }
      ],
      "execution_count": 86,
      "metadata": {
        "collapsed": true,
        "jupyter": {
          "outputs_hidden": true
        },
        "execution": {
          "iopub.status.busy": "2020-07-22T13:54:50.145Z",
          "iopub.execute_input": "2020-07-22T13:54:50.225Z",
          "iopub.status.idle": "2020-07-22T13:54:50.654Z",
          "shell.execute_reply": "2020-07-22T13:54:50.686Z"
        }
      }
    },
    {
      "cell_type": "code",
      "source": [],
      "outputs": [],
      "execution_count": null,
      "metadata": {
        "collapsed": true,
        "jupyter": {
          "source_hidden": false,
          "outputs_hidden": false
        },
        "nteract": {
          "transient": {
            "deleting": false
          }
        }
      }
    }
  ],
  "metadata": {
    "kernelspec": {
      "display_name": "Python 3",
      "language": "python",
      "name": "python3"
    },
    "language_info": {
      "name": "python",
      "version": "3.6.8",
      "mimetype": "text/x-python",
      "codemirror_mode": {
        "name": "ipython",
        "version": 3
      },
      "pygments_lexer": "ipython3",
      "nbconvert_exporter": "python",
      "file_extension": ".py"
    },
    "nteract": {
      "version": "0.24.0"
    }
  },
  "nbformat": 4,
  "nbformat_minor": 4
}