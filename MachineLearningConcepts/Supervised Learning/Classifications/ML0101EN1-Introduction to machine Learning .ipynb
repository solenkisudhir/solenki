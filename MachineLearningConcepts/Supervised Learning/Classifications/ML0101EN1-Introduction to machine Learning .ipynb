{
 "cells": [
  {
   "cell_type": "markdown",
   "metadata": {},
   "source": [
    "<h2 align=center>What is Machine Learning?</h2>\n",
    "\n",
    "Two definitions of Machine Learning are offered. \n",
    "\n",
    "* **Arthur Samuel** described it as: `the field of study that gives computers the ability to learn without being explicitly programmed.` This is an older, informal definition.\n",
    "\n",
    "* **Tom Mitchell** provides a more modern definition: `A computer program is said to learn from experience E with respect to some class of tasks T and performance measure P, if its performance at tasks in T, as measured by P, improves with experience E.`\n",
    "\n",
    "**Example:** playing checkers.\n",
    "\n",
    "* **E** = the experience of playing many games of checkers\n",
    "\n",
    "* **T** = the task of playing checkers.\n",
    "\n",
    "* **P** = the probability that the program will win the next game.\n",
    "\n",
    "In general, any machine learning problem can be assigned to one of `two broad classifications`:\n",
    "\n",
    "* Supervised learning : `the idea is we're going to teach the computer how to do something.` \n",
    "* Unsupervised learning : `Whereas in unsupervised learning, we're going to let it learn by itself.`\n",
    "* Reinfprcement learning\n",
    "* Self learning\n",
    "* Semi-supervised learning"
   ]
  },
  {
   "cell_type": "markdown",
   "metadata": {},
   "source": [
    "For the `checkers playing examples`, \n",
    "* The `experience E` would be the experience of having the program play tens of thousands of games itself. \n",
    "* The `task T` would be the task of playing checkers, and the `performance measure P` will be the probability that wins the next game of checkers against some new opponent."
   ]
  },
  {
   "cell_type": "markdown",
   "metadata": {},
   "source": [
    "1. **Supervised Learning**\n",
    "\n",
    "In supervised learning, we are given a `data set` and already know what our correct output should look like, having the idea that there is a relationship between the input and the output.\n",
    "\n",
    "* Supervised learning problems are categorized into \n",
    "    * `Regression` and \n",
    "    * `Classification` problems. \n",
    "\n",
    "In a `regression problem`, we are trying to `predict` results within a `continuous output`, meaning that we are trying to map input variables to some continuous function. In a classification problem, we are instead trying to predict results in a discrete output. In other words, we are trying to map input variables into discrete categories.\n",
    "\n",
    "\n",
    "### Example 1:\n",
    "\n",
    "Given data about the `size of houses` on the real estate market, try to predict their `price`. Price as a function of size is a `continuous output` or `Numerical`, so this is a regression problem.\n",
    "\n",
    "We could turn this example into a `classification problem` by instead making our output about whether the house \"sells for more or less than the asking price.\" Here we are classifying the houses based on price into two discrete categories.\n",
    "\n",
    "### Example 2:\n",
    "\n",
    "(a) Regression - Given a picture of a person, we have to predict their age on the basis of the given picture\n",
    "\n",
    "(b) Classification - Given a patient with a tumor, we have to predict whether the tumor is malignant or benign."
   ]
  },
  {
   "cell_type": "markdown",
   "metadata": {},
   "source": [
    "2. **Unsupervised Learning**\n",
    "`Unsupervised learning` allows us to approach problems with little or no idea what our results should look like. We can derive structure from data where we don't necessarily know the effect of the variables.\n",
    "\n",
    "We can derive this structure by clustering the data based on relationships among the variables in the data.\n",
    "\n",
    "With unsupervised learning there is no feedback based on the prediction results.\n",
    "\n",
    "**Example:**\n",
    "\n",
    "Clustering: Take a collection of 1,000,000 different genes, and find a way to automatically group these genes into groups that are somehow similar or related by different variables, such as lifespan, location, roles, and so on.\n",
    "\n",
    "Non-clustering: The \"Cocktail Party Algorithm\", allows you to find structure in a chaotic environment. (i.e. identifying individual voices and music from a mesh of sounds at a cocktail party)."
   ]
  },
  {
   "cell_type": "markdown",
   "metadata": {},
   "source": [
    "#### Model Representation\n",
    "\n",
    "* To establish notation for future use, we’ll use $x^{(i)}$to denote the “input” variables (living area in this example), also called input features, and $y^{(i)}$ to denote the “output” or target variable that we are trying to predict (price). \n",
    "* A pair $(x^{(i)} , y^{(i)} )(x(i),y(i))$ is called a training example, and the dataset that we’ll be using to learn—a list of m training examples $(x(i),y(i));i=1,...,m—is called a training set. \n",
    "\n",
    "* Note that the superscript “(i)”$ in the notation is simply an index into the training set, and has nothing to do with exponentiation. We will also use X to denote the space of input values, and Y to denote the space of output values. In this example, X = Y = ℝ.\n",
    "\n",
    "* To describe the supervised learning problem slightly more formally, our goal is, given a training set, to learn a function h : X → Y so that $h(x)$ is a “good” predictor for the corresponding value of y. For historical reasons, this function h is called a hypothesis. Seen pictorially, the process is therefore like this:\n",
    "\n",
    "![](https://lh3.googleusercontent.com/-SpeWgPNdFqs/Xo6-QCBx6HI/AAAAAAAAnsc/saJAcyqHzwYajt0oQ4pC0nqTX0ym0nvdwCK8BGAsYHg/s0/2020-04-08.png)\n",
    "\n",
    "\n",
    "When the target variable that we’re trying to predict is continuous, such as in our housing example, we call the learning problem a regression problem. When y can take on only a small number of discrete values (such as if, given the living area, we wanted to predict if a dwelling is a house or an apartment, say), we call it a classification problem."
   ]
  },
  {
   "cell_type": "markdown",
   "metadata": {},
   "source": [
    "![](https://lh3.googleusercontent.com/-B9C11E4i1dQ/Xo76V36dp_I/AAAAAAAAntE/AGP-bgY-SRs83ReOzZiEq81bs-AoUMWjgCK8BGAsYHg/s0/2020-04-09.png)"
   ]
  },
  {
   "cell_type": "markdown",
   "metadata": {},
   "source": [
    "#### Cost Function\n",
    "We can measure the accuracy of our hypothesis function by using a cost function. This takes an average difference (actually a fancier version of an average) of all the results of the hypothesis with inputs from x's and the actual output y's.\n",
    "\n",
    "$J(\\theta_0, \\theta_1) = \\dfrac {1}{2m} \\displaystyle \\sum _{i=1}^m \\left ( \\hat{y}_{i}- y_{i} \\right)^2 = \\dfrac {1}{2m} \\displaystyle \\sum _{i=1}^m \\left (h_\\theta (x_{i}) - y_{i} \\right)^2$\n",
    "\n",
    "\n"
   ]
  },
  {
   "cell_type": "markdown",
   "metadata": {},
   "source": [
    "To break it apart, it is  $\\frac{1}{2}\\bar{x}$  is the mean of the squares of $h_\\theta (x_{i}) - y_{i}$ or the difference between the predicted value and the actual value."
   ]
  },
  {
   "cell_type": "markdown",
   "metadata": {},
   "source": [
    "* This function is otherwise called the `Squared error function`, or `Mean squared error`. The mean is halved $\\left(\\frac{1}{2}\\right)$ as a convenience for the computation of the gradient descent, as the derivative term of the square function will cancel out the $\\frac{1}{2} $ term. The following image summarizes what the cost function does:"
   ]
  },
  {
   "cell_type": "markdown",
   "metadata": {},
   "source": [
    "![](https://d3c33hcgiwev3.cloudfront.net/imageAssetProxy.v1/R2YF5Lj3EeajLxLfjQiSjg_110c901f58043f995a35b31431935290_Screen-Shot-2016-12-02-at-5.23.31-PM.png?expiry=1586563200000&hmac=nWWfRlih475FV4RoM5my9rCLnR-dQtnAEPG07Lf9sTk)"
   ]
  },
  {
   "cell_type": "markdown",
   "metadata": {},
   "source": [
    "**idea:** Choose $\\theta_0, \\theta_1$ so that $h_0(x)$ is close to y for our training example (x,y)\n"
   ]
  },
  {
   "cell_type": "code",
   "execution_count": null,
   "metadata": {},
   "outputs": [],
   "source": []
  },
  {
   "cell_type": "code",
   "execution_count": null,
   "metadata": {},
   "outputs": [],
   "source": []
  },
  {
   "cell_type": "code",
   "execution_count": null,
   "metadata": {},
   "outputs": [],
   "source": []
  },
  {
   "cell_type": "code",
   "execution_count": null,
   "metadata": {},
   "outputs": [],
   "source": []
  },
  {
   "cell_type": "code",
   "execution_count": null,
   "metadata": {},
   "outputs": [],
   "source": []
  },
  {
   "cell_type": "code",
   "execution_count": null,
   "metadata": {},
   "outputs": [],
   "source": []
  },
  {
   "cell_type": "markdown",
   "metadata": {},
   "source": [
    "\n",
    "The **cost function J(θ)** for logistic regression trained with m≥1 examples is always greater than or equal to zero.\n",
    "\n",
    "which apparently is correct. But I am unable to understand how, when there is clearly a negative sign in the cost function described.\n",
    "\n",
    "\n",
    "$\\begin{align*}& J(\\theta) = \\dfrac{1}{m} \\sum_{i=1}^m \\mathrm{Cost}(h_\\theta(x^{(i)}),y^{(i)}) \\newline & \\mathrm{Cost}(h_\\theta(x),y) = -\\log(h_\\theta(x)) \\; & \\text{if y = 1} \\newline & \\mathrm{Cost}(h_\\theta(x),y) = -\\log(1-h_\\theta(x)) \\; & \\text{if y = 0}\\end{align*}$"
   ]
  },
  {
   "cell_type": "code",
   "execution_count": null,
   "metadata": {},
   "outputs": [],
   "source": []
  }
 ],
 "metadata": {
  "kernelspec": {
   "display_name": "Python 3",
   "language": "python",
   "name": "python3"
  },
  "language_info": {
   "codemirror_mode": {
    "name": "ipython",
    "version": 3
   },
   "file_extension": ".py",
   "mimetype": "text/x-python",
   "name": "python",
   "nbconvert_exporter": "python",
   "pygments_lexer": "ipython3",
   "version": "3.6.8"
  }
 },
 "nbformat": 4,
 "nbformat_minor": 4
}
