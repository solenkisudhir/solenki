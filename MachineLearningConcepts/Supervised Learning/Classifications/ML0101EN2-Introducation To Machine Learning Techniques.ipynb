{
 "cells": [
  {
   "cell_type": "markdown",
   "metadata": {},
   "source": [
    "<img src ='images/Welcome banaer.png'/>\n",
    "<h1 align=center>Machine Learning Technique</h1>\n",
    "\n",
    "* Machine learning (ML) is the scientific study of `algorithms` and `statistical models` that computer systems use to perform a specific task without using explicit instructions, relying on patterns and inference instead. \n",
    "* It is seen as a subset of artificial intelligence. Machine learning algorithms build a mathematical model based on sample data, known as \"training data\", in order to make predictions or decisions without being explicitly programmed to perform the task.\n",
    "* Machine learning algorithms are used in a wide variety of applications, such as email filtering and computer vision, where it is difficult or infeasible to develop a conventional algorithm for effectively performing the task.\n",
    "\n",
    "**Def:** \n",
    "\n",
    "The name machine learning was coined in 1959 by Arthur Samuel.Tom M. Mitchell provided a widely quoted, more formal definition of the algorithms studied in the machine learning field: \"A computer program is said to learn from experience E with respect to some class of tasks T and performance measure P if its performance at tasks in T, as measured by P, improves with experience E.\"\n",
    "\n",
    "<h3 align=center>OR</h3> \n",
    "\n",
    "This definition of the tasks in which machine learning is concerned offers a fundamentally operational definition rather than defining the field in cognitive terms.\n",
    "\n",
    "<img src='https://lh3.googleusercontent.com/-9oFQfIKQXns/Xc5tJ8rhUWI/AAAAAAAAkck/ztZWG0hJamw5_i1aPAGhTnLPudwT13wdgCK8BGAsYHg/s0/2019-11-15.png'>\n",
    "\n",
    "**1. Supervised Learning**<br>\n",
    "**2. Unsupervised Learning**<br>\n",
    "**3. Semi-Supervised Learning**<br>\n",
    "**4. Reinforcement Learning**<br>\n",
    "**5. Self learning**</br>\n",
    "**6. Feature learning**</br>\n",
    "**7. Sparse dictionary learning**</br>\n",
    "**8. Anomaly detection**</br>\n",
    "**9. Association rules**</br>\n",
    "\n",
    "\n",
    "<img src ='https://lh3.googleusercontent.com/-sySfE9oAH6M/Xd5m5eY124I/AAAAAAAAGCw/iixz0im-KBMLARocnzwfJS4Iag00smIqwCK8BGAsYHg/s0/2019-11-27.png'>"
   ]
  },
  {
   "cell_type": "markdown",
   "metadata": {},
   "source": [
    "<h1 align=center>Supervised Learning</h1>\n",
    "\n",
    "<p><code><b>Supervised learning</b></code> is the machine learning task of learning a function that maps an input to an output based on example input-output pairs. It infers a function from labeled training data consisting of a set of training examples.\n",
    "    In supervised learning, each example is a pair consisting of an <code>input object</code> (typically a vector) and a <code>desired output value</code> (also called the supervisory signal). A supervised learning algorithm analyzes the training data and produces an inferred function, which can be used for mapping new examples\n",
    "<p>\n",
    "    \n",
    "    \n",
    "<img align=center src=\"images/Supervised-Learning-Machine-Learning.png\">\n",
    "    \n",
    "    \n",
    "#### Type Of Supervised Learning Algorthims:\n",
    "\n",
    "    1. Regression \n",
    "        * Simple Linear Regression\n",
    "        * Multiple Linear Regression\n",
    "        * Logistic Regression\n",
    "        * Polynomial Regression\n",
    "        * Stepwise Regression\n",
    "        * Ridge Regression\n",
    "        * Lasso Regression\n",
    "        * ElasticNet Regression\n",
    "    2. Classification\n",
    "        * Logistic Regression\n",
    "        * Linear Classifiers\n",
    "            - Logistic regression\n",
    "            - Naive Bayes classifier\n",
    "            - Fisher’s linear discriminant\n",
    "        * Support vector machines\n",
    "            - Least squares support vector machines\n",
    "        * Quadratic classifiers\n",
    "        * Kernel estimation\n",
    "            - k-nearest neighbor \n",
    "        * Decision trees\n",
    "            - Random forests\n",
    "        * Neural networks\n",
    "        * Learning vector quantization \n",
    "    "
   ]
  },
  {
   "cell_type": "markdown",
   "metadata": {},
   "source": [
    "<h1 align='center'>Unsupervised Learning</h1>"
   ]
  },
  {
   "cell_type": "markdown",
   "metadata": {},
   "source": [
    "Unsupervised learning algorithms take a set of data that contains only `inputs`, and find structure in the data, like grouping or clustering of data points. The algorithms therefore learn from test data that has not been labeled, classified or categorized. Instead of responding to feedback, unsupervised learning algorithms identify commonalities in the data and react based on the presence or absence of such commonalities in each new piece of data. A central application of unsupervised learning is in the field of density estimation in statistics,though unsupervised learning encompasses other domains involving summarizing and explaining data features.\n",
    "<img align=center src='images/Unsupervised-Learning-Machine-Learning-Tutorial.png'>"
   ]
  },
  {
   "cell_type": "markdown",
   "metadata": {},
   "source": [
    "<h1 align='center'>Reinforcement Learning</h1>"
   ]
  },
  {
   "cell_type": "markdown",
   "metadata": {},
   "source": [
    "Reinforcement learning is an area of machine learning concerned with how `software agents` ought to take `actions` in an `environment` so as to maximize some notion of cumulative reward. Due to its generality, the field is studied in many other disciplines, such as game theory, control theory, operations research, information theory, simulation-based optimization, multi-agent systems, swarm intelligence, statistics and genetic algorithms. In machine learning, the environment is typically represented as a Markov Decision Process (MDP). Many reinforcement learning algorithms use dynamic programming techniques.Reinforcement learning algorithms do not assume knowledge of an exact mathematical model of the MDP, and are used when exact models are infeasible. Reinforcement learning algorithms are used in autonomous vehicles or in learning to play a game against a human opponent.\n",
    "\n",
    "<img align='center' src='images/Reinforcement-Training-Machine-Learning.png'>"
   ]
  },
  {
   "cell_type": "markdown",
   "metadata": {},
   "source": [
    "<h1 align=center>Self learning</h1>\n",
    "\n",
    "Self learning as machine learning paradigm was introduced in 1982 along with a neural network capable of self-learning named Crossbar Adaptive Array (CAA). [27] It is a learning with no external rewards and no external teacher advices. The CAA self learning algorithm computes, in a crossbar fashion, both decisions about actions and emotions (feelings) about consequence situations. The system is driven by the interaction between cognition and emotion. [28] The self learning algorithm updates a memory matrix W =||w(a,s)|| such that in each iteration executes the following machine learning routine:\n",
    "\n",
    "<img src='images/Self_learning.jfif'>"
   ]
  },
  {
   "cell_type": "markdown",
   "metadata": {},
   "source": [
    "<h1 align='center'>Feature learning</h1>\n",
    "Several learning algorithms aim at discovering better representations of the inputs provided during training.[30] Classic examples include principal components analysis and cluster analysis. Feature learning algorithms, also called representation learning algorithms, often attempt to preserve the information in their input but also transform it in a way that makes it useful, often as a pre-processing step before performing classification or predictions. This technique allows reconstruction of the inputs coming from the unknown data-generating distribution, while not being necessarily faithful to configurations that are implausible under that distribution. This replaces manual feature engineering, and allows a machine to both learn the features and use them to perform a specific task.\n",
    "\n",
    "Feature learning can be either supervised or unsupervised. In supervised feature learning, features are learned using labeled input data. Examples include artificial neural networks, multilayer perceptrons, and supervised dictionary learning. In unsupervised feature learning, features are learned with unlabeled input data. Examples include dictionary learning, independent component analysis, autoencoders, matrix factorization[31] and various forms of clustering."
   ]
  },
  {
   "cell_type": "markdown",
   "metadata": {},
   "source": [
    "<h1 align=center>Sparse dictionary learning</h1>\n",
    "Sparse dictionary learning is a feature learning method where a training example is represented as a linear combination of basis functions, and is assumed to be a sparse matrix. The method is strongly NP-hard and difficult to solve approximately.[37] A popular heuristic method for sparse dictionary learning is the K-SVD algorithm. Sparse dictionary learning has been applied in several contexts. In classification, the problem is to determine the class to which a previously unseen training example belongs. For a dictionary where each class has already been built, a new training example is associated with the class that is best sparsely represented by the corresponding dictionary. Sparse dictionary learning has also been applied in image de-noising. The key idea is that a clean image patch can be sparsely represented by an image dictionary, but the noise cannot"
   ]
  },
  {
   "cell_type": "markdown",
   "metadata": {},
   "source": [
    "<img src ='https://lh3.googleusercontent.com/-gy0OLZvOZHM/Xd5pnTCqxTI/AAAAAAAAGDM/J5TVzychjsUz8MM_pUGFM7hFko1qa7JBgCK8BGAsYHg/s0/2019-11-27.png'>"
   ]
  },
  {
   "cell_type": "markdown",
   "metadata": {},
   "source": [
    "### Steps for Machine Learning"
   ]
  },
  {
   "cell_type": "markdown",
   "metadata": {},
   "source": [
    "1. **Step 1:** Gather Data\n",
    "2. **Step 2:** Explore Your DataExploratory data analysis\n",
    "\n",
    "    2.1 **Step 2.0:** Descriptive Statistics\n",
    "    \n",
    "    2.2 **Step 2.1:** Diagnosis Statistics\n",
    "    \n",
    "    2.3 **Step 2.3:** Exploratory data analysis\n",
    "    \n",
    "    2.4 **Step 2.4:** Data Selection\n",
    "    \n",
    "    2.5 **Step 2.5:** Data Preprocessing\n",
    "    \n",
    "    2.6 **Step 2.6:** Data Cleaning\n",
    "    \n",
    "    2.7 **Step 2.7** Data Reporting\n",
    "    \n",
    "3. **Step 3:** Choose a Model\n",
    "4. **Step 4:** Prepare Your Data\n",
    "5. **Step 5:** Build, Train, and Evaluate Your Model\n",
    "6. **Step 6:** Tune Hyperparameters\n",
    "7. **Step 7:** Deploy Your Model\n",
    "\n",
    "\n",
    "\n",
    "<img src='images/data-science-process.png'/>"
   ]
  }
 ],
 "metadata": {
  "kernelspec": {
   "display_name": "Python 3",
   "language": "python",
   "name": "python3"
  },
  "language_info": {
   "codemirror_mode": {
    "name": "ipython",
    "version": 3
   },
   "file_extension": ".py",
   "mimetype": "text/x-python",
   "name": "python",
   "nbconvert_exporter": "python",
   "pygments_lexer": "ipython3",
   "version": "3.6.8"
  }
 },
 "nbformat": 4,
 "nbformat_minor": 4
}
